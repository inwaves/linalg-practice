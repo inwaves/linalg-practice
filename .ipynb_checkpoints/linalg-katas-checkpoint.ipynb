{
 "cells": [
  {
   "cell_type": "markdown",
   "metadata": {},
   "source": [
    "## These are katas on linear algebra from [Codewars](https://codewars.com)\n",
    "\n",
    "### 1. Given two vectors, find the permutations of these vectors such that their dot product is minimal."
   ]
  },
  {
   "cell_type": "markdown",
   "metadata": {},
   "source": [
    "Reasoning: it's minimal only if the largest elements in one vector are multiplied by the smallest elements in the other. We achieve this by sorting one of the vectors in reverse order."
   ]
  },
  {
   "cell_type": "code",
   "execution_count": 10,
   "metadata": {},
   "outputs": [],
   "source": [
    "def dot(a, b):\n",
    "    \"\"\"Calculates the dot product of two vectors stored as Python lists\"\"\"\n",
    "    \n",
    "    if not (len(a) and len(b)):\n",
    "        raise Exception(\"One of the vectors is empty.\")\n",
    "        \n",
    "    res = 0\n",
    "    for i in range(0, len(a)):\n",
    "        res += a[i]*b[i]\n",
    "    return res\n",
    "\n",
    "def min_dot(a, b):\n",
    "    a.sort()\n",
    "    b.sort(reverse=True)\n",
    "    return dot(a, b)"
   ]
  },
  {
   "cell_type": "markdown",
   "metadata": {},
   "source": [
    "### 2. Transmission in a matrix of given dimensions. See full kata [here](https://www.codewars.com/kata/59568be9cc15b57637000054)."
   ]
  },
  {
   "cell_type": "markdown",
   "metadata": {},
   "source": [
    "Naive solution:"
   ]
  },
  {
   "cell_type": "code",
   "execution_count": 12,
   "metadata": {},
   "outputs": [],
   "source": [
    "import numpy as np\n",
    "\n",
    "def elder_age(m, n, l, t):\n",
    "    \"\"\"parameters:\n",
    "        mxn matrix of \"worshippers\"\n",
    "        l : transmission loss (integer)\n",
    "        t : time steps (integer)\n",
    "    \"\"\"\n",
    "    A = np.zeros((m, n)) # starting with a zero matrix\n",
    "    for i in range(0, m):\n",
    "        for j in range(0, n):\n",
    "            A[i][j] = i ^ j # setting each element to XOR of coordinates\n",
    "            if A[i][j] >= l:\n",
    "                A[i][j] = (A[i][j]-l)%t # weakening signal and applying time \"format\"\n",
    "            else:\n",
    "                A[i][j] = 0 # transmission loss causes our signal to drop out\n",
    "    return np.sum(A)"
   ]
  },
  {
   "cell_type": "code",
   "execution_count": null,
   "metadata": {},
   "outputs": [],
   "source": []
  }
 ],
 "metadata": {
  "kernelspec": {
   "display_name": "Python 3",
   "language": "python",
   "name": "python3"
  },
  "language_info": {
   "codemirror_mode": {
    "name": "ipython",
    "version": 3
   },
   "file_extension": ".py",
   "mimetype": "text/x-python",
   "name": "python",
   "nbconvert_exporter": "python",
   "pygments_lexer": "ipython3",
   "version": "3.8.5"
  }
 },
 "nbformat": 4,
 "nbformat_minor": 4
}
