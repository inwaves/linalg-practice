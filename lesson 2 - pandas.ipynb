{
 "cells": [
  {
   "cell_type": "code",
   "execution_count": 1,
   "metadata": {
    "executionInfo": {
     "elapsed": 1093,
     "status": "ok",
     "timestamp": 1601849057875,
     "user": {
      "displayName": "Sharmin Rouf",
      "photoUrl": "",
      "userId": "07014860915014612811"
     },
     "user_tz": -60
    },
    "id": "iE3n-_Bm8svb"
   },
   "outputs": [],
   "source": [
    "import pandas as pd \n",
    "# pandas are used for data manipulation, lists and pandas are the only way to manipulate data around."
   ]
  },
  {
   "cell_type": "markdown",
   "metadata": {
    "id": "n1hPyzxy9C_a"
   },
   "source": [
    "---\n",
    "---\n",
    "---\n",
    "# Core components, Series and DataFrame\n",
    "A Series is a column, and a DataFrame is a multi-dimensional table made up of a collection of Series.\n",
    "![picture](https://storage.googleapis.com/lds-media/images/series-and-dataframe.width-1200.png)\n"
   ]
  },
  {
   "cell_type": "markdown",
   "metadata": {
    "id": "7e8BBeDv9pL-"
   },
   "source": [
    "---\n",
    "---\n",
    "---\n",
    "# Creating, loading, storing data"
   ]
  },
  {
   "cell_type": "markdown",
   "metadata": {
    "id": "Z0uLplNmBw_1"
   },
   "source": [
    "---\n",
    "\n",
    "## Creating DataFrames from Lists"
   ]
  },
  {
   "cell_type": "markdown",
   "metadata": {
    "id": "1UiFKdpS4Gfn"
   },
   "source": [
    "To create a `DataFrame` from lists, we use `pd.DataFrame()` function.\n",
    "\n",
    "This function will take parameters \n",
    "*  `df_1, df_2, df_3` - list we want use as the data source. It has to be in a nested list format - [ [x1, y1], [x2, y2], [x3, y3]  ] into `df` variable\n",
    "\n",
    "*   `column_names` - names of the columns [ name_x, name_y ]"
   ]
  },
  {
   "cell_type": "code",
   "execution_count": 2,
   "metadata": {
    "colab": {
     "base_uri": "https://localhost:8080/",
     "height": 143
    },
    "executionInfo": {
     "elapsed": 943,
     "status": "ok",
     "timestamp": 1601754902303,
     "user": {
      "displayName": "Sharmin Rouf",
      "photoUrl": "",
      "userId": "07014860915014612811"
     },
     "user_tz": -60
    },
    "id": "BP69dukB-zmJ",
    "outputId": "a16e9243-8672-4a2e-b084-7a940989a5ff"
   },
   "outputs": [
    {
     "data": {
      "text/html": [
       "<div>\n",
       "<style scoped>\n",
       "    .dataframe tbody tr th:only-of-type {\n",
       "        vertical-align: middle;\n",
       "    }\n",
       "\n",
       "    .dataframe tbody tr th {\n",
       "        vertical-align: top;\n",
       "    }\n",
       "\n",
       "    .dataframe thead th {\n",
       "        text-align: right;\n",
       "    }\n",
       "</style>\n",
       "<table border=\"1\" class=\"dataframe\">\n",
       "  <thead>\n",
       "    <tr style=\"text-align: right;\">\n",
       "      <th></th>\n",
       "      <th>Name</th>\n",
       "      <th>Age</th>\n",
       "    </tr>\n",
       "  </thead>\n",
       "  <tbody>\n",
       "    <tr>\n",
       "      <th>0</th>\n",
       "      <td>bilu</td>\n",
       "      <td>19</td>\n",
       "    </tr>\n",
       "    <tr>\n",
       "      <th>1</th>\n",
       "      <td>shamuritooo</td>\n",
       "      <td>21</td>\n",
       "    </tr>\n",
       "    <tr>\n",
       "      <th>2</th>\n",
       "      <td>dannu</td>\n",
       "      <td>16</td>\n",
       "    </tr>\n",
       "  </tbody>\n",
       "</table>\n",
       "</div>"
      ],
      "text/plain": [
       "          Name  Age\n",
       "0         bilu   19\n",
       "1  shamuritooo   21\n",
       "2        dannu   16"
      ]
     },
     "execution_count": 2,
     "metadata": {},
     "output_type": "execute_result"
    }
   ],
   "source": [
    "df_1 = [\"bilu\", 19]\n",
    "df_2 = [\"shamuritooo\", 21]\n",
    "df_3 = [\"dannu\", 16]\n",
    "\n",
    "df = [df_1, df_2, df_3] \n",
    "column_names = ['Name', 'Age']\n",
    "\n",
    "df = pd.DataFrame(data = df, \n",
    "                  columns = column_names) \n",
    "df "
   ]
  },
  {
   "cell_type": "markdown",
   "metadata": {
    "id": "nFE4qYVV7hpi"
   },
   "source": [
    "Notice that the approach above, requires a new list for every single data row. This is useful when you are adding new rows to an already existing list, like during a `for loop`.\n",
    "\n",
    "To append a row to `DataFrame` we need to create a new `DataFrame` with the data we wish to append, and then use `df.append()`"
   ]
  },
  {
   "cell_type": "code",
   "execution_count": 3,
   "metadata": {
    "colab": {
     "base_uri": "https://localhost:8080/",
     "height": 238
    },
    "executionInfo": {
     "elapsed": 1186,
     "status": "ok",
     "timestamp": 1601755256133,
     "user": {
      "displayName": "Sharmin Rouf",
      "photoUrl": "",
      "userId": "07014860915014612811"
     },
     "user_tz": -60
    },
    "id": "LoTGWBX58rSp",
    "outputId": "00a6e2d5-0a6f-4a44-8065-d03969db774c"
   },
   "outputs": [
    {
     "data": {
      "text/html": [
       "<div>\n",
       "<style scoped>\n",
       "    .dataframe tbody tr th:only-of-type {\n",
       "        vertical-align: middle;\n",
       "    }\n",
       "\n",
       "    .dataframe tbody tr th {\n",
       "        vertical-align: top;\n",
       "    }\n",
       "\n",
       "    .dataframe thead th {\n",
       "        text-align: right;\n",
       "    }\n",
       "</style>\n",
       "<table border=\"1\" class=\"dataframe\">\n",
       "  <thead>\n",
       "    <tr style=\"text-align: right;\">\n",
       "      <th></th>\n",
       "      <th>Name</th>\n",
       "      <th>Age</th>\n",
       "    </tr>\n",
       "  </thead>\n",
       "  <tbody>\n",
       "    <tr>\n",
       "      <th>0</th>\n",
       "      <td>bilu</td>\n",
       "      <td>19</td>\n",
       "    </tr>\n",
       "    <tr>\n",
       "      <th>1</th>\n",
       "      <td>shamuritooo</td>\n",
       "      <td>21</td>\n",
       "    </tr>\n",
       "    <tr>\n",
       "      <th>2</th>\n",
       "      <td>dannu</td>\n",
       "      <td>16</td>\n",
       "    </tr>\n",
       "    <tr>\n",
       "      <th>0</th>\n",
       "      <td>new data</td>\n",
       "      <td>13</td>\n",
       "    </tr>\n",
       "  </tbody>\n",
       "</table>\n",
       "</div>"
      ],
      "text/plain": [
       "          Name  Age\n",
       "0         bilu   19\n",
       "1  shamuritooo   21\n",
       "2        dannu   16\n",
       "0     new data   13"
      ]
     },
     "execution_count": 3,
     "metadata": {},
     "output_type": "execute_result"
    }
   ],
   "source": [
    "new_data = [\"new data\", 13]\n",
    "new_data = [new_data]\n",
    "df_to_append = pd.DataFrame(data = new_data, \n",
    "                            columns = column_names) \n",
    "\n",
    "df = df.append(df_to_append)\n",
    "df"
   ]
  },
  {
   "cell_type": "markdown",
   "metadata": {
    "id": "Lui0lrF0ZYSI"
   },
   "source": [
    "If you have a `list` of values, that represent one variable, and you need to to add it to the `DataFrame` as one column, use `list(zip())` function:\n"
   ]
  },
  {
   "cell_type": "code",
   "execution_count": 4,
   "metadata": {
    "colab": {
     "base_uri": "https://localhost:8080/",
     "height": 206
    },
    "executionInfo": {
     "elapsed": 828,
     "status": "ok",
     "timestamp": 1601755418859,
     "user": {
      "displayName": "Sharmin Rouf",
      "photoUrl": "",
      "userId": "07014860915014612811"
     },
     "user_tz": -60
    },
    "id": "PrLieqlF98AT",
    "outputId": "6a1f7fd7-eb76-464e-f503-c85b699b3871"
   },
   "outputs": [
    {
     "data": {
      "text/html": [
       "<div>\n",
       "<style scoped>\n",
       "    .dataframe tbody tr th:only-of-type {\n",
       "        vertical-align: middle;\n",
       "    }\n",
       "\n",
       "    .dataframe tbody tr th {\n",
       "        vertical-align: top;\n",
       "    }\n",
       "\n",
       "    .dataframe thead th {\n",
       "        text-align: right;\n",
       "    }\n",
       "</style>\n",
       "<table border=\"1\" class=\"dataframe\">\n",
       "  <thead>\n",
       "    <tr style=\"text-align: right;\">\n",
       "      <th></th>\n",
       "      <th>apples</th>\n",
       "      <th>oranges</th>\n",
       "    </tr>\n",
       "  </thead>\n",
       "  <tbody>\n",
       "    <tr>\n",
       "      <th>bilu</th>\n",
       "      <td>0</td>\n",
       "      <td>7</td>\n",
       "    </tr>\n",
       "    <tr>\n",
       "      <th>shamurito</th>\n",
       "      <td>1</td>\n",
       "      <td>2</td>\n",
       "    </tr>\n",
       "    <tr>\n",
       "      <th>Dannu</th>\n",
       "      <td>6</td>\n",
       "      <td>1</td>\n",
       "    </tr>\n",
       "    <tr>\n",
       "      <th>rasto</th>\n",
       "      <td>3</td>\n",
       "      <td>7</td>\n",
       "    </tr>\n",
       "    <tr>\n",
       "      <th>mato</th>\n",
       "      <td>6</td>\n",
       "      <td>6</td>\n",
       "    </tr>\n",
       "  </tbody>\n",
       "</table>\n",
       "</div>"
      ],
      "text/plain": [
       "           apples  oranges\n",
       "bilu            0        7\n",
       "shamurito       1        2\n",
       "Dannu           6        1\n",
       "rasto           3        7\n",
       "mato            6        6"
      ]
     },
     "execution_count": 4,
     "metadata": {},
     "output_type": "execute_result"
    }
   ],
   "source": [
    "df_1 = [0, 1, 6, 3, 6]\n",
    "df_2 = [ 7, 2, 1, 7, 6]\n",
    "\n",
    "df = list(zip(df_1, df_2))\n",
    "column_names = ['apples', 'oranges']\n",
    "index_values = ['bilu', 'shamurito', \"Dannu\", \"rasto\", \"mato\"]\n",
    "\n",
    "df = pd.DataFrame(data = df, \n",
    "                  columns = column_names, \n",
    "                  index = index_values)\n",
    "df"
   ]
  },
  {
   "cell_type": "markdown",
   "metadata": {
    "id": "YLr5I-LXaJxs"
   },
   "source": [
    "If we wish to append a `row` we use the same approach as before."
   ]
  },
  {
   "cell_type": "code",
   "execution_count": null,
   "metadata": {
    "colab": {
     "base_uri": "https://localhost:8080/",
     "height": 235
    },
    "executionInfo": {
     "elapsed": 416,
     "status": "ok",
     "timestamp": 1600997723786,
     "user": {
      "displayName": "Daniel Anton",
      "photoUrl": "",
      "userId": "07817160354765211624"
     },
     "user_tz": -60
    },
    "id": "HoswRl3nZxGo",
    "outputId": "525fc258-d197-49b2-e784-2117e5bcfcd2"
   },
   "outputs": [
    {
     "data": {
      "text/html": [
       "<div>\n",
       "<style scoped>\n",
       "    .dataframe tbody tr th:only-of-type {\n",
       "        vertical-align: middle;\n",
       "    }\n",
       "\n",
       "    .dataframe tbody tr th {\n",
       "        vertical-align: top;\n",
       "    }\n",
       "\n",
       "    .dataframe thead th {\n",
       "        text-align: right;\n",
       "    }\n",
       "</style>\n",
       "<table border=\"1\" class=\"dataframe\">\n",
       "  <thead>\n",
       "    <tr style=\"text-align: right;\">\n",
       "      <th></th>\n",
       "      <th>apples</th>\n",
       "      <th>oranges</th>\n",
       "    </tr>\n",
       "  </thead>\n",
       "  <tbody>\n",
       "    <tr>\n",
       "      <th>bilu</th>\n",
       "      <td>0</td>\n",
       "      <td>7</td>\n",
       "    </tr>\n",
       "    <tr>\n",
       "      <th>shamurito</th>\n",
       "      <td>1</td>\n",
       "      <td>2</td>\n",
       "    </tr>\n",
       "    <tr>\n",
       "      <th>Dannu</th>\n",
       "      <td>6</td>\n",
       "      <td>1</td>\n",
       "    </tr>\n",
       "    <tr>\n",
       "      <th>rasto</th>\n",
       "      <td>3</td>\n",
       "      <td>7</td>\n",
       "    </tr>\n",
       "    <tr>\n",
       "      <th>mato</th>\n",
       "      <td>6</td>\n",
       "      <td>6</td>\n",
       "    </tr>\n",
       "    <tr>\n",
       "      <th>apppend_single</th>\n",
       "      <td>4</td>\n",
       "      <td>4</td>\n",
       "    </tr>\n",
       "  </tbody>\n",
       "</table>\n",
       "</div>"
      ],
      "text/plain": [
       "                apples  oranges\n",
       "bilu                 0        7\n",
       "shamurito            1        2\n",
       "Dannu                6        1\n",
       "rasto                3        7\n",
       "mato                 6        6\n",
       "apppend_single       4        4"
      ]
     },
     "execution_count": 15,
     "metadata": {
      "tags": []
     },
     "output_type": "execute_result"
    }
   ],
   "source": [
    "new_data = [4, 4]\n",
    "df_to_append = pd.DataFrame(data = [new_data], \n",
    "                            columns = column_names,\n",
    "                            index = [\"apppend_single\"]) \n",
    "\n",
    "df = df.append(df_to_append)\n",
    "df"
   ]
  },
  {
   "cell_type": "markdown",
   "metadata": {
    "id": "8HfSb5Eva0nf"
   },
   "source": [
    "If you wish to append list with multiple valuies, similarly to before, use `list(zip())` approach to create `DataFrame`, and then use `df.append()` function."
   ]
  },
  {
   "cell_type": "code",
   "execution_count": null,
   "metadata": {
    "colab": {
     "base_uri": "https://localhost:8080/",
     "height": 328
    },
    "executionInfo": {
     "elapsed": 475,
     "status": "ok",
     "timestamp": 1600997725223,
     "user": {
      "displayName": "Daniel Anton",
      "photoUrl": "",
      "userId": "07817160354765211624"
     },
     "user_tz": -60
    },
    "id": "F7VDorT4aR0q",
    "outputId": "1e3b884c-213d-464b-f624-a607ef51021b"
   },
   "outputs": [
    {
     "data": {
      "text/html": [
       "<div>\n",
       "<style scoped>\n",
       "    .dataframe tbody tr th:only-of-type {\n",
       "        vertical-align: middle;\n",
       "    }\n",
       "\n",
       "    .dataframe tbody tr th {\n",
       "        vertical-align: top;\n",
       "    }\n",
       "\n",
       "    .dataframe thead th {\n",
       "        text-align: right;\n",
       "    }\n",
       "</style>\n",
       "<table border=\"1\" class=\"dataframe\">\n",
       "  <thead>\n",
       "    <tr style=\"text-align: right;\">\n",
       "      <th></th>\n",
       "      <th>apples</th>\n",
       "      <th>oranges</th>\n",
       "    </tr>\n",
       "  </thead>\n",
       "  <tbody>\n",
       "    <tr>\n",
       "      <th>bilu</th>\n",
       "      <td>0</td>\n",
       "      <td>7</td>\n",
       "    </tr>\n",
       "    <tr>\n",
       "      <th>shamurito</th>\n",
       "      <td>1</td>\n",
       "      <td>2</td>\n",
       "    </tr>\n",
       "    <tr>\n",
       "      <th>Dannu</th>\n",
       "      <td>6</td>\n",
       "      <td>1</td>\n",
       "    </tr>\n",
       "    <tr>\n",
       "      <th>rasto</th>\n",
       "      <td>3</td>\n",
       "      <td>7</td>\n",
       "    </tr>\n",
       "    <tr>\n",
       "      <th>mato</th>\n",
       "      <td>6</td>\n",
       "      <td>6</td>\n",
       "    </tr>\n",
       "    <tr>\n",
       "      <th>apppend_single</th>\n",
       "      <td>4</td>\n",
       "      <td>4</td>\n",
       "    </tr>\n",
       "    <tr>\n",
       "      <th>append_list_zip_1</th>\n",
       "      <td>10</td>\n",
       "      <td>10</td>\n",
       "    </tr>\n",
       "    <tr>\n",
       "      <th>append_list_zip_2</th>\n",
       "      <td>10</td>\n",
       "      <td>10</td>\n",
       "    </tr>\n",
       "    <tr>\n",
       "      <th>append_list_zip_3</th>\n",
       "      <td>10</td>\n",
       "      <td>10</td>\n",
       "    </tr>\n",
       "  </tbody>\n",
       "</table>\n",
       "</div>"
      ],
      "text/plain": [
       "                   apples  oranges\n",
       "bilu                    0        7\n",
       "shamurito               1        2\n",
       "Dannu                   6        1\n",
       "rasto                   3        7\n",
       "mato                    6        6\n",
       "apppend_single          4        4\n",
       "append_list_zip_1      10       10\n",
       "append_list_zip_2      10       10\n",
       "append_list_zip_3      10       10"
      ]
     },
     "execution_count": 16,
     "metadata": {
      "tags": []
     },
     "output_type": "execute_result"
    }
   ],
   "source": [
    "df_1 = [10, 10, 10]\n",
    "df_2 = [10, 10, 10]\n",
    "\n",
    "data_to_append = list(zip(df_1, df_2))\n",
    "column_names = ['apples', 'oranges']\n",
    "index_values = [\"append_list_zip_1\", \"append_list_zip_2\", \"append_list_zip_3\"]\n",
    "\n",
    "df_to_append = pd.DataFrame(data = data_to_append, \n",
    "                            columns = column_names, \n",
    "                            index = index_values)\n",
    "df = df.append(df_to_append)\n",
    "df"
   ]
  },
  {
   "cell_type": "markdown",
   "metadata": {
    "id": "ADehqQHlAVvP"
   },
   "source": [
    "---\n",
    "\n",
    "## Reading data from CSV\n",
    "\n",
    "Read the data a CSV file, and inport it as `DataFrame`, using `pd.read_csv()`"
   ]
  },
  {
   "cell_type": "markdown",
   "metadata": {
    "id": "dT0_DVo677PI"
   },
   "source": [
    "### From CSV file\n",
    "\n",
    "If the file is saved locally, you can read the file by specifying its location in the hardrive.\n",
    "\n",
    "To do this in the `Google Colab`, go to the sidebar on the top left of your screen , open the `Files` section, and locate the file you wish to read. `Right click` and `copy path`. The location to the file is now saved, now, `paste` it into the `pd.read_csv()` funtion.\n",
    "\n",
    "If you want to set a specific column from your dataset as the index, you use `index_col=0` parameter"
   ]
  },
  {
   "cell_type": "code",
   "execution_count": null,
   "metadata": {
    "colab": {
     "base_uri": "https://localhost:8080/",
     "height": 444
    },
    "executionInfo": {
     "elapsed": 832,
     "status": "ok",
     "timestamp": 1601755800542,
     "user": {
      "displayName": "Sharmin Rouf",
      "photoUrl": "",
      "userId": "07014860915014612811"
     },
     "user_tz": -60
    },
    "id": "bXTXNzK0A9pq",
    "outputId": "07b91136-eee5-4d9f-942f-45a5bcaa2d5f"
   },
   "outputs": [
    {
     "data": {
      "text/html": [
       "<div>\n",
       "<style scoped>\n",
       "    .dataframe tbody tr th:only-of-type {\n",
       "        vertical-align: middle;\n",
       "    }\n",
       "\n",
       "    .dataframe tbody tr th {\n",
       "        vertical-align: top;\n",
       "    }\n",
       "\n",
       "    .dataframe thead th {\n",
       "        text-align: right;\n",
       "    }\n",
       "</style>\n",
       "<table border=\"1\" class=\"dataframe\">\n",
       "  <thead>\n",
       "    <tr style=\"text-align: right;\">\n",
       "      <th></th>\n",
       "      <th>longitude</th>\n",
       "      <th>latitude</th>\n",
       "      <th>housing_median_age</th>\n",
       "      <th>total_rooms</th>\n",
       "      <th>total_bedrooms</th>\n",
       "      <th>population</th>\n",
       "      <th>households</th>\n",
       "      <th>median_income</th>\n",
       "      <th>median_house_value</th>\n",
       "    </tr>\n",
       "  </thead>\n",
       "  <tbody>\n",
       "    <tr>\n",
       "      <th>0</th>\n",
       "      <td>-122.05</td>\n",
       "      <td>37.37</td>\n",
       "      <td>27.0</td>\n",
       "      <td>3885.0</td>\n",
       "      <td>661.0</td>\n",
       "      <td>1537.0</td>\n",
       "      <td>606.0</td>\n",
       "      <td>6.6085</td>\n",
       "      <td>344700.0</td>\n",
       "    </tr>\n",
       "    <tr>\n",
       "      <th>1</th>\n",
       "      <td>-118.30</td>\n",
       "      <td>34.26</td>\n",
       "      <td>43.0</td>\n",
       "      <td>1510.0</td>\n",
       "      <td>310.0</td>\n",
       "      <td>809.0</td>\n",
       "      <td>277.0</td>\n",
       "      <td>3.5990</td>\n",
       "      <td>176500.0</td>\n",
       "    </tr>\n",
       "    <tr>\n",
       "      <th>2</th>\n",
       "      <td>-117.81</td>\n",
       "      <td>33.78</td>\n",
       "      <td>27.0</td>\n",
       "      <td>3589.0</td>\n",
       "      <td>507.0</td>\n",
       "      <td>1484.0</td>\n",
       "      <td>495.0</td>\n",
       "      <td>5.7934</td>\n",
       "      <td>270500.0</td>\n",
       "    </tr>\n",
       "    <tr>\n",
       "      <th>3</th>\n",
       "      <td>-118.36</td>\n",
       "      <td>33.82</td>\n",
       "      <td>28.0</td>\n",
       "      <td>67.0</td>\n",
       "      <td>15.0</td>\n",
       "      <td>49.0</td>\n",
       "      <td>11.0</td>\n",
       "      <td>6.1359</td>\n",
       "      <td>330000.0</td>\n",
       "    </tr>\n",
       "    <tr>\n",
       "      <th>4</th>\n",
       "      <td>-119.67</td>\n",
       "      <td>36.33</td>\n",
       "      <td>19.0</td>\n",
       "      <td>1241.0</td>\n",
       "      <td>244.0</td>\n",
       "      <td>850.0</td>\n",
       "      <td>237.0</td>\n",
       "      <td>2.9375</td>\n",
       "      <td>81700.0</td>\n",
       "    </tr>\n",
       "    <tr>\n",
       "      <th>...</th>\n",
       "      <td>...</td>\n",
       "      <td>...</td>\n",
       "      <td>...</td>\n",
       "      <td>...</td>\n",
       "      <td>...</td>\n",
       "      <td>...</td>\n",
       "      <td>...</td>\n",
       "      <td>...</td>\n",
       "      <td>...</td>\n",
       "    </tr>\n",
       "    <tr>\n",
       "      <th>2995</th>\n",
       "      <td>-119.86</td>\n",
       "      <td>34.42</td>\n",
       "      <td>23.0</td>\n",
       "      <td>1450.0</td>\n",
       "      <td>642.0</td>\n",
       "      <td>1258.0</td>\n",
       "      <td>607.0</td>\n",
       "      <td>1.1790</td>\n",
       "      <td>225000.0</td>\n",
       "    </tr>\n",
       "    <tr>\n",
       "      <th>2996</th>\n",
       "      <td>-118.14</td>\n",
       "      <td>34.06</td>\n",
       "      <td>27.0</td>\n",
       "      <td>5257.0</td>\n",
       "      <td>1082.0</td>\n",
       "      <td>3496.0</td>\n",
       "      <td>1036.0</td>\n",
       "      <td>3.3906</td>\n",
       "      <td>237200.0</td>\n",
       "    </tr>\n",
       "    <tr>\n",
       "      <th>2997</th>\n",
       "      <td>-119.70</td>\n",
       "      <td>36.30</td>\n",
       "      <td>10.0</td>\n",
       "      <td>956.0</td>\n",
       "      <td>201.0</td>\n",
       "      <td>693.0</td>\n",
       "      <td>220.0</td>\n",
       "      <td>2.2895</td>\n",
       "      <td>62000.0</td>\n",
       "    </tr>\n",
       "    <tr>\n",
       "      <th>2998</th>\n",
       "      <td>-117.12</td>\n",
       "      <td>34.10</td>\n",
       "      <td>40.0</td>\n",
       "      <td>96.0</td>\n",
       "      <td>14.0</td>\n",
       "      <td>46.0</td>\n",
       "      <td>14.0</td>\n",
       "      <td>3.2708</td>\n",
       "      <td>162500.0</td>\n",
       "    </tr>\n",
       "    <tr>\n",
       "      <th>2999</th>\n",
       "      <td>-119.63</td>\n",
       "      <td>34.42</td>\n",
       "      <td>42.0</td>\n",
       "      <td>1765.0</td>\n",
       "      <td>263.0</td>\n",
       "      <td>753.0</td>\n",
       "      <td>260.0</td>\n",
       "      <td>8.5608</td>\n",
       "      <td>500001.0</td>\n",
       "    </tr>\n",
       "  </tbody>\n",
       "</table>\n",
       "<p>3000 rows × 9 columns</p>\n",
       "</div>"
      ],
      "text/plain": [
       "      longitude  latitude  ...  median_income  median_house_value\n",
       "0       -122.05     37.37  ...         6.6085            344700.0\n",
       "1       -118.30     34.26  ...         3.5990            176500.0\n",
       "2       -117.81     33.78  ...         5.7934            270500.0\n",
       "3       -118.36     33.82  ...         6.1359            330000.0\n",
       "4       -119.67     36.33  ...         2.9375             81700.0\n",
       "...         ...       ...  ...            ...                 ...\n",
       "2995    -119.86     34.42  ...         1.1790            225000.0\n",
       "2996    -118.14     34.06  ...         3.3906            237200.0\n",
       "2997    -119.70     36.30  ...         2.2895             62000.0\n",
       "2998    -117.12     34.10  ...         3.2708            162500.0\n",
       "2999    -119.63     34.42  ...         8.5608            500001.0\n",
       "\n",
       "[3000 rows x 9 columns]"
      ]
     },
     "execution_count": 12,
     "metadata": {
      "tags": []
     },
     "output_type": "execute_result"
    }
   ],
   "source": [
    "df = pd.read_csv(\"/content/sample_data/california_housing_test.csv\")\n",
    "df"
   ]
  },
  {
   "cell_type": "markdown",
   "metadata": {
    "id": "S-XVAoqu9lzh"
   },
   "source": [
    "#### Manually upload files\n"
   ]
  },
  {
   "cell_type": "markdown",
   "metadata": {
    "id": "ryF1i9krE-6a"
   },
   "source": [
    "\n",
    "Manually by dragging and releasing the file onto the side-bar, when you have `Files` section opened. This way you can eaasily create new folders, and sort it out."
   ]
  },
  {
   "cell_type": "markdown",
   "metadata": {
    "id": "--RsULad-K_r"
   },
   "source": [
    "\n",
    "\n",
    "---\n",
    "\n",
    "#### Link Google Drive \n",
    "\n",
    "Sign in to your `Google Drive`, and have instantaneous access to files stored there. "
   ]
  },
  {
   "cell_type": "code",
   "execution_count": null,
   "metadata": {
    "colab": {
     "base_uri": "https://localhost:8080/",
     "height": 35
    },
    "executionInfo": {
     "elapsed": 39017,
     "status": "ok",
     "timestamp": 1601756118354,
     "user": {
      "displayName": "Sharmin Rouf",
      "photoUrl": "",
      "userId": "07014860915014612811"
     },
     "user_tz": -60
    },
    "id": "bnDbgduj-8Oz",
    "outputId": "ac880e86-ebcb-45dd-f6d1-90ade4973d6f"
   },
   "outputs": [
    {
     "name": "stdout",
     "output_type": "stream",
     "text": [
      "Mounted at /content/gdrive\n"
     ]
    }
   ],
   "source": [
    "from google.colab import drive\n",
    "drive.mount('/content/gdrive')"
   ]
  },
  {
   "cell_type": "markdown",
   "metadata": {
    "id": "DpGTUcAt_WoI"
   },
   "source": [
    "Now, when you notice in the `Files` section, you have a folder `gdrive`, where you can locate the data you have stored there, and can use it accordingly. Likewise, you will be able to save graphs, results, anything right onto your `Google Drive`."
   ]
  },
  {
   "cell_type": "markdown",
   "metadata": {
    "id": "rY5MBgZH7-3c"
   },
   "source": [
    "#### Link to downloadable CSV file\n",
    "\n",
    "If you have downloadable link of your data-set, you can use it in the following way.\n",
    "\n",
    "Note that the link nor the file can be protected by a password, otherwise it will cause problems. "
   ]
  },
  {
   "cell_type": "code",
   "execution_count": null,
   "metadata": {
    "colab": {
     "base_uri": "https://localhost:8080/",
     "height": 419
    },
    "executionInfo": {
     "elapsed": 2952,
     "status": "ok",
     "timestamp": 1600742422539,
     "user": {
      "displayName": "Daniel Anton",
      "photoUrl": "",
      "userId": "07817160354765211624"
     },
     "user_tz": -60
    },
    "id": "Un5GXQuDAqaF",
    "outputId": "b9eabd07-a8a6-4633-ee0f-0e191a2f1b70"
   },
   "outputs": [
    {
     "data": {
      "text/html": [
       "<div>\n",
       "<style scoped>\n",
       "    .dataframe tbody tr th:only-of-type {\n",
       "        vertical-align: middle;\n",
       "    }\n",
       "\n",
       "    .dataframe tbody tr th {\n",
       "        vertical-align: top;\n",
       "    }\n",
       "\n",
       "    .dataframe thead th {\n",
       "        text-align: right;\n",
       "    }\n",
       "</style>\n",
       "<table border=\"1\" class=\"dataframe\">\n",
       "  <thead>\n",
       "    <tr style=\"text-align: right;\">\n",
       "      <th></th>\n",
       "      <th>Country</th>\n",
       "      <th>Region</th>\n",
       "    </tr>\n",
       "  </thead>\n",
       "  <tbody>\n",
       "    <tr>\n",
       "      <th>0</th>\n",
       "      <td>Algeria</td>\n",
       "      <td>AFRICA</td>\n",
       "    </tr>\n",
       "    <tr>\n",
       "      <th>1</th>\n",
       "      <td>Angola</td>\n",
       "      <td>AFRICA</td>\n",
       "    </tr>\n",
       "    <tr>\n",
       "      <th>2</th>\n",
       "      <td>Benin</td>\n",
       "      <td>AFRICA</td>\n",
       "    </tr>\n",
       "    <tr>\n",
       "      <th>3</th>\n",
       "      <td>Botswana</td>\n",
       "      <td>AFRICA</td>\n",
       "    </tr>\n",
       "    <tr>\n",
       "      <th>4</th>\n",
       "      <td>Burkina</td>\n",
       "      <td>AFRICA</td>\n",
       "    </tr>\n",
       "    <tr>\n",
       "      <th>...</th>\n",
       "      <td>...</td>\n",
       "      <td>...</td>\n",
       "    </tr>\n",
       "    <tr>\n",
       "      <th>189</th>\n",
       "      <td>Paraguay</td>\n",
       "      <td>SOUTH AMERICA</td>\n",
       "    </tr>\n",
       "    <tr>\n",
       "      <th>190</th>\n",
       "      <td>Peru</td>\n",
       "      <td>SOUTH AMERICA</td>\n",
       "    </tr>\n",
       "    <tr>\n",
       "      <th>191</th>\n",
       "      <td>Suriname</td>\n",
       "      <td>SOUTH AMERICA</td>\n",
       "    </tr>\n",
       "    <tr>\n",
       "      <th>192</th>\n",
       "      <td>Uruguay</td>\n",
       "      <td>SOUTH AMERICA</td>\n",
       "    </tr>\n",
       "    <tr>\n",
       "      <th>193</th>\n",
       "      <td>Venezuela</td>\n",
       "      <td>SOUTH AMERICA</td>\n",
       "    </tr>\n",
       "  </tbody>\n",
       "</table>\n",
       "<p>194 rows × 2 columns</p>\n",
       "</div>"
      ],
      "text/plain": [
       "       Country         Region\n",
       "0      Algeria         AFRICA\n",
       "1       Angola         AFRICA\n",
       "2        Benin         AFRICA\n",
       "3     Botswana         AFRICA\n",
       "4      Burkina         AFRICA\n",
       "..         ...            ...\n",
       "189   Paraguay  SOUTH AMERICA\n",
       "190       Peru  SOUTH AMERICA\n",
       "191   Suriname  SOUTH AMERICA\n",
       "192    Uruguay  SOUTH AMERICA\n",
       "193  Venezuela  SOUTH AMERICA\n",
       "\n",
       "[194 rows x 2 columns]"
      ]
     },
     "execution_count": 2,
     "metadata": {
      "tags": []
     },
     "output_type": "execute_result"
    }
   ],
   "source": [
    "url=\"https://raw.githubusercontent.com/cs109/2014_data/master/countries.csv\"\n",
    "df = pd.read_csv(url)\n",
    "df"
   ]
  },
  {
   "cell_type": "markdown",
   "metadata": {
    "id": "nsL2kdYsBLvE"
   },
   "source": [
    "---\n",
    "\n",
    "## Saving DataFrame to CSV\n",
    "\n",
    "If you wish to save a `DataFrame` as a CSV, you use `nameofyourdataframe.to_csv()` and inside the function you name it `name.csv`, with the extension you want the result to have `.csv` in the example."
   ]
  },
  {
   "cell_type": "code",
   "execution_count": null,
   "metadata": {
    "id": "KqmgCa-dBQMn"
   },
   "outputs": [],
   "source": [
    "df.to_csv('name_of_the_saved_csv.csv')"
   ]
  },
  {
   "cell_type": "markdown",
   "metadata": {
    "id": "JgXlrm_HBBie"
   },
   "source": [
    "You can now go to `Files` section and manually download it.\n",
    "\n",
    "---\n",
    "\n",
    "Or, you can set up a code that copies the result to your google drive, by using command:\n",
    "\n",
    "> `!cp -r name_of_the_saved_file path_to_save_folder_at_google_drive`\n",
    "\n",
    "\n",
    "\n",
    "Following the previous example, `name_of_the_saved_file` would be `new_purchases.csv`\n",
    "\n",
    "`path_to_save_folder_at_google_drive` can be obtained by locating it in the `Folders` section `gdrive - My Drive - ...` and using `Copy path` at the destination folder. Note that when you paste it, you will need to use `\\` in fron of spaces, otherwise it will give you `cp: target 'something is not a directory`, example:\n",
    "\n",
    "Copy path result: `/content/gdrive/My Drive/Colab Notebooks/Data`\n",
    "\n",
    "Change it to this: `/content/gdrive/My\\ Drive/Colab\\ Notebooks/Data`"
   ]
  },
  {
   "cell_type": "code",
   "execution_count": null,
   "metadata": {
    "id": "HSAwPmAZA098"
   },
   "outputs": [],
   "source": [
    "!cp -r new_purchases.csv /content/gdrive/My\\ Drive/Colab\\ Notebooks/Data"
   ]
  },
  {
   "cell_type": "markdown",
   "metadata": {
    "id": "2O0UFLDMB8SY"
   },
   "source": [
    "---\n",
    "---\n",
    "---\n",
    "\n",
    "# Important functionality"
   ]
  },
  {
   "cell_type": "markdown",
   "metadata": {
    "id": "VpB-lgzTYMbS"
   },
   "source": [
    "---\n",
    "\n",
    "## Load CSV data from a link\n",
    "\n",
    "Using `pd.read_csv()` with url link to the download destination of the data-set."
   ]
  },
  {
   "cell_type": "code",
   "execution_count": 2,
   "metadata": {
    "colab": {
     "base_uri": "https://localhost:8080/",
     "height": 574
    },
    "executionInfo": {
     "elapsed": 1602,
     "status": "ok",
     "timestamp": 1601849066264,
     "user": {
      "displayName": "Sharmin Rouf",
      "photoUrl": "",
      "userId": "07014860915014612811"
     },
     "user_tz": -60
    },
    "id": "Q53uZm8NCDjq",
    "outputId": "12bd6900-1dde-4a6a-d788-eae50317ca3c"
   },
   "outputs": [
    {
     "data": {
      "text/html": [
       "<div>\n",
       "<style scoped>\n",
       "    .dataframe tbody tr th:only-of-type {\n",
       "        vertical-align: middle;\n",
       "    }\n",
       "\n",
       "    .dataframe tbody tr th {\n",
       "        vertical-align: top;\n",
       "    }\n",
       "\n",
       "    .dataframe thead th {\n",
       "        text-align: right;\n",
       "    }\n",
       "</style>\n",
       "<table border=\"1\" class=\"dataframe\">\n",
       "  <thead>\n",
       "    <tr style=\"text-align: right;\">\n",
       "      <th></th>\n",
       "      <th>Rank</th>\n",
       "      <th>Title</th>\n",
       "      <th>Genre</th>\n",
       "      <th>Description</th>\n",
       "      <th>Director</th>\n",
       "      <th>Actors</th>\n",
       "      <th>Year</th>\n",
       "      <th>Runtime (Minutes)</th>\n",
       "      <th>Rating</th>\n",
       "      <th>Votes</th>\n",
       "      <th>Revenue (Millions)</th>\n",
       "      <th>Metascore</th>\n",
       "    </tr>\n",
       "  </thead>\n",
       "  <tbody>\n",
       "    <tr>\n",
       "      <th>0</th>\n",
       "      <td>1</td>\n",
       "      <td>Guardians of the Galaxy</td>\n",
       "      <td>Action,Adventure,Sci-Fi</td>\n",
       "      <td>A group of intergalactic criminals are forced ...</td>\n",
       "      <td>James Gunn</td>\n",
       "      <td>Chris Pratt, Vin Diesel, Bradley Cooper, Zoe S...</td>\n",
       "      <td>2014</td>\n",
       "      <td>121</td>\n",
       "      <td>8.1</td>\n",
       "      <td>757074</td>\n",
       "      <td>333.13</td>\n",
       "      <td>76.0</td>\n",
       "    </tr>\n",
       "    <tr>\n",
       "      <th>1</th>\n",
       "      <td>2</td>\n",
       "      <td>Prometheus</td>\n",
       "      <td>Adventure,Mystery,Sci-Fi</td>\n",
       "      <td>Following clues to the origin of mankind, a te...</td>\n",
       "      <td>Ridley Scott</td>\n",
       "      <td>Noomi Rapace, Logan Marshall-Green, Michael Fa...</td>\n",
       "      <td>2012</td>\n",
       "      <td>124</td>\n",
       "      <td>7.0</td>\n",
       "      <td>485820</td>\n",
       "      <td>126.46</td>\n",
       "      <td>65.0</td>\n",
       "    </tr>\n",
       "    <tr>\n",
       "      <th>2</th>\n",
       "      <td>3</td>\n",
       "      <td>Split</td>\n",
       "      <td>Horror,Thriller</td>\n",
       "      <td>Three girls are kidnapped by a man with a diag...</td>\n",
       "      <td>M. Night Shyamalan</td>\n",
       "      <td>James McAvoy, Anya Taylor-Joy, Haley Lu Richar...</td>\n",
       "      <td>2016</td>\n",
       "      <td>117</td>\n",
       "      <td>7.3</td>\n",
       "      <td>157606</td>\n",
       "      <td>138.12</td>\n",
       "      <td>62.0</td>\n",
       "    </tr>\n",
       "    <tr>\n",
       "      <th>3</th>\n",
       "      <td>4</td>\n",
       "      <td>Sing</td>\n",
       "      <td>Animation,Comedy,Family</td>\n",
       "      <td>In a city of humanoid animals, a hustling thea...</td>\n",
       "      <td>Christophe Lourdelet</td>\n",
       "      <td>Matthew McConaughey,Reese Witherspoon, Seth Ma...</td>\n",
       "      <td>2016</td>\n",
       "      <td>108</td>\n",
       "      <td>7.2</td>\n",
       "      <td>60545</td>\n",
       "      <td>270.32</td>\n",
       "      <td>59.0</td>\n",
       "    </tr>\n",
       "    <tr>\n",
       "      <th>4</th>\n",
       "      <td>5</td>\n",
       "      <td>Suicide Squad</td>\n",
       "      <td>Action,Adventure,Fantasy</td>\n",
       "      <td>A secret government agency recruits some of th...</td>\n",
       "      <td>David Ayer</td>\n",
       "      <td>Will Smith, Jared Leto, Margot Robbie, Viola D...</td>\n",
       "      <td>2016</td>\n",
       "      <td>123</td>\n",
       "      <td>6.2</td>\n",
       "      <td>393727</td>\n",
       "      <td>325.02</td>\n",
       "      <td>40.0</td>\n",
       "    </tr>\n",
       "  </tbody>\n",
       "</table>\n",
       "</div>"
      ],
      "text/plain": [
       "   Rank                    Title  ... Revenue (Millions) Metascore\n",
       "0     1  Guardians of the Galaxy  ...             333.13      76.0\n",
       "1     2               Prometheus  ...             126.46      65.0\n",
       "2     3                    Split  ...             138.12      62.0\n",
       "3     4                     Sing  ...             270.32      59.0\n",
       "4     5            Suicide Squad  ...             325.02      40.0\n",
       "\n",
       "[5 rows x 12 columns]"
      ]
     },
     "execution_count": 2,
     "metadata": {
      "tags": []
     },
     "output_type": "execute_result"
    }
   ],
   "source": [
    "url = \"https://raw.githubusercontent.com/LearnDataSci/articles/master/Python%20Pandas%20Tutorial%20A%20Complete%20Introduction%20for%20Beginners/IMDB-Movie-Data.csv\"\n",
    "df_movies = pd.read_csv(url)\n",
    "df_movies.head() # head is first five rows in the dataframe"
   ]
  },
  {
   "cell_type": "markdown",
   "metadata": {
    "id": "vWBg5dnjYfOu"
   },
   "source": [
    "We want the `Title` column to be the `index`, instead of numbers, so that we can easily search for the entries. To do this, use `index_col=\"Title\"` as a parameter in `pd.read_csv()` function:"
   ]
  },
  {
   "cell_type": "code",
   "execution_count": 3,
   "metadata": {
    "colab": {
     "base_uri": "https://localhost:8080/",
     "height": 605
    },
    "executionInfo": {
     "elapsed": 1767,
     "status": "ok",
     "timestamp": 1601849068996,
     "user": {
      "displayName": "Sharmin Rouf",
      "photoUrl": "",
      "userId": "07014860915014612811"
     },
     "user_tz": -60
    },
    "id": "TcHYtyjqDHY0",
    "outputId": "ac34f231-5d7d-4dce-c0b6-f95fa8a33441"
   },
   "outputs": [
    {
     "data": {
      "text/html": [
       "<div>\n",
       "<style scoped>\n",
       "    .dataframe tbody tr th:only-of-type {\n",
       "        vertical-align: middle;\n",
       "    }\n",
       "\n",
       "    .dataframe tbody tr th {\n",
       "        vertical-align: top;\n",
       "    }\n",
       "\n",
       "    .dataframe thead th {\n",
       "        text-align: right;\n",
       "    }\n",
       "</style>\n",
       "<table border=\"1\" class=\"dataframe\">\n",
       "  <thead>\n",
       "    <tr style=\"text-align: right;\">\n",
       "      <th></th>\n",
       "      <th>Rank</th>\n",
       "      <th>Genre</th>\n",
       "      <th>Description</th>\n",
       "      <th>Director</th>\n",
       "      <th>Actors</th>\n",
       "      <th>Year</th>\n",
       "      <th>Runtime (Minutes)</th>\n",
       "      <th>Rating</th>\n",
       "      <th>Votes</th>\n",
       "      <th>Revenue (Millions)</th>\n",
       "      <th>Metascore</th>\n",
       "    </tr>\n",
       "    <tr>\n",
       "      <th>Title</th>\n",
       "      <th></th>\n",
       "      <th></th>\n",
       "      <th></th>\n",
       "      <th></th>\n",
       "      <th></th>\n",
       "      <th></th>\n",
       "      <th></th>\n",
       "      <th></th>\n",
       "      <th></th>\n",
       "      <th></th>\n",
       "      <th></th>\n",
       "    </tr>\n",
       "  </thead>\n",
       "  <tbody>\n",
       "    <tr>\n",
       "      <th>Guardians of the Galaxy</th>\n",
       "      <td>1</td>\n",
       "      <td>Action,Adventure,Sci-Fi</td>\n",
       "      <td>A group of intergalactic criminals are forced ...</td>\n",
       "      <td>James Gunn</td>\n",
       "      <td>Chris Pratt, Vin Diesel, Bradley Cooper, Zoe S...</td>\n",
       "      <td>2014</td>\n",
       "      <td>121</td>\n",
       "      <td>8.1</td>\n",
       "      <td>757074</td>\n",
       "      <td>333.13</td>\n",
       "      <td>76.0</td>\n",
       "    </tr>\n",
       "    <tr>\n",
       "      <th>Prometheus</th>\n",
       "      <td>2</td>\n",
       "      <td>Adventure,Mystery,Sci-Fi</td>\n",
       "      <td>Following clues to the origin of mankind, a te...</td>\n",
       "      <td>Ridley Scott</td>\n",
       "      <td>Noomi Rapace, Logan Marshall-Green, Michael Fa...</td>\n",
       "      <td>2012</td>\n",
       "      <td>124</td>\n",
       "      <td>7.0</td>\n",
       "      <td>485820</td>\n",
       "      <td>126.46</td>\n",
       "      <td>65.0</td>\n",
       "    </tr>\n",
       "    <tr>\n",
       "      <th>Split</th>\n",
       "      <td>3</td>\n",
       "      <td>Horror,Thriller</td>\n",
       "      <td>Three girls are kidnapped by a man with a diag...</td>\n",
       "      <td>M. Night Shyamalan</td>\n",
       "      <td>James McAvoy, Anya Taylor-Joy, Haley Lu Richar...</td>\n",
       "      <td>2016</td>\n",
       "      <td>117</td>\n",
       "      <td>7.3</td>\n",
       "      <td>157606</td>\n",
       "      <td>138.12</td>\n",
       "      <td>62.0</td>\n",
       "    </tr>\n",
       "    <tr>\n",
       "      <th>Sing</th>\n",
       "      <td>4</td>\n",
       "      <td>Animation,Comedy,Family</td>\n",
       "      <td>In a city of humanoid animals, a hustling thea...</td>\n",
       "      <td>Christophe Lourdelet</td>\n",
       "      <td>Matthew McConaughey,Reese Witherspoon, Seth Ma...</td>\n",
       "      <td>2016</td>\n",
       "      <td>108</td>\n",
       "      <td>7.2</td>\n",
       "      <td>60545</td>\n",
       "      <td>270.32</td>\n",
       "      <td>59.0</td>\n",
       "    </tr>\n",
       "    <tr>\n",
       "      <th>Suicide Squad</th>\n",
       "      <td>5</td>\n",
       "      <td>Action,Adventure,Fantasy</td>\n",
       "      <td>A secret government agency recruits some of th...</td>\n",
       "      <td>David Ayer</td>\n",
       "      <td>Will Smith, Jared Leto, Margot Robbie, Viola D...</td>\n",
       "      <td>2016</td>\n",
       "      <td>123</td>\n",
       "      <td>6.2</td>\n",
       "      <td>393727</td>\n",
       "      <td>325.02</td>\n",
       "      <td>40.0</td>\n",
       "    </tr>\n",
       "  </tbody>\n",
       "</table>\n",
       "</div>"
      ],
      "text/plain": [
       "                         Rank  ... Metascore\n",
       "Title                          ...          \n",
       "Guardians of the Galaxy     1  ...      76.0\n",
       "Prometheus                  2  ...      65.0\n",
       "Split                       3  ...      62.0\n",
       "Sing                        4  ...      59.0\n",
       "Suicide Squad               5  ...      40.0\n",
       "\n",
       "[5 rows x 11 columns]"
      ]
     },
     "execution_count": 3,
     "metadata": {
      "tags": []
     },
     "output_type": "execute_result"
    }
   ],
   "source": [
    "df_movies = pd.read_csv(url, index_col=\"Title\")\n",
    "df_movies.head()"
   ]
  },
  {
   "cell_type": "markdown",
   "metadata": {
    "id": "6Vt49drmY85l"
   },
   "source": [
    "---\n",
    "\n",
    "## Viewing data\n",
    "\n",
    "Using `.head()`, `.tail`, `.sample()`"
   ]
  },
  {
   "cell_type": "markdown",
   "metadata": {
    "id": "K4OCpn0XZWWh"
   },
   "source": [
    "`.head()` outputs the first five rows of your DataFrame\n",
    "\n",
    "`.tail()` outputs the last five rows of your DataFrame\n",
    "\n",
    "`.sample()` outputs the **random** five rows of your DataFrame\n",
    "\n",
    "All 3 of the above can take a `number as an input`, changing the number of displayed entries from default five to the `specified number`."
   ]
  },
  {
   "cell_type": "code",
   "execution_count": null,
   "metadata": {
    "colab": {
     "base_uri": "https://localhost:8080/",
     "height": 446
    },
    "executionInfo": {
     "elapsed": 549,
     "status": "ok",
     "timestamp": 1601829088408,
     "user": {
      "displayName": "Sharmin Rouf",
      "photoUrl": "",
      "userId": "07014860915014612811"
     },
     "user_tz": -60
    },
    "id": "7nd5s2QhZEMR",
    "outputId": "cb7f0922-158d-44d1-e684-4a4a8d828d04"
   },
   "outputs": [
    {
     "data": {
      "text/html": [
       "<div>\n",
       "<style scoped>\n",
       "    .dataframe tbody tr th:only-of-type {\n",
       "        vertical-align: middle;\n",
       "    }\n",
       "\n",
       "    .dataframe tbody tr th {\n",
       "        vertical-align: top;\n",
       "    }\n",
       "\n",
       "    .dataframe thead th {\n",
       "        text-align: right;\n",
       "    }\n",
       "</style>\n",
       "<table border=\"1\" class=\"dataframe\">\n",
       "  <thead>\n",
       "    <tr style=\"text-align: right;\">\n",
       "      <th></th>\n",
       "      <th>Rank</th>\n",
       "      <th>Genre</th>\n",
       "      <th>Description</th>\n",
       "      <th>Director</th>\n",
       "      <th>Actors</th>\n",
       "      <th>Year</th>\n",
       "      <th>Runtime (Minutes)</th>\n",
       "      <th>Rating</th>\n",
       "      <th>Votes</th>\n",
       "      <th>Revenue (Millions)</th>\n",
       "      <th>Metascore</th>\n",
       "    </tr>\n",
       "    <tr>\n",
       "      <th>Title</th>\n",
       "      <th></th>\n",
       "      <th></th>\n",
       "      <th></th>\n",
       "      <th></th>\n",
       "      <th></th>\n",
       "      <th></th>\n",
       "      <th></th>\n",
       "      <th></th>\n",
       "      <th></th>\n",
       "      <th></th>\n",
       "      <th></th>\n",
       "    </tr>\n",
       "  </thead>\n",
       "  <tbody>\n",
       "    <tr>\n",
       "      <th>Guardians of the Galaxy</th>\n",
       "      <td>1</td>\n",
       "      <td>Action,Adventure,Sci-Fi</td>\n",
       "      <td>A group of intergalactic criminals are forced ...</td>\n",
       "      <td>James Gunn</td>\n",
       "      <td>Chris Pratt, Vin Diesel, Bradley Cooper, Zoe S...</td>\n",
       "      <td>2014</td>\n",
       "      <td>121</td>\n",
       "      <td>8.1</td>\n",
       "      <td>757074</td>\n",
       "      <td>333.13</td>\n",
       "      <td>76.0</td>\n",
       "    </tr>\n",
       "    <tr>\n",
       "      <th>Prometheus</th>\n",
       "      <td>2</td>\n",
       "      <td>Adventure,Mystery,Sci-Fi</td>\n",
       "      <td>Following clues to the origin of mankind, a te...</td>\n",
       "      <td>Ridley Scott</td>\n",
       "      <td>Noomi Rapace, Logan Marshall-Green, Michael Fa...</td>\n",
       "      <td>2012</td>\n",
       "      <td>124</td>\n",
       "      <td>7.0</td>\n",
       "      <td>485820</td>\n",
       "      <td>126.46</td>\n",
       "      <td>65.0</td>\n",
       "    </tr>\n",
       "    <tr>\n",
       "      <th>Split</th>\n",
       "      <td>3</td>\n",
       "      <td>Horror,Thriller</td>\n",
       "      <td>Three girls are kidnapped by a man with a diag...</td>\n",
       "      <td>M. Night Shyamalan</td>\n",
       "      <td>James McAvoy, Anya Taylor-Joy, Haley Lu Richar...</td>\n",
       "      <td>2016</td>\n",
       "      <td>117</td>\n",
       "      <td>7.3</td>\n",
       "      <td>157606</td>\n",
       "      <td>138.12</td>\n",
       "      <td>62.0</td>\n",
       "    </tr>\n",
       "    <tr>\n",
       "      <th>Sing</th>\n",
       "      <td>4</td>\n",
       "      <td>Animation,Comedy,Family</td>\n",
       "      <td>In a city of humanoid animals, a hustling thea...</td>\n",
       "      <td>Christophe Lourdelet</td>\n",
       "      <td>Matthew McConaughey,Reese Witherspoon, Seth Ma...</td>\n",
       "      <td>2016</td>\n",
       "      <td>108</td>\n",
       "      <td>7.2</td>\n",
       "      <td>60545</td>\n",
       "      <td>270.32</td>\n",
       "      <td>59.0</td>\n",
       "    </tr>\n",
       "    <tr>\n",
       "      <th>Suicide Squad</th>\n",
       "      <td>5</td>\n",
       "      <td>Action,Adventure,Fantasy</td>\n",
       "      <td>A secret government agency recruits some of th...</td>\n",
       "      <td>David Ayer</td>\n",
       "      <td>Will Smith, Jared Leto, Margot Robbie, Viola D...</td>\n",
       "      <td>2016</td>\n",
       "      <td>123</td>\n",
       "      <td>6.2</td>\n",
       "      <td>393727</td>\n",
       "      <td>325.02</td>\n",
       "      <td>40.0</td>\n",
       "    </tr>\n",
       "  </tbody>\n",
       "</table>\n",
       "</div>"
      ],
      "text/plain": [
       "                         Rank  ... Metascore\n",
       "Title                          ...          \n",
       "Guardians of the Galaxy     1  ...      76.0\n",
       "Prometheus                  2  ...      65.0\n",
       "Split                       3  ...      62.0\n",
       "Sing                        4  ...      59.0\n",
       "Suicide Squad               5  ...      40.0\n",
       "\n",
       "[5 rows x 11 columns]"
      ]
     },
     "execution_count": 7,
     "metadata": {
      "tags": []
     },
     "output_type": "execute_result"
    }
   ],
   "source": [
    "df_movies.head()"
   ]
  },
  {
   "cell_type": "markdown",
   "metadata": {
    "id": "DCtU38DnZvCN"
   },
   "source": [
    "First thing when we load a dataset is always viewing a sample of rows to see how does it look. Here we can see the names of each column, the index, and examples of values in each row.\n",
    "\n",
    "Personally I prefer to use `.sample()` because it yields random entries. Often what happens is that the data-set is neatly ordered by similar rows, meaning when we use `.head()` it will show entries that are very similar. Using `.sample()` gives a better view of the data-set. "
   ]
  },
  {
   "cell_type": "code",
   "execution_count": null,
   "metadata": {
    "colab": {
     "base_uri": "https://localhost:8080/",
     "height": 481
    },
    "executionInfo": {
     "elapsed": 473,
     "status": "ok",
     "timestamp": 1600737962702,
     "user": {
      "displayName": "Daniel Anton",
      "photoUrl": "",
      "userId": "07817160354765211624"
     },
     "user_tz": -60
    },
    "id": "e-DALf4-aruD",
    "outputId": "80d501f2-a24c-4e90-a6a1-ebd7e6b6deaf"
   },
   "outputs": [
    {
     "data": {
      "text/html": [
       "<div>\n",
       "<style scoped>\n",
       "    .dataframe tbody tr th:only-of-type {\n",
       "        vertical-align: middle;\n",
       "    }\n",
       "\n",
       "    .dataframe tbody tr th {\n",
       "        vertical-align: top;\n",
       "    }\n",
       "\n",
       "    .dataframe thead th {\n",
       "        text-align: right;\n",
       "    }\n",
       "</style>\n",
       "<table border=\"1\" class=\"dataframe\">\n",
       "  <thead>\n",
       "    <tr style=\"text-align: right;\">\n",
       "      <th></th>\n",
       "      <th>Rank</th>\n",
       "      <th>Genre</th>\n",
       "      <th>Description</th>\n",
       "      <th>Director</th>\n",
       "      <th>Actors</th>\n",
       "      <th>Year</th>\n",
       "      <th>Runtime (Minutes)</th>\n",
       "      <th>Rating</th>\n",
       "      <th>Votes</th>\n",
       "      <th>Revenue (Millions)</th>\n",
       "      <th>Metascore</th>\n",
       "    </tr>\n",
       "    <tr>\n",
       "      <th>Title</th>\n",
       "      <th></th>\n",
       "      <th></th>\n",
       "      <th></th>\n",
       "      <th></th>\n",
       "      <th></th>\n",
       "      <th></th>\n",
       "      <th></th>\n",
       "      <th></th>\n",
       "      <th></th>\n",
       "      <th></th>\n",
       "      <th></th>\n",
       "    </tr>\n",
       "  </thead>\n",
       "  <tbody>\n",
       "    <tr>\n",
       "      <th>Slumdog Millionaire</th>\n",
       "      <td>366</td>\n",
       "      <td>Drama</td>\n",
       "      <td>A Mumbai teen reflects on his upbringing in th...</td>\n",
       "      <td>Danny Boyle</td>\n",
       "      <td>Dev Patel, Freida Pinto, Saurabh Shukla, Anil ...</td>\n",
       "      <td>2008</td>\n",
       "      <td>120</td>\n",
       "      <td>8.0</td>\n",
       "      <td>677044</td>\n",
       "      <td>141.32</td>\n",
       "      <td>86.0</td>\n",
       "    </tr>\n",
       "    <tr>\n",
       "      <th>Law Abiding Citizen</th>\n",
       "      <td>499</td>\n",
       "      <td>Crime,Drama,Thriller</td>\n",
       "      <td>A frustrated man decides to take justice into ...</td>\n",
       "      <td>F. Gary Gray</td>\n",
       "      <td>Gerard Butler, Jamie Foxx, Leslie Bibb, Colm M...</td>\n",
       "      <td>2009</td>\n",
       "      <td>109</td>\n",
       "      <td>7.4</td>\n",
       "      <td>228339</td>\n",
       "      <td>73.34</td>\n",
       "      <td>34.0</td>\n",
       "    </tr>\n",
       "    <tr>\n",
       "      <th>Inland Empire</th>\n",
       "      <td>966</td>\n",
       "      <td>Drama,Mystery,Thriller</td>\n",
       "      <td>As an actress starts to adopt the persona of h...</td>\n",
       "      <td>David Lynch</td>\n",
       "      <td>Laura Dern, Jeremy Irons, Justin Theroux, Karo...</td>\n",
       "      <td>2006</td>\n",
       "      <td>180</td>\n",
       "      <td>7.0</td>\n",
       "      <td>44227</td>\n",
       "      <td>NaN</td>\n",
       "      <td>NaN</td>\n",
       "    </tr>\n",
       "    <tr>\n",
       "      <th>Free State of Jones</th>\n",
       "      <td>618</td>\n",
       "      <td>Action,Biography,Drama</td>\n",
       "      <td>A disillusioned Confederate army deserter retu...</td>\n",
       "      <td>Gary Ross</td>\n",
       "      <td>Matthew McConaughey, Gugu Mbatha-Raw, Mahersha...</td>\n",
       "      <td>2016</td>\n",
       "      <td>139</td>\n",
       "      <td>6.9</td>\n",
       "      <td>29895</td>\n",
       "      <td>NaN</td>\n",
       "      <td>NaN</td>\n",
       "    </tr>\n",
       "    <tr>\n",
       "      <th>A Good Year</th>\n",
       "      <td>531</td>\n",
       "      <td>Comedy,Drama,Romance</td>\n",
       "      <td>A British investment broker inherits his uncle...</td>\n",
       "      <td>Ridley Scott</td>\n",
       "      <td>Russell Crowe, Abbie Cornish, Albert Finney, M...</td>\n",
       "      <td>2006</td>\n",
       "      <td>117</td>\n",
       "      <td>6.9</td>\n",
       "      <td>74674</td>\n",
       "      <td>7.46</td>\n",
       "      <td>47.0</td>\n",
       "    </tr>\n",
       "    <tr>\n",
       "      <th>Fast Five</th>\n",
       "      <td>320</td>\n",
       "      <td>Action,Crime,Thriller</td>\n",
       "      <td>Dominic Toretto and his crew of street racers ...</td>\n",
       "      <td>Justin Lin</td>\n",
       "      <td>Vin Diesel, Paul Walker, Dwayne Johnson, Jorda...</td>\n",
       "      <td>2011</td>\n",
       "      <td>131</td>\n",
       "      <td>7.3</td>\n",
       "      <td>300803</td>\n",
       "      <td>209.81</td>\n",
       "      <td>66.0</td>\n",
       "    </tr>\n",
       "    <tr>\n",
       "      <th>Raw (II)</th>\n",
       "      <td>207</td>\n",
       "      <td>Drama,Horror</td>\n",
       "      <td>When a young vegetarian undergoes a carnivorou...</td>\n",
       "      <td>Julia Ducournau</td>\n",
       "      <td>Garance Marillier, Ella Rumpf, Rabah Nait Oufe...</td>\n",
       "      <td>2016</td>\n",
       "      <td>99</td>\n",
       "      <td>7.5</td>\n",
       "      <td>5435</td>\n",
       "      <td>0.51</td>\n",
       "      <td>81.0</td>\n",
       "    </tr>\n",
       "    <tr>\n",
       "      <th>The Whole Truth</th>\n",
       "      <td>629</td>\n",
       "      <td>Crime,Drama,Mystery</td>\n",
       "      <td>A defense attorney works to get his teenage cl...</td>\n",
       "      <td>Courtney Hunt</td>\n",
       "      <td>Keanu Reeves, Renée Zellweger, Gugu Mbatha-Raw...</td>\n",
       "      <td>2016</td>\n",
       "      <td>93</td>\n",
       "      <td>6.1</td>\n",
       "      <td>10700</td>\n",
       "      <td>NaN</td>\n",
       "      <td>NaN</td>\n",
       "    </tr>\n",
       "  </tbody>\n",
       "</table>\n",
       "</div>"
      ],
      "text/plain": [
       "                     Rank  ... Metascore\n",
       "Title                      ...          \n",
       "Slumdog Millionaire   366  ...      86.0\n",
       "Law Abiding Citizen   499  ...      34.0\n",
       "Inland Empire         966  ...       NaN\n",
       "Free State of Jones   618  ...       NaN\n",
       "A Good Year           531  ...      47.0\n",
       "Fast Five             320  ...      66.0\n",
       "Raw (II)              207  ...      81.0\n",
       "The Whole Truth       629  ...       NaN\n",
       "\n",
       "[8 rows x 11 columns]"
      ]
     },
     "execution_count": 16,
     "metadata": {
      "tags": []
     },
     "output_type": "execute_result"
    }
   ],
   "source": [
    "df_movies.sample(8)"
   ]
  },
  {
   "cell_type": "markdown",
   "metadata": {
    "id": "xmzbWA9tbWtw"
   },
   "source": [
    "---\n",
    "\n",
    "## Getting more info about the data"
   ]
  },
  {
   "cell_type": "markdown",
   "metadata": {
    "id": "p56cJ8JTbh2i"
   },
   "source": [
    "`.info()` should be one of the very first functions you use after loading your data\n",
    "\n",
    "It shows essential details, such as number of rows and columns, the number of non-null values, and less imporantly what type of data is in each column (this is only imporant to quickly see if numbers were not accidentally imported as strings)."
   ]
  },
  {
   "cell_type": "code",
   "execution_count": null,
   "metadata": {
    "colab": {
     "base_uri": "https://localhost:8080/",
     "height": 323
    },
    "executionInfo": {
     "elapsed": 461,
     "status": "ok",
     "timestamp": 1600738147072,
     "user": {
      "displayName": "Daniel Anton",
      "photoUrl": "",
      "userId": "07817160354765211624"
     },
     "user_tz": -60
    },
    "id": "xoiwQK-Jbanl",
    "outputId": "bd2dc9aa-9d4d-4759-822d-039e5222e781"
   },
   "outputs": [
    {
     "name": "stdout",
     "output_type": "stream",
     "text": [
      "<class 'pandas.core.frame.DataFrame'>\n",
      "Index: 1000 entries, Guardians of the Galaxy to Nine Lives\n",
      "Data columns (total 11 columns):\n",
      " #   Column              Non-Null Count  Dtype  \n",
      "---  ------              --------------  -----  \n",
      " 0   Rank                1000 non-null   int64  \n",
      " 1   Genre               1000 non-null   object \n",
      " 2   Description         1000 non-null   object \n",
      " 3   Director            1000 non-null   object \n",
      " 4   Actors              1000 non-null   object \n",
      " 5   Year                1000 non-null   int64  \n",
      " 6   Runtime (Minutes)   1000 non-null   int64  \n",
      " 7   Rating              1000 non-null   float64\n",
      " 8   Votes               1000 non-null   int64  \n",
      " 9   Revenue (Millions)  872 non-null    float64\n",
      " 10  Metascore           936 non-null    float64\n",
      "dtypes: float64(3), int64(4), object(4)\n",
      "memory usage: 133.8+ KB\n"
     ]
    }
   ],
   "source": [
    "df_movies.info() # int is whole number, float is decimal number, object is the rest"
   ]
  },
  {
   "cell_type": "markdown",
   "metadata": {
    "id": "O-ThTswkeO-C"
   },
   "source": [
    "Notice that `Revenue` and `Metascore` have missing values.\n",
    "\n",
    "Another way to obtain number of rows and columns is `.shape` - without `()`. Just remmber it with `()` and when you run it, it will give you error, and that way you remember () are not supposed to be there.\n",
    "\n",
    "`.shape` will be used often when making models, and reformating the data."
   ]
  },
  {
   "cell_type": "code",
   "execution_count": null,
   "metadata": {
    "colab": {
     "base_uri": "https://localhost:8080/",
     "height": 35
    },
    "executionInfo": {
     "elapsed": 640,
     "status": "ok",
     "timestamp": 1601829126945,
     "user": {
      "displayName": "Sharmin Rouf",
      "photoUrl": "",
      "userId": "07014860915014612811"
     },
     "user_tz": -60
    },
    "id": "eWDarAcDeqzK",
    "outputId": "2eee03bc-6dd2-4edb-e91e-bc8fed20a114"
   },
   "outputs": [
    {
     "data": {
      "text/plain": [
       "(1000, 11)"
      ]
     },
     "execution_count": 8,
     "metadata": {
      "tags": []
     },
     "output_type": "execute_result"
    }
   ],
   "source": [
    "df_movies.shape"
   ]
  },
  {
   "cell_type": "markdown",
   "metadata": {
    "id": "OXErj6lkfU_j"
   },
   "source": [
    "---\n",
    "\n",
    "## Removing duplicates\n",
    "\n",
    "It is very imporant to always run this function at the begining to remove any duplicate valuess. Note that some data-sets do contain duplicates as legitimate values, it is important to think if for the current data-set, they have to be removed.\n",
    "\n",
    "To do this, we use `df.drop_duplicates()` function."
   ]
  },
  {
   "cell_type": "code",
   "execution_count": null,
   "metadata": {
    "id": "4HJoBhp5hAF8"
   },
   "outputs": [],
   "source": [
    "df_movies = df_movies.drop_duplicates()"
   ]
  },
  {
   "cell_type": "markdown",
   "metadata": {
    "id": "xMotgbeHhD-R"
   },
   "source": [
    "Notice that we have say `df_movies = `. This is because using `.drop_duplicates()` creates a copy of the **DataFrame** it is used on. We can either create a new **DataFrame** by calling the variable something else, or we can use the same name to adjust the original.\n",
    "\n",
    "Alternatively, we can use `inplace=True` parameter, to adjust the original **DataFrame** right away:"
   ]
  },
  {
   "cell_type": "code",
   "execution_count": null,
   "metadata": {
    "colab": {
     "base_uri": "https://localhost:8080/",
     "height": 637
    },
    "executionInfo": {
     "elapsed": 441,
     "status": "ok",
     "timestamp": 1600739160745,
     "user": {
      "displayName": "Daniel Anton",
      "photoUrl": "",
      "userId": "07817160354765211624"
     },
     "user_tz": -60
    },
    "id": "sILo0lzcesIE",
    "outputId": "07b195cd-0791-4f4d-ccab-745f7fe53e95"
   },
   "outputs": [
    {
     "data": {
      "text/html": [
       "<div>\n",
       "<style scoped>\n",
       "    .dataframe tbody tr th:only-of-type {\n",
       "        vertical-align: middle;\n",
       "    }\n",
       "\n",
       "    .dataframe tbody tr th {\n",
       "        vertical-align: top;\n",
       "    }\n",
       "\n",
       "    .dataframe thead th {\n",
       "        text-align: right;\n",
       "    }\n",
       "</style>\n",
       "<table border=\"1\" class=\"dataframe\">\n",
       "  <thead>\n",
       "    <tr style=\"text-align: right;\">\n",
       "      <th></th>\n",
       "      <th>Rank</th>\n",
       "      <th>Genre</th>\n",
       "      <th>Description</th>\n",
       "      <th>Director</th>\n",
       "      <th>Actors</th>\n",
       "      <th>Year</th>\n",
       "      <th>Runtime (Minutes)</th>\n",
       "      <th>Rating</th>\n",
       "      <th>Votes</th>\n",
       "      <th>Revenue (Millions)</th>\n",
       "      <th>Metascore</th>\n",
       "    </tr>\n",
       "    <tr>\n",
       "      <th>Title</th>\n",
       "      <th></th>\n",
       "      <th></th>\n",
       "      <th></th>\n",
       "      <th></th>\n",
       "      <th></th>\n",
       "      <th></th>\n",
       "      <th></th>\n",
       "      <th></th>\n",
       "      <th></th>\n",
       "      <th></th>\n",
       "      <th></th>\n",
       "    </tr>\n",
       "  </thead>\n",
       "  <tbody>\n",
       "    <tr>\n",
       "      <th>Guardians of the Galaxy</th>\n",
       "      <td>1</td>\n",
       "      <td>Action,Adventure,Sci-Fi</td>\n",
       "      <td>A group of intergalactic criminals are forced ...</td>\n",
       "      <td>James Gunn</td>\n",
       "      <td>Chris Pratt, Vin Diesel, Bradley Cooper, Zoe S...</td>\n",
       "      <td>2014</td>\n",
       "      <td>121</td>\n",
       "      <td>8.1</td>\n",
       "      <td>757074</td>\n",
       "      <td>333.13</td>\n",
       "      <td>76.0</td>\n",
       "    </tr>\n",
       "    <tr>\n",
       "      <th>Prometheus</th>\n",
       "      <td>2</td>\n",
       "      <td>Adventure,Mystery,Sci-Fi</td>\n",
       "      <td>Following clues to the origin of mankind, a te...</td>\n",
       "      <td>Ridley Scott</td>\n",
       "      <td>Noomi Rapace, Logan Marshall-Green, Michael Fa...</td>\n",
       "      <td>2012</td>\n",
       "      <td>124</td>\n",
       "      <td>7.0</td>\n",
       "      <td>485820</td>\n",
       "      <td>126.46</td>\n",
       "      <td>65.0</td>\n",
       "    </tr>\n",
       "    <tr>\n",
       "      <th>Split</th>\n",
       "      <td>3</td>\n",
       "      <td>Horror,Thriller</td>\n",
       "      <td>Three girls are kidnapped by a man with a diag...</td>\n",
       "      <td>M. Night Shyamalan</td>\n",
       "      <td>James McAvoy, Anya Taylor-Joy, Haley Lu Richar...</td>\n",
       "      <td>2016</td>\n",
       "      <td>117</td>\n",
       "      <td>7.3</td>\n",
       "      <td>157606</td>\n",
       "      <td>138.12</td>\n",
       "      <td>62.0</td>\n",
       "    </tr>\n",
       "    <tr>\n",
       "      <th>Sing</th>\n",
       "      <td>4</td>\n",
       "      <td>Animation,Comedy,Family</td>\n",
       "      <td>In a city of humanoid animals, a hustling thea...</td>\n",
       "      <td>Christophe Lourdelet</td>\n",
       "      <td>Matthew McConaughey,Reese Witherspoon, Seth Ma...</td>\n",
       "      <td>2016</td>\n",
       "      <td>108</td>\n",
       "      <td>7.2</td>\n",
       "      <td>60545</td>\n",
       "      <td>270.32</td>\n",
       "      <td>59.0</td>\n",
       "    </tr>\n",
       "    <tr>\n",
       "      <th>Suicide Squad</th>\n",
       "      <td>5</td>\n",
       "      <td>Action,Adventure,Fantasy</td>\n",
       "      <td>A secret government agency recruits some of th...</td>\n",
       "      <td>David Ayer</td>\n",
       "      <td>Will Smith, Jared Leto, Margot Robbie, Viola D...</td>\n",
       "      <td>2016</td>\n",
       "      <td>123</td>\n",
       "      <td>6.2</td>\n",
       "      <td>393727</td>\n",
       "      <td>325.02</td>\n",
       "      <td>40.0</td>\n",
       "    </tr>\n",
       "    <tr>\n",
       "      <th>...</th>\n",
       "      <td>...</td>\n",
       "      <td>...</td>\n",
       "      <td>...</td>\n",
       "      <td>...</td>\n",
       "      <td>...</td>\n",
       "      <td>...</td>\n",
       "      <td>...</td>\n",
       "      <td>...</td>\n",
       "      <td>...</td>\n",
       "      <td>...</td>\n",
       "      <td>...</td>\n",
       "    </tr>\n",
       "    <tr>\n",
       "      <th>Secret in Their Eyes</th>\n",
       "      <td>996</td>\n",
       "      <td>Crime,Drama,Mystery</td>\n",
       "      <td>A tight-knit team of rising investigators, alo...</td>\n",
       "      <td>Billy Ray</td>\n",
       "      <td>Chiwetel Ejiofor, Nicole Kidman, Julia Roberts...</td>\n",
       "      <td>2015</td>\n",
       "      <td>111</td>\n",
       "      <td>6.2</td>\n",
       "      <td>27585</td>\n",
       "      <td>NaN</td>\n",
       "      <td>45.0</td>\n",
       "    </tr>\n",
       "    <tr>\n",
       "      <th>Hostel: Part II</th>\n",
       "      <td>997</td>\n",
       "      <td>Horror</td>\n",
       "      <td>Three American college students studying abroa...</td>\n",
       "      <td>Eli Roth</td>\n",
       "      <td>Lauren German, Heather Matarazzo, Bijou Philli...</td>\n",
       "      <td>2007</td>\n",
       "      <td>94</td>\n",
       "      <td>5.5</td>\n",
       "      <td>73152</td>\n",
       "      <td>17.54</td>\n",
       "      <td>46.0</td>\n",
       "    </tr>\n",
       "    <tr>\n",
       "      <th>Step Up 2: The Streets</th>\n",
       "      <td>998</td>\n",
       "      <td>Drama,Music,Romance</td>\n",
       "      <td>Romantic sparks occur between two dance studen...</td>\n",
       "      <td>Jon M. Chu</td>\n",
       "      <td>Robert Hoffman, Briana Evigan, Cassie Ventura,...</td>\n",
       "      <td>2008</td>\n",
       "      <td>98</td>\n",
       "      <td>6.2</td>\n",
       "      <td>70699</td>\n",
       "      <td>58.01</td>\n",
       "      <td>50.0</td>\n",
       "    </tr>\n",
       "    <tr>\n",
       "      <th>Search Party</th>\n",
       "      <td>999</td>\n",
       "      <td>Adventure,Comedy</td>\n",
       "      <td>A pair of friends embark on a mission to reuni...</td>\n",
       "      <td>Scot Armstrong</td>\n",
       "      <td>Adam Pally, T.J. Miller, Thomas Middleditch,Sh...</td>\n",
       "      <td>2014</td>\n",
       "      <td>93</td>\n",
       "      <td>5.6</td>\n",
       "      <td>4881</td>\n",
       "      <td>NaN</td>\n",
       "      <td>22.0</td>\n",
       "    </tr>\n",
       "    <tr>\n",
       "      <th>Nine Lives</th>\n",
       "      <td>1000</td>\n",
       "      <td>Comedy,Family,Fantasy</td>\n",
       "      <td>A stuffy businessman finds himself trapped ins...</td>\n",
       "      <td>Barry Sonnenfeld</td>\n",
       "      <td>Kevin Spacey, Jennifer Garner, Robbie Amell,Ch...</td>\n",
       "      <td>2016</td>\n",
       "      <td>87</td>\n",
       "      <td>5.3</td>\n",
       "      <td>12435</td>\n",
       "      <td>19.64</td>\n",
       "      <td>11.0</td>\n",
       "    </tr>\n",
       "  </tbody>\n",
       "</table>\n",
       "<p>1000 rows × 11 columns</p>\n",
       "</div>"
      ],
      "text/plain": [
       "                         Rank  ... Metascore\n",
       "Title                          ...          \n",
       "Guardians of the Galaxy     1  ...      76.0\n",
       "Prometheus                  2  ...      65.0\n",
       "Split                       3  ...      62.0\n",
       "Sing                        4  ...      59.0\n",
       "Suicide Squad               5  ...      40.0\n",
       "...                       ...  ...       ...\n",
       "Secret in Their Eyes      996  ...      45.0\n",
       "Hostel: Part II           997  ...      46.0\n",
       "Step Up 2: The Streets    998  ...      50.0\n",
       "Search Party              999  ...      22.0\n",
       "Nine Lives               1000  ...      11.0\n",
       "\n",
       "[1000 rows x 11 columns]"
      ]
     },
     "execution_count": 21,
     "metadata": {
      "tags": []
     },
     "output_type": "execute_result"
    }
   ],
   "source": [
    "df_movies.drop_duplicates(inplace=True)"
   ]
  },
  {
   "cell_type": "markdown",
   "metadata": {
    "id": "dSMYtgariRkm"
   },
   "source": [
    "---\n",
    "\n",
    "## Cleaning column names\n",
    "\n",
    "Often original column names contain symbols, upper and lowercase words, spaces, and typos. To make selecting data by column name easier we clean it up at the begining."
   ]
  },
  {
   "cell_type": "markdown",
   "metadata": {
    "id": "KMG1ZAiui0IK"
   },
   "source": [
    "To print **DataFrame**'s columns, use `df.columns`"
   ]
  },
  {
   "cell_type": "code",
   "execution_count": null,
   "metadata": {
    "colab": {
     "base_uri": "https://localhost:8080/",
     "height": 85
    },
    "executionInfo": {
     "elapsed": 427,
     "status": "ok",
     "timestamp": 1600739960889,
     "user": {
      "displayName": "Daniel Anton",
      "photoUrl": "",
      "userId": "07817160354765211624"
     },
     "user_tz": -60
    },
    "id": "Y3cPJRRiiS6-",
    "outputId": "c503cc0d-fb37-49e5-9b60-bc784a8610f8"
   },
   "outputs": [
    {
     "data": {
      "text/plain": [
       "Index(['Rank', 'Genre', 'Description', 'Director', 'Actors', 'Year',\n",
       "       'Runtime (Minutes)', 'Rating', 'Votes', 'Revenue (Millions)',\n",
       "       'Metascore'],\n",
       "      dtype='object')"
      ]
     },
     "execution_count": 24,
     "metadata": {
      "tags": []
     },
     "output_type": "execute_result"
    }
   ],
   "source": [
    "df_movies.columns"
   ]
  },
  {
   "cell_type": "markdown",
   "metadata": {
    "id": "f9RJohhNjRpS"
   },
   "source": [
    "Now we can quickly read all the columns, and copy-paste it if we try to rename change something. It is also useful if you get `Key Error` when trying to select column by its name... which should never happen, because you will learn to clean columns.\n",
    "\n",
    "Let's rename **Runtime (Minutes)** and **Revenue (Millions)** to something simpler, using `df.rename()` function:"
   ]
  },
  {
   "cell_type": "code",
   "execution_count": 4,
   "metadata": {
    "colab": {
     "base_uri": "https://localhost:8080/",
     "height": 72
    },
    "executionInfo": {
     "elapsed": 636,
     "status": "ok",
     "timestamp": 1601849079072,
     "user": {
      "displayName": "Sharmin Rouf",
      "photoUrl": "",
      "userId": "07014860915014612811"
     },
     "user_tz": -60
    },
    "id": "TrC_JbnUjCPU",
    "outputId": "b1bdfb0e-79e2-4746-8562-e8e06f632c5c"
   },
   "outputs": [
    {
     "data": {
      "text/plain": [
       "Index(['Rank', 'Genre', 'Description', 'Director', 'Actors', 'Year', 'Runtime',\n",
       "       'Rating', 'Votes', 'Revenue millions', 'Metascore'],\n",
       "      dtype='object')"
      ]
     },
     "execution_count": 4,
     "metadata": {
      "tags": []
     },
     "output_type": "execute_result"
    }
   ],
   "source": [
    "df_movies.rename(columns={\n",
    "        'Runtime (Minutes)': 'Runtime', \n",
    "        'Revenue (Millions)': 'Revenue millions'\n",
    "    }, inplace=True)\n",
    "df_movies.columns"
   ]
  },
  {
   "cell_type": "markdown",
   "metadata": {
    "id": "Bz8n5-MlkD6s"
   },
   "source": [
    "Note that we used `inplace = True`, which saves us from using `df_movies = `\n",
    "\n",
    "Now let's change all letters to a lowercase. The most simplest way is to copy-paste the above obtained list of colum names, and manually change everything to lowercase."
   ]
  },
  {
   "cell_type": "code",
   "execution_count": 5,
   "metadata": {
    "colab": {
     "base_uri": "https://localhost:8080/",
     "height": 72
    },
    "executionInfo": {
     "elapsed": 807,
     "status": "ok",
     "timestamp": 1601849082506,
     "user": {
      "displayName": "Sharmin Rouf",
      "photoUrl": "",
      "userId": "07014860915014612811"
     },
     "user_tz": -60
    },
    "id": "QiQGjW2GkYBE",
    "outputId": "67bb1713-99b3-4eb9-b77e-f1996066789a"
   },
   "outputs": [
    {
     "data": {
      "text/plain": [
       "Index(['rank', 'genre', 'description', 'director', 'actors', 'year', 'runtime',\n",
       "       'rating', 'votes', 'revenue millions', 'metascore'],\n",
       "      dtype='object')"
      ]
     },
     "execution_count": 5,
     "metadata": {
      "tags": []
     },
     "output_type": "execute_result"
    }
   ],
   "source": [
    "df_movies.columns = ['rank', 'genre', 'description', 'director', 'actors', 'year', 'runtime', \n",
    "                     'rating', 'votes', 'revenue millions', 'metascore']\n",
    "df_movies.columns"
   ]
  },
  {
   "cell_type": "markdown",
   "metadata": {
    "id": "EnMqUrJIkyFI"
   },
   "source": [
    "Alternatively, if there are too many upper-case letters, or too many columns we can use `.lower()` python function, and use a `for loop`."
   ]
  },
  {
   "cell_type": "code",
   "execution_count": 6,
   "metadata": {
    "colab": {
     "base_uri": "https://localhost:8080/",
     "height": 72
    },
    "executionInfo": {
     "elapsed": 755,
     "status": "ok",
     "timestamp": 1601849085518,
     "user": {
      "displayName": "Sharmin Rouf",
      "photoUrl": "",
      "userId": "07014860915014612811"
     },
     "user_tz": -60
    },
    "id": "2G-uoRzcknaK",
    "outputId": "f76ea10a-9bd4-4352-cfd9-e777447e8139"
   },
   "outputs": [
    {
     "data": {
      "text/plain": [
       "Index(['rank', 'genre', 'description', 'director', 'actors', 'year', 'runtime',\n",
       "       'rating', 'votes', 'revenue_millions', 'metascore'],\n",
       "      dtype='object')"
      ]
     },
     "execution_count": 6,
     "metadata": {
      "tags": []
     },
     "output_type": "execute_result"
    }
   ],
   "source": [
    "i = 0\n",
    "for col in df_movies.columns:\n",
    "  df_movies.columns.values[i] = col.lower().replace(\" \", \"_\")\n",
    "  i = i + 1\n",
    "\n",
    "# or more advanced version:\n",
    "# df_movies.columns = [col.lower() for col in df_movies]\n",
    "df_movies.columns"
   ]
  },
  {
   "cell_type": "markdown",
   "metadata": {
    "id": "RWXwM2KxpIog"
   },
   "source": [
    "You should always lowercase, remove special characters, and replace spaces with underscores if you'll be working with a dataset for some time."
   ]
  },
  {
   "cell_type": "markdown",
   "metadata": {
    "id": "phYzlMcoplJ5"
   },
   "source": [
    "---\n",
    "\n",
    "## Missing values\n",
    "\n",
    "Also known as non-existent values, often marked as `null` or `None` or `np.nan` or empty space.\n",
    "\n",
    "3 things can be done:\n",
    "\n",
    "\n",
    "1.   Remove columns with missing values\n",
    "2.   Remove rows with missing values\n",
    "3.   Replace missing values with actual values, technique known as `inputation`\n",
    "\n"
   ]
  },
  {
   "cell_type": "markdown",
   "metadata": {
    "id": "wr-zkICgrRvo"
   },
   "source": [
    "First, let's check the scale of the missing values. Remember we have already use `df.info()` to get some idea, but let's take it a step further by using `df.isnull()`"
   ]
  },
  {
   "cell_type": "code",
   "execution_count": null,
   "metadata": {
    "colab": {
     "base_uri": "https://localhost:8080/",
     "height": 238
    },
    "executionInfo": {
     "elapsed": 434,
     "status": "ok",
     "timestamp": 1600742453204,
     "user": {
      "displayName": "Daniel Anton",
      "photoUrl": "",
      "userId": "07817160354765211624"
     },
     "user_tz": -60
    },
    "id": "2KV3mUcap95b",
    "outputId": "fcc3db04-6550-42d2-d6ca-ddcaa39a2b02"
   },
   "outputs": [
    {
     "data": {
      "text/plain": [
       "rank                  0\n",
       "title                 0\n",
       "genre                 0\n",
       "description           0\n",
       "director              0\n",
       "actors                0\n",
       "year                  0\n",
       "runtime               0\n",
       "rating                0\n",
       "votes                 0\n",
       "revenue_millions    128\n",
       "metascore            64\n",
       "dtype: int64"
      ]
     },
     "execution_count": 7,
     "metadata": {
      "tags": []
     },
     "output_type": "execute_result"
    }
   ],
   "source": [
    "df_movies.isnull().sum()"
   ]
  },
  {
   "cell_type": "markdown",
   "metadata": {
    "id": "XV2B9ch6uOeo"
   },
   "source": [
    "### Removing columns\n",
    "\n",
    "If the column contains majority of the missing values (depending on the data-set and problem) but let's say `null > 60%`, then you can consider deleting the column.\n",
    "\n",
    "If the column values have no meaning, or have a singular value, consider removing the column too."
   ]
  },
  {
   "cell_type": "code",
   "execution_count": null,
   "metadata": {
    "colab": {
     "base_uri": "https://localhost:8080/",
     "height": 206
    },
    "executionInfo": {
     "elapsed": 705,
     "status": "ok",
     "timestamp": 1601830224975,
     "user": {
      "displayName": "Sharmin Rouf",
      "photoUrl": "",
      "userId": "07014860915014612811"
     },
     "user_tz": -60
    },
    "id": "OUCeJWZJ5f64",
    "outputId": "618036d3-3e18-4245-d8f9-68285d8ced56"
   },
   "outputs": [
    {
     "data": {
      "text/html": [
       "<div>\n",
       "<style scoped>\n",
       "    .dataframe tbody tr th:only-of-type {\n",
       "        vertical-align: middle;\n",
       "    }\n",
       "\n",
       "    .dataframe tbody tr th {\n",
       "        vertical-align: top;\n",
       "    }\n",
       "\n",
       "    .dataframe thead th {\n",
       "        text-align: right;\n",
       "    }\n",
       "</style>\n",
       "<table border=\"1\" class=\"dataframe\">\n",
       "  <thead>\n",
       "    <tr style=\"text-align: right;\">\n",
       "      <th></th>\n",
       "      <th>apples</th>\n",
       "      <th>oranges</th>\n",
       "    </tr>\n",
       "  </thead>\n",
       "  <tbody>\n",
       "    <tr>\n",
       "      <th>bilu</th>\n",
       "      <td>0</td>\n",
       "      <td>7</td>\n",
       "    </tr>\n",
       "    <tr>\n",
       "      <th>shamurito</th>\n",
       "      <td>1</td>\n",
       "      <td>2</td>\n",
       "    </tr>\n",
       "    <tr>\n",
       "      <th>Dannu</th>\n",
       "      <td>6</td>\n",
       "      <td>1</td>\n",
       "    </tr>\n",
       "    <tr>\n",
       "      <th>rasto</th>\n",
       "      <td>3</td>\n",
       "      <td>7</td>\n",
       "    </tr>\n",
       "    <tr>\n",
       "      <th>mato</th>\n",
       "      <td>6</td>\n",
       "      <td>6</td>\n",
       "    </tr>\n",
       "  </tbody>\n",
       "</table>\n",
       "</div>"
      ],
      "text/plain": [
       "           apples  oranges\n",
       "bilu            0        7\n",
       "shamurito       1        2\n",
       "Dannu           6        1\n",
       "rasto           3        7\n",
       "mato            6        6"
      ]
     },
     "execution_count": 10,
     "metadata": {
      "tags": []
     },
     "output_type": "execute_result"
    }
   ],
   "source": [
    "df_1 = [0, 1, 6, 3, 6]\n",
    "df_2 = [ 7, 2, 1, 7, 6]\n",
    "\n",
    "df = list(zip(df_1, df_2))\n",
    "column_names = ['apples', 'oranges']\n",
    "index_values = ['bilu', 'shamurito', \"Dannu\", \"rasto\", \"mato\"]\n",
    "\n",
    "df = pd.DataFrame(data = df, \n",
    "                  columns = column_names, \n",
    "                  index = index_values)\n",
    "df"
   ]
  },
  {
   "cell_type": "markdown",
   "metadata": {
    "id": "0jYde2m89clj"
   },
   "source": [
    "To drop the column, use `df.drop()` with `column name`  and `axis = 1` parameters:"
   ]
  },
  {
   "cell_type": "code",
   "execution_count": null,
   "metadata": {
    "colab": {
     "base_uri": "https://localhost:8080/",
     "height": 206
    },
    "executionInfo": {
     "elapsed": 813,
     "status": "ok",
     "timestamp": 1601830228159,
     "user": {
      "displayName": "Sharmin Rouf",
      "photoUrl": "",
      "userId": "07014860915014612811"
     },
     "user_tz": -60
    },
    "id": "z2mWxC3wHQOr",
    "outputId": "b252b4ae-6df3-40ed-94f0-d895209216f7"
   },
   "outputs": [
    {
     "data": {
      "text/html": [
       "<div>\n",
       "<style scoped>\n",
       "    .dataframe tbody tr th:only-of-type {\n",
       "        vertical-align: middle;\n",
       "    }\n",
       "\n",
       "    .dataframe tbody tr th {\n",
       "        vertical-align: top;\n",
       "    }\n",
       "\n",
       "    .dataframe thead th {\n",
       "        text-align: right;\n",
       "    }\n",
       "</style>\n",
       "<table border=\"1\" class=\"dataframe\">\n",
       "  <thead>\n",
       "    <tr style=\"text-align: right;\">\n",
       "      <th></th>\n",
       "      <th>apples</th>\n",
       "    </tr>\n",
       "  </thead>\n",
       "  <tbody>\n",
       "    <tr>\n",
       "      <th>bilu</th>\n",
       "      <td>0</td>\n",
       "    </tr>\n",
       "    <tr>\n",
       "      <th>shamurito</th>\n",
       "      <td>1</td>\n",
       "    </tr>\n",
       "    <tr>\n",
       "      <th>Dannu</th>\n",
       "      <td>6</td>\n",
       "    </tr>\n",
       "    <tr>\n",
       "      <th>rasto</th>\n",
       "      <td>3</td>\n",
       "    </tr>\n",
       "    <tr>\n",
       "      <th>mato</th>\n",
       "      <td>6</td>\n",
       "    </tr>\n",
       "  </tbody>\n",
       "</table>\n",
       "</div>"
      ],
      "text/plain": [
       "           apples\n",
       "bilu            0\n",
       "shamurito       1\n",
       "Dannu           6\n",
       "rasto           3\n",
       "mato            6"
      ]
     },
     "execution_count": 11,
     "metadata": {
      "tags": []
     },
     "output_type": "execute_result"
    }
   ],
   "source": [
    "df.drop(\"oranges\", \n",
    "         axis = 1)"
   ]
  },
  {
   "cell_type": "markdown",
   "metadata": {
    "id": "IQEfbtnd-OOS"
   },
   "source": [
    "Notice that `asix = 1`. If you wish to drop a row, you would use `axis = 0`. \n",
    "\n",
    "To explain this, if you remmber `.shape` function on `DataFrame`, we get:"
   ]
  },
  {
   "cell_type": "code",
   "execution_count": null,
   "metadata": {
    "colab": {
     "base_uri": "https://localhost:8080/",
     "height": 35
    },
    "executionInfo": {
     "elapsed": 708,
     "status": "ok",
     "timestamp": 1601830265872,
     "user": {
      "displayName": "Sharmin Rouf",
      "photoUrl": "",
      "userId": "07014860915014612811"
     },
     "user_tz": -60
    },
    "id": "GP5C8wpc-bFl",
    "outputId": "b176ac34-1460-4d89-8623-9f22d79b4bfe"
   },
   "outputs": [
    {
     "data": {
      "text/plain": [
       "(5, 2)"
      ]
     },
     "execution_count": 13,
     "metadata": {
      "tags": []
     },
     "output_type": "execute_result"
    }
   ],
   "source": [
    "df.shape"
   ]
  },
  {
   "cell_type": "markdown",
   "metadata": {
    "id": "OIB73D7G-qYi"
   },
   "source": [
    "`5` is number of rows, `2` is number of columns.\n",
    "\n",
    "`(5,2)` - index `0` contains rows, that is why `axis = 0` affect rows.\n",
    "\n",
    "Likewise, index `1` contains columns, that is why `axis = 1` affects columns."
   ]
  },
  {
   "cell_type": "markdown",
   "metadata": {
    "id": "X6WqZzE_uRgw"
   },
   "source": [
    "### Inputation with mean\n",
    "\n",
    "The most basic inputation technique is by using mean value of the column. \n",
    "\n",
    "More advanced approaches would use selected group of entries to create mean - if an entry with a missing value is a horror genre movie, use only that genre for mean inputation (or use director's list of movies, etc...)\n",
    "\n",
    "Much more advanced techniques would create a predictive model out of the data, and would accurately predict the missing values."
   ]
  },
  {
   "cell_type": "markdown",
   "metadata": {
    "id": "8-FCVsgU_UKc"
   },
   "source": [
    "Let's calculate the mean value of the whole column of `revenue_millions`."
   ]
  },
  {
   "cell_type": "code",
   "execution_count": null,
   "metadata": {
    "colab": {
     "base_uri": "https://localhost:8080/",
     "height": 35
    },
    "executionInfo": {
     "elapsed": 708,
     "status": "ok",
     "timestamp": 1601830424315,
     "user": {
      "displayName": "Sharmin Rouf",
      "photoUrl": "",
      "userId": "07014860915014612811"
     },
     "user_tz": -60
    },
    "id": "8DXNXO6lvUF0",
    "outputId": "7de554e0-f05f-473a-ae02-d8ca37a5b130"
   },
   "outputs": [
    {
     "data": {
      "text/plain": [
       "82.95637614678897"
      ]
     },
     "execution_count": 20,
     "metadata": {
      "tags": []
     },
     "output_type": "execute_result"
    }
   ],
   "source": [
    "revenue_mean = df_movies['revenue_millions'].mean()\n",
    "revenue_mean"
   ]
  },
  {
   "cell_type": "markdown",
   "metadata": {
    "id": "0NAY2F9I_avY"
   },
   "source": [
    "Using the mean value, we will use `df.fillna()` with the value we want to replace missing valus with - `revenue_mean` parameter.\n",
    "\n",
    "We can use `inplace=True` or we can use `df = df.drop()` approach, they are the same after all."
   ]
  },
  {
   "cell_type": "code",
   "execution_count": null,
   "metadata": {
    "id": "SLwTSTxsvWLj"
   },
   "outputs": [],
   "source": [
    "df_movies['revenue_millions'].fillna(revenue_mean, inplace=True)"
   ]
  },
  {
   "cell_type": "markdown",
   "metadata": {
    "id": "9dKS113o_5KG"
   },
   "source": [
    "Notice that we used `df_movies['revenue_millions']` not `df_movies`, this is because we only want inpute missing values in the `revenue_millions` column, not the whole data-set. \n",
    "\n",
    "Let's check the dataset to see if missing values for `revenue_millions` are gone."
   ]
  },
  {
   "cell_type": "code",
   "execution_count": null,
   "metadata": {
    "colab": {
     "base_uri": "https://localhost:8080/",
     "height": 221
    },
    "executionInfo": {
     "elapsed": 428,
     "status": "ok",
     "timestamp": 1600999608232,
     "user": {
      "displayName": "Daniel Anton",
      "photoUrl": "",
      "userId": "07817160354765211624"
     },
     "user_tz": -60
    },
    "id": "Xq-ROVTzvcnf",
    "outputId": "656a338b-f869-4fda-a92e-10f9f8b8ab91"
   },
   "outputs": [
    {
     "data": {
      "text/plain": [
       "rank                 0\n",
       "genre                0\n",
       "description          0\n",
       "director             0\n",
       "actors               0\n",
       "year                 0\n",
       "runtime              0\n",
       "rating               0\n",
       "votes                0\n",
       "revenue_millions     0\n",
       "metascore           64\n",
       "dtype: int64"
      ]
     },
     "execution_count": 42,
     "metadata": {
      "tags": []
     },
     "output_type": "execute_result"
    }
   ],
   "source": [
    "df_movies.isnull().sum()"
   ]
  },
  {
   "cell_type": "markdown",
   "metadata": {
    "id": "vybnPHOovmHK"
   },
   "source": [
    "## Understanding variables"
   ]
  },
  {
   "cell_type": "markdown",
   "metadata": {
    "id": "_dZpQlJEBQCs"
   },
   "source": [
    "`df.describe()` creates a summary of the distribution of continuous variables:"
   ]
  },
  {
   "cell_type": "code",
   "execution_count": null,
   "metadata": {
    "colab": {
     "base_uri": "https://localhost:8080/",
     "height": 297
    },
    "executionInfo": {
     "elapsed": 467,
     "status": "ok",
     "timestamp": 1600743450985,
     "user": {
      "displayName": "Daniel Anton",
      "photoUrl": "",
      "userId": "07817160354765211624"
     },
     "user_tz": -60
    },
    "id": "VheewNJLvphG",
    "outputId": "b521a23e-e575-495c-d10d-5e2acd6aa871"
   },
   "outputs": [
    {
     "data": {
      "text/html": [
       "<div>\n",
       "<style scoped>\n",
       "    .dataframe tbody tr th:only-of-type {\n",
       "        vertical-align: middle;\n",
       "    }\n",
       "\n",
       "    .dataframe tbody tr th {\n",
       "        vertical-align: top;\n",
       "    }\n",
       "\n",
       "    .dataframe thead th {\n",
       "        text-align: right;\n",
       "    }\n",
       "</style>\n",
       "<table border=\"1\" class=\"dataframe\">\n",
       "  <thead>\n",
       "    <tr style=\"text-align: right;\">\n",
       "      <th></th>\n",
       "      <th>rank</th>\n",
       "      <th>year</th>\n",
       "      <th>runtime</th>\n",
       "      <th>rating</th>\n",
       "      <th>votes</th>\n",
       "      <th>revenue_millions</th>\n",
       "      <th>metascore</th>\n",
       "    </tr>\n",
       "  </thead>\n",
       "  <tbody>\n",
       "    <tr>\n",
       "      <th>count</th>\n",
       "      <td>1000.000000</td>\n",
       "      <td>1000.000000</td>\n",
       "      <td>1000.000000</td>\n",
       "      <td>1000.000000</td>\n",
       "      <td>1.000000e+03</td>\n",
       "      <td>1000.000000</td>\n",
       "      <td>936.000000</td>\n",
       "    </tr>\n",
       "    <tr>\n",
       "      <th>mean</th>\n",
       "      <td>500.500000</td>\n",
       "      <td>2012.783000</td>\n",
       "      <td>113.172000</td>\n",
       "      <td>6.723200</td>\n",
       "      <td>1.698083e+05</td>\n",
       "      <td>82.956376</td>\n",
       "      <td>58.985043</td>\n",
       "    </tr>\n",
       "    <tr>\n",
       "      <th>std</th>\n",
       "      <td>288.819436</td>\n",
       "      <td>3.205962</td>\n",
       "      <td>18.810908</td>\n",
       "      <td>0.945429</td>\n",
       "      <td>1.887626e+05</td>\n",
       "      <td>96.412043</td>\n",
       "      <td>17.194757</td>\n",
       "    </tr>\n",
       "    <tr>\n",
       "      <th>min</th>\n",
       "      <td>1.000000</td>\n",
       "      <td>2006.000000</td>\n",
       "      <td>66.000000</td>\n",
       "      <td>1.900000</td>\n",
       "      <td>6.100000e+01</td>\n",
       "      <td>0.000000</td>\n",
       "      <td>11.000000</td>\n",
       "    </tr>\n",
       "    <tr>\n",
       "      <th>25%</th>\n",
       "      <td>250.750000</td>\n",
       "      <td>2010.000000</td>\n",
       "      <td>100.000000</td>\n",
       "      <td>6.200000</td>\n",
       "      <td>3.630900e+04</td>\n",
       "      <td>17.442500</td>\n",
       "      <td>47.000000</td>\n",
       "    </tr>\n",
       "    <tr>\n",
       "      <th>50%</th>\n",
       "      <td>500.500000</td>\n",
       "      <td>2014.000000</td>\n",
       "      <td>111.000000</td>\n",
       "      <td>6.800000</td>\n",
       "      <td>1.107990e+05</td>\n",
       "      <td>60.375000</td>\n",
       "      <td>59.500000</td>\n",
       "    </tr>\n",
       "    <tr>\n",
       "      <th>75%</th>\n",
       "      <td>750.250000</td>\n",
       "      <td>2016.000000</td>\n",
       "      <td>123.000000</td>\n",
       "      <td>7.400000</td>\n",
       "      <td>2.399098e+05</td>\n",
       "      <td>99.177500</td>\n",
       "      <td>72.000000</td>\n",
       "    </tr>\n",
       "    <tr>\n",
       "      <th>max</th>\n",
       "      <td>1000.000000</td>\n",
       "      <td>2016.000000</td>\n",
       "      <td>191.000000</td>\n",
       "      <td>9.000000</td>\n",
       "      <td>1.791916e+06</td>\n",
       "      <td>936.630000</td>\n",
       "      <td>100.000000</td>\n",
       "    </tr>\n",
       "  </tbody>\n",
       "</table>\n",
       "</div>"
      ],
      "text/plain": [
       "              rank         year  ...  revenue_millions   metascore\n",
       "count  1000.000000  1000.000000  ...       1000.000000  936.000000\n",
       "mean    500.500000  2012.783000  ...         82.956376   58.985043\n",
       "std     288.819436     3.205962  ...         96.412043   17.194757\n",
       "min       1.000000  2006.000000  ...          0.000000   11.000000\n",
       "25%     250.750000  2010.000000  ...         17.442500   47.000000\n",
       "50%     500.500000  2014.000000  ...         60.375000   59.500000\n",
       "75%     750.250000  2016.000000  ...         99.177500   72.000000\n",
       "max    1000.000000  2016.000000  ...        936.630000  100.000000\n",
       "\n",
       "[8 rows x 7 columns]"
      ]
     },
     "execution_count": 21,
     "metadata": {
      "tags": []
     },
     "output_type": "execute_result"
    }
   ],
   "source": [
    "df_movies.describe()"
   ]
  },
  {
   "cell_type": "markdown",
   "metadata": {
    "id": "ef_xVCT6BcRP"
   },
   "source": [
    "`df.describe()` can be used on categorical variables too:"
   ]
  },
  {
   "cell_type": "code",
   "execution_count": null,
   "metadata": {
    "colab": {
     "base_uri": "https://localhost:8080/",
     "height": 102
    },
    "executionInfo": {
     "elapsed": 472,
     "status": "ok",
     "timestamp": 1600743476821,
     "user": {
      "displayName": "Daniel Anton",
      "photoUrl": "",
      "userId": "07817160354765211624"
     },
     "user_tz": -60
    },
    "id": "nbJMT6V7vvyX",
    "outputId": "43a8460c-1cb6-4290-9ffa-1d5925581bb4"
   },
   "outputs": [
    {
     "data": {
      "text/plain": [
       "count                        1000\n",
       "unique                        207\n",
       "top       Action,Adventure,Sci-Fi\n",
       "freq                           50\n",
       "Name: genre, dtype: object"
      ]
     },
     "execution_count": 22,
     "metadata": {
      "tags": []
     },
     "output_type": "execute_result"
    }
   ],
   "source": [
    "df_movies['genre'].describe()"
   ]
  },
  {
   "cell_type": "markdown",
   "metadata": {
    "id": "TmbHTkCcB9qh"
   },
   "source": [
    "This tells us that the genre column has `207 unique values`, the `top value` is Action/Adventure/Sci-Fi, which shows up 50 times (freq).\n",
    "\n",
    "`df.value_counts()` can tell us the frequency of all values in a column:"
   ]
  },
  {
   "cell_type": "code",
   "execution_count": null,
   "metadata": {
    "colab": {
     "base_uri": "https://localhost:8080/",
     "height": 204
    },
    "executionInfo": {
     "elapsed": 401,
     "status": "ok",
     "timestamp": 1600743487301,
     "user": {
      "displayName": "Daniel Anton",
      "photoUrl": "",
      "userId": "07817160354765211624"
     },
     "user_tz": -60
    },
    "id": "EZGTnkyovymm",
    "outputId": "80f7097c-65c5-4507-ee04-1967c781aff5"
   },
   "outputs": [
    {
     "data": {
      "text/plain": [
       "Action,Adventure,Sci-Fi       50\n",
       "Drama                         48\n",
       "Comedy,Drama,Romance          35\n",
       "Comedy                        32\n",
       "Drama,Romance                 31\n",
       "Comedy,Drama                  27\n",
       "Action,Adventure,Fantasy      27\n",
       "Animation,Adventure,Comedy    27\n",
       "Comedy,Romance                26\n",
       "Crime,Drama,Thriller          24\n",
       "Name: genre, dtype: int64"
      ]
     },
     "execution_count": 23,
     "metadata": {
      "tags": []
     },
     "output_type": "execute_result"
    }
   ],
   "source": [
    "df_movies['genre'].value_counts().head(10)"
   ]
  },
  {
   "cell_type": "markdown",
   "metadata": {
    "id": "t39bqBPqv2iG"
   },
   "source": [
    "## Correlation between variables\n",
    "\n",
    "`df.corr()` generates the relationship between each continuous variable.\n",
    "\n",
    "When preparing data for the model, it is important to remove highly correlated variables, this is because if correlation is close to 1 or -1, one variable perfectly explains the other, in other words, one is just a simple multiple of the other one, this means one of the variables would not provide any extra information in the model, it would only make it worse because of including more variables. ( we will talk about this in later lectures, and about `curse of dimmensionality`)"
   ]
  },
  {
   "cell_type": "markdown",
   "metadata": {
    "id": "k74FK1ZYCU13"
   },
   "source": [
    "Positive numbers indicate a positive correlation — one goes up the other goes up — and negative numbers represent an inverse correlation — one goes up the other goes down. 1.0 indicates a perfect correlation, -1.0 indicates a perfect negative correlation."
   ]
  },
  {
   "cell_type": "code",
   "execution_count": null,
   "metadata": {
    "colab": {
     "base_uri": "https://localhost:8080/",
     "height": 266
    },
    "executionInfo": {
     "elapsed": 400,
     "status": "ok",
     "timestamp": 1600743519455,
     "user": {
      "displayName": "Daniel Anton",
      "photoUrl": "",
      "userId": "07817160354765211624"
     },
     "user_tz": -60
    },
    "id": "xJjqxrZDv484",
    "outputId": "463bca54-962d-46be-dc8f-bec43cf38479"
   },
   "outputs": [
    {
     "data": {
      "text/html": [
       "<div>\n",
       "<style scoped>\n",
       "    .dataframe tbody tr th:only-of-type {\n",
       "        vertical-align: middle;\n",
       "    }\n",
       "\n",
       "    .dataframe tbody tr th {\n",
       "        vertical-align: top;\n",
       "    }\n",
       "\n",
       "    .dataframe thead th {\n",
       "        text-align: right;\n",
       "    }\n",
       "</style>\n",
       "<table border=\"1\" class=\"dataframe\">\n",
       "  <thead>\n",
       "    <tr style=\"text-align: right;\">\n",
       "      <th></th>\n",
       "      <th>rank</th>\n",
       "      <th>year</th>\n",
       "      <th>runtime</th>\n",
       "      <th>rating</th>\n",
       "      <th>votes</th>\n",
       "      <th>revenue_millions</th>\n",
       "      <th>metascore</th>\n",
       "    </tr>\n",
       "  </thead>\n",
       "  <tbody>\n",
       "    <tr>\n",
       "      <th>rank</th>\n",
       "      <td>1.000000</td>\n",
       "      <td>-0.261605</td>\n",
       "      <td>-0.221739</td>\n",
       "      <td>-0.219555</td>\n",
       "      <td>-0.283876</td>\n",
       "      <td>-0.252996</td>\n",
       "      <td>-0.191869</td>\n",
       "    </tr>\n",
       "    <tr>\n",
       "      <th>year</th>\n",
       "      <td>-0.261605</td>\n",
       "      <td>1.000000</td>\n",
       "      <td>-0.164900</td>\n",
       "      <td>-0.211219</td>\n",
       "      <td>-0.411904</td>\n",
       "      <td>-0.117562</td>\n",
       "      <td>-0.079305</td>\n",
       "    </tr>\n",
       "    <tr>\n",
       "      <th>runtime</th>\n",
       "      <td>-0.221739</td>\n",
       "      <td>-0.164900</td>\n",
       "      <td>1.000000</td>\n",
       "      <td>0.392214</td>\n",
       "      <td>0.407062</td>\n",
       "      <td>0.247834</td>\n",
       "      <td>0.211978</td>\n",
       "    </tr>\n",
       "    <tr>\n",
       "      <th>rating</th>\n",
       "      <td>-0.219555</td>\n",
       "      <td>-0.211219</td>\n",
       "      <td>0.392214</td>\n",
       "      <td>1.000000</td>\n",
       "      <td>0.511537</td>\n",
       "      <td>0.189527</td>\n",
       "      <td>0.631897</td>\n",
       "    </tr>\n",
       "    <tr>\n",
       "      <th>votes</th>\n",
       "      <td>-0.283876</td>\n",
       "      <td>-0.411904</td>\n",
       "      <td>0.407062</td>\n",
       "      <td>0.511537</td>\n",
       "      <td>1.000000</td>\n",
       "      <td>0.607941</td>\n",
       "      <td>0.325684</td>\n",
       "    </tr>\n",
       "    <tr>\n",
       "      <th>revenue_millions</th>\n",
       "      <td>-0.252996</td>\n",
       "      <td>-0.117562</td>\n",
       "      <td>0.247834</td>\n",
       "      <td>0.189527</td>\n",
       "      <td>0.607941</td>\n",
       "      <td>1.000000</td>\n",
       "      <td>0.133328</td>\n",
       "    </tr>\n",
       "    <tr>\n",
       "      <th>metascore</th>\n",
       "      <td>-0.191869</td>\n",
       "      <td>-0.079305</td>\n",
       "      <td>0.211978</td>\n",
       "      <td>0.631897</td>\n",
       "      <td>0.325684</td>\n",
       "      <td>0.133328</td>\n",
       "      <td>1.000000</td>\n",
       "    </tr>\n",
       "  </tbody>\n",
       "</table>\n",
       "</div>"
      ],
      "text/plain": [
       "                      rank      year  ...  revenue_millions  metascore\n",
       "rank              1.000000 -0.261605  ...         -0.252996  -0.191869\n",
       "year             -0.261605  1.000000  ...         -0.117562  -0.079305\n",
       "runtime          -0.221739 -0.164900  ...          0.247834   0.211978\n",
       "rating           -0.219555 -0.211219  ...          0.189527   0.631897\n",
       "votes            -0.283876 -0.411904  ...          0.607941   0.325684\n",
       "revenue_millions -0.252996 -0.117562  ...          1.000000   0.133328\n",
       "metascore        -0.191869 -0.079305  ...          0.133328   1.000000\n",
       "\n",
       "[7 rows x 7 columns]"
      ]
     },
     "execution_count": 24,
     "metadata": {
      "tags": []
     },
     "output_type": "execute_result"
    }
   ],
   "source": [
    "df_movies.corr()"
   ]
  },
  {
   "cell_type": "markdown",
   "metadata": {
    "id": "cWkl3dGVCjZp"
   },
   "source": [
    "Looking in the first row, first column we see `rank` has a perfect correlation with itself, which is obvious. \n",
    "\n",
    "On the other hand, the correlation between `votes` and `revenue_millions` is 0.6."
   ]
  },
  {
   "cell_type": "markdown",
   "metadata": {
    "id": "mNDUw7S_wAfO"
   },
   "source": [
    "## DataFrame selecting, slicing, extracting\n",
    "\n",
    "Similar to `lists`, this section shows how to select (`slice`) rows, columns, and ranges from both."
   ]
  },
  {
   "cell_type": "markdown",
   "metadata": {
    "id": "zn8QLxV1wH2H"
   },
   "source": [
    "### By column"
   ]
  },
  {
   "cell_type": "code",
   "execution_count": 10,
   "metadata": {
    "colab": {
     "base_uri": "https://localhost:8080/",
     "height": 256
    },
    "executionInfo": {
     "elapsed": 576,
     "status": "ok",
     "timestamp": 1601849481168,
     "user": {
      "displayName": "Sharmin Rouf",
      "photoUrl": "",
      "userId": "07014860915014612811"
     },
     "user_tz": -60
    },
    "id": "YoonXj1HwJqC",
    "outputId": "dd8c0501-fb79-49aa-c22f-b1a981268e42"
   },
   "outputs": [
    {
     "data": {
      "text/plain": [
       "Title\n",
       "Guardians of the Galaxy     Action,Adventure,Sci-Fi\n",
       "Prometheus                 Adventure,Mystery,Sci-Fi\n",
       "Split                               Horror,Thriller\n",
       "Sing                        Animation,Comedy,Family\n",
       "Suicide Squad              Action,Adventure,Fantasy\n",
       "                                     ...           \n",
       "Secret in Their Eyes            Crime,Drama,Mystery\n",
       "Hostel: Part II                              Horror\n",
       "Step Up 2: The Streets          Drama,Music,Romance\n",
       "Search Party                       Adventure,Comedy\n",
       "Nine Lives                    Comedy,Family,Fantasy\n",
       "Name: genre, Length: 1000, dtype: object"
      ]
     },
     "execution_count": 10,
     "metadata": {
      "tags": []
     },
     "output_type": "execute_result"
    }
   ],
   "source": [
    "genre_col = df_movies['genre']\n",
    "\n",
    "type(genre_col)\n",
    "genre_col"
   ]
  },
  {
   "cell_type": "code",
   "execution_count": 8,
   "metadata": {
    "colab": {
     "base_uri": "https://localhost:8080/",
     "height": 35
    },
    "executionInfo": {
     "elapsed": 973,
     "status": "ok",
     "timestamp": 1601849369002,
     "user": {
      "displayName": "Sharmin Rouf",
      "photoUrl": "",
      "userId": "07014860915014612811"
     },
     "user_tz": -60
    },
    "id": "izsJIF1HwOFe",
    "outputId": "17761533-89fb-4173-bc28-3f7e03f9fff4"
   },
   "outputs": [
    {
     "data": {
      "text/plain": [
       "pandas.core.frame.DataFrame"
      ]
     },
     "execution_count": 8,
     "metadata": {
      "tags": []
     },
     "output_type": "execute_result"
    }
   ],
   "source": [
    "genre_col = df_movies[['genre']]\n",
    "\n",
    "type(genre_col)"
   ]
  },
  {
   "cell_type": "markdown",
   "metadata": {
    "id": "bt8xnozoEZ5G"
   },
   "source": [
    "If we want to select more columns, just add them to the list."
   ]
  },
  {
   "cell_type": "code",
   "execution_count": 9,
   "metadata": {
    "colab": {
     "base_uri": "https://localhost:8080/",
     "height": 238
    },
    "executionInfo": {
     "elapsed": 978,
     "status": "ok",
     "timestamp": 1601849439327,
     "user": {
      "displayName": "Sharmin Rouf",
      "photoUrl": "",
      "userId": "07014860915014612811"
     },
     "user_tz": -60
    },
    "id": "hxGG1c2YwQcu",
    "outputId": "0b25817b-6945-4be2-a968-7c5e8de8a952"
   },
   "outputs": [
    {
     "data": {
      "text/html": [
       "<div>\n",
       "<style scoped>\n",
       "    .dataframe tbody tr th:only-of-type {\n",
       "        vertical-align: middle;\n",
       "    }\n",
       "\n",
       "    .dataframe tbody tr th {\n",
       "        vertical-align: top;\n",
       "    }\n",
       "\n",
       "    .dataframe thead th {\n",
       "        text-align: right;\n",
       "    }\n",
       "</style>\n",
       "<table border=\"1\" class=\"dataframe\">\n",
       "  <thead>\n",
       "    <tr style=\"text-align: right;\">\n",
       "      <th></th>\n",
       "      <th>genre</th>\n",
       "      <th>rating</th>\n",
       "    </tr>\n",
       "    <tr>\n",
       "      <th>Title</th>\n",
       "      <th></th>\n",
       "      <th></th>\n",
       "    </tr>\n",
       "  </thead>\n",
       "  <tbody>\n",
       "    <tr>\n",
       "      <th>Guardians of the Galaxy</th>\n",
       "      <td>Action,Adventure,Sci-Fi</td>\n",
       "      <td>8.1</td>\n",
       "    </tr>\n",
       "    <tr>\n",
       "      <th>Prometheus</th>\n",
       "      <td>Adventure,Mystery,Sci-Fi</td>\n",
       "      <td>7.0</td>\n",
       "    </tr>\n",
       "    <tr>\n",
       "      <th>Split</th>\n",
       "      <td>Horror,Thriller</td>\n",
       "      <td>7.3</td>\n",
       "    </tr>\n",
       "    <tr>\n",
       "      <th>Sing</th>\n",
       "      <td>Animation,Comedy,Family</td>\n",
       "      <td>7.2</td>\n",
       "    </tr>\n",
       "    <tr>\n",
       "      <th>Suicide Squad</th>\n",
       "      <td>Action,Adventure,Fantasy</td>\n",
       "      <td>6.2</td>\n",
       "    </tr>\n",
       "  </tbody>\n",
       "</table>\n",
       "</div>"
      ],
      "text/plain": [
       "                                            genre  rating\n",
       "Title                                                    \n",
       "Guardians of the Galaxy   Action,Adventure,Sci-Fi     8.1\n",
       "Prometheus               Adventure,Mystery,Sci-Fi     7.0\n",
       "Split                             Horror,Thriller     7.3\n",
       "Sing                      Animation,Comedy,Family     7.2\n",
       "Suicide Squad            Action,Adventure,Fantasy     6.2"
      ]
     },
     "execution_count": 9,
     "metadata": {
      "tags": []
     },
     "output_type": "execute_result"
    }
   ],
   "source": [
    "subset = df_movies[['genre', 'rating']]\n",
    "\n",
    "subset.head()"
   ]
  },
  {
   "cell_type": "markdown",
   "metadata": {
    "id": "NWFC65hvFRiX"
   },
   "source": [
    "If you with to select (locate) columns `by index`, we use `df.iloc[what_rows, what_columns]`.\n",
    "\n",
    "Now, we use classical `list` selecting. \n",
    "\n",
    "* To select all rows, `what_rows` will be `:`. \n",
    "\n",
    "*If we want to select all columns until 5th one, we use `:5`"
   ]
  },
  {
   "cell_type": "code",
   "execution_count": null,
   "metadata": {
    "colab": {
     "base_uri": "https://localhost:8080/",
     "height": 450
    },
    "executionInfo": {
     "elapsed": 426,
     "status": "ok",
     "timestamp": 1601001106497,
     "user": {
      "displayName": "Daniel Anton",
      "photoUrl": "",
      "userId": "07817160354765211624"
     },
     "user_tz": -60
    },
    "id": "j9eyg_XxErLL",
    "outputId": "12771473-5af7-44f7-95a9-3190f9f299da"
   },
   "outputs": [
    {
     "data": {
      "text/html": [
       "<div>\n",
       "<style scoped>\n",
       "    .dataframe tbody tr th:only-of-type {\n",
       "        vertical-align: middle;\n",
       "    }\n",
       "\n",
       "    .dataframe tbody tr th {\n",
       "        vertical-align: top;\n",
       "    }\n",
       "\n",
       "    .dataframe thead th {\n",
       "        text-align: right;\n",
       "    }\n",
       "</style>\n",
       "<table border=\"1\" class=\"dataframe\">\n",
       "  <thead>\n",
       "    <tr style=\"text-align: right;\">\n",
       "      <th></th>\n",
       "      <th>rank</th>\n",
       "      <th>genre</th>\n",
       "      <th>description</th>\n",
       "      <th>director</th>\n",
       "      <th>actors</th>\n",
       "    </tr>\n",
       "    <tr>\n",
       "      <th>Title</th>\n",
       "      <th></th>\n",
       "      <th></th>\n",
       "      <th></th>\n",
       "      <th></th>\n",
       "      <th></th>\n",
       "    </tr>\n",
       "  </thead>\n",
       "  <tbody>\n",
       "    <tr>\n",
       "      <th>Guardians of the Galaxy</th>\n",
       "      <td>1</td>\n",
       "      <td>Action,Adventure,Sci-Fi</td>\n",
       "      <td>A group of intergalactic criminals are forced ...</td>\n",
       "      <td>James Gunn</td>\n",
       "      <td>Chris Pratt, Vin Diesel, Bradley Cooper, Zoe S...</td>\n",
       "    </tr>\n",
       "    <tr>\n",
       "      <th>Prometheus</th>\n",
       "      <td>2</td>\n",
       "      <td>Adventure,Mystery,Sci-Fi</td>\n",
       "      <td>Following clues to the origin of mankind, a te...</td>\n",
       "      <td>Ridley Scott</td>\n",
       "      <td>Noomi Rapace, Logan Marshall-Green, Michael Fa...</td>\n",
       "    </tr>\n",
       "    <tr>\n",
       "      <th>Split</th>\n",
       "      <td>3</td>\n",
       "      <td>Horror,Thriller</td>\n",
       "      <td>Three girls are kidnapped by a man with a diag...</td>\n",
       "      <td>M. Night Shyamalan</td>\n",
       "      <td>James McAvoy, Anya Taylor-Joy, Haley Lu Richar...</td>\n",
       "    </tr>\n",
       "    <tr>\n",
       "      <th>Sing</th>\n",
       "      <td>4</td>\n",
       "      <td>Animation,Comedy,Family</td>\n",
       "      <td>In a city of humanoid animals, a hustling thea...</td>\n",
       "      <td>Christophe Lourdelet</td>\n",
       "      <td>Matthew McConaughey,Reese Witherspoon, Seth Ma...</td>\n",
       "    </tr>\n",
       "    <tr>\n",
       "      <th>Suicide Squad</th>\n",
       "      <td>5</td>\n",
       "      <td>Action,Adventure,Fantasy</td>\n",
       "      <td>A secret government agency recruits some of th...</td>\n",
       "      <td>David Ayer</td>\n",
       "      <td>Will Smith, Jared Leto, Margot Robbie, Viola D...</td>\n",
       "    </tr>\n",
       "    <tr>\n",
       "      <th>...</th>\n",
       "      <td>...</td>\n",
       "      <td>...</td>\n",
       "      <td>...</td>\n",
       "      <td>...</td>\n",
       "      <td>...</td>\n",
       "    </tr>\n",
       "    <tr>\n",
       "      <th>Secret in Their Eyes</th>\n",
       "      <td>996</td>\n",
       "      <td>Crime,Drama,Mystery</td>\n",
       "      <td>A tight-knit team of rising investigators, alo...</td>\n",
       "      <td>Billy Ray</td>\n",
       "      <td>Chiwetel Ejiofor, Nicole Kidman, Julia Roberts...</td>\n",
       "    </tr>\n",
       "    <tr>\n",
       "      <th>Hostel: Part II</th>\n",
       "      <td>997</td>\n",
       "      <td>Horror</td>\n",
       "      <td>Three American college students studying abroa...</td>\n",
       "      <td>Eli Roth</td>\n",
       "      <td>Lauren German, Heather Matarazzo, Bijou Philli...</td>\n",
       "    </tr>\n",
       "    <tr>\n",
       "      <th>Step Up 2: The Streets</th>\n",
       "      <td>998</td>\n",
       "      <td>Drama,Music,Romance</td>\n",
       "      <td>Romantic sparks occur between two dance studen...</td>\n",
       "      <td>Jon M. Chu</td>\n",
       "      <td>Robert Hoffman, Briana Evigan, Cassie Ventura,...</td>\n",
       "    </tr>\n",
       "    <tr>\n",
       "      <th>Search Party</th>\n",
       "      <td>999</td>\n",
       "      <td>Adventure,Comedy</td>\n",
       "      <td>A pair of friends embark on a mission to reuni...</td>\n",
       "      <td>Scot Armstrong</td>\n",
       "      <td>Adam Pally, T.J. Miller, Thomas Middleditch,Sh...</td>\n",
       "    </tr>\n",
       "    <tr>\n",
       "      <th>Nine Lives</th>\n",
       "      <td>1000</td>\n",
       "      <td>Comedy,Family,Fantasy</td>\n",
       "      <td>A stuffy businessman finds himself trapped ins...</td>\n",
       "      <td>Barry Sonnenfeld</td>\n",
       "      <td>Kevin Spacey, Jennifer Garner, Robbie Amell,Ch...</td>\n",
       "    </tr>\n",
       "  </tbody>\n",
       "</table>\n",
       "<p>1000 rows × 5 columns</p>\n",
       "</div>"
      ],
      "text/plain": [
       "                         rank  ...                                             actors\n",
       "Title                          ...                                                   \n",
       "Guardians of the Galaxy     1  ...  Chris Pratt, Vin Diesel, Bradley Cooper, Zoe S...\n",
       "Prometheus                  2  ...  Noomi Rapace, Logan Marshall-Green, Michael Fa...\n",
       "Split                       3  ...  James McAvoy, Anya Taylor-Joy, Haley Lu Richar...\n",
       "Sing                        4  ...  Matthew McConaughey,Reese Witherspoon, Seth Ma...\n",
       "Suicide Squad               5  ...  Will Smith, Jared Leto, Margot Robbie, Viola D...\n",
       "...                       ...  ...                                                ...\n",
       "Secret in Their Eyes      996  ...  Chiwetel Ejiofor, Nicole Kidman, Julia Roberts...\n",
       "Hostel: Part II           997  ...  Lauren German, Heather Matarazzo, Bijou Philli...\n",
       "Step Up 2: The Streets    998  ...  Robert Hoffman, Briana Evigan, Cassie Ventura,...\n",
       "Search Party              999  ...  Adam Pally, T.J. Miller, Thomas Middleditch,Sh...\n",
       "Nine Lives               1000  ...  Kevin Spacey, Jennifer Garner, Robbie Amell,Ch...\n",
       "\n",
       "[1000 rows x 5 columns]"
      ]
     },
     "execution_count": 55,
     "metadata": {
      "tags": []
     },
     "output_type": "execute_result"
    }
   ],
   "source": [
    "df_movies.iloc[:, 0:5]"
   ]
  },
  {
   "cell_type": "markdown",
   "metadata": {
    "id": "pVnLpvzawTYp"
   },
   "source": [
    "### By rows"
   ]
  },
  {
   "cell_type": "markdown",
   "metadata": {
    "id": "cBovjsvtF4VQ"
   },
   "source": [
    "If you want to locate the row entry by name, use `df.loc[]`"
   ]
  },
  {
   "cell_type": "code",
   "execution_count": null,
   "metadata": {
    "colab": {
     "base_uri": "https://localhost:8080/",
     "height": 221
    },
    "executionInfo": {
     "elapsed": 928,
     "status": "ok",
     "timestamp": 1601000979473,
     "user": {
      "displayName": "Daniel Anton",
      "photoUrl": "",
      "userId": "07817160354765211624"
     },
     "user_tz": -60
    },
    "id": "Y3piQlfIwUlZ",
    "outputId": "098708aa-f8f8-42f6-8d6a-2408bc868bc1"
   },
   "outputs": [
    {
     "data": {
      "text/plain": [
       "rank                                                                1\n",
       "genre                                         Action,Adventure,Sci-Fi\n",
       "description         A group of intergalactic criminals are forced ...\n",
       "director                                                   James Gunn\n",
       "actors              Chris Pratt, Vin Diesel, Bradley Cooper, Zoe S...\n",
       "year                                                             2014\n",
       "runtime                                                           121\n",
       "rating                                                            8.1\n",
       "votes                                                          757074\n",
       "revenue_millions                                               333.13\n",
       "metascore                                                          76\n",
       "Name: Guardians of the Galaxy, dtype: object"
      ]
     },
     "execution_count": 54,
     "metadata": {
      "tags": []
     },
     "output_type": "execute_result"
    }
   ],
   "source": [
    "prom = df_movies.loc[\"Guardians of the Galaxy\"]\n",
    "prom"
   ]
  },
  {
   "cell_type": "markdown",
   "metadata": {
    "id": "iX5znXYLGEpD"
   },
   "source": [
    "If you want to locate the row entry by index, use `df.iloc[what_row]`. Notice that unlike locating columns by index, we will only use one parameter"
   ]
  },
  {
   "cell_type": "code",
   "execution_count": null,
   "metadata": {
    "colab": {
     "base_uri": "https://localhost:8080/",
     "height": 221
    },
    "executionInfo": {
     "elapsed": 609,
     "status": "ok",
     "timestamp": 1600743656887,
     "user": {
      "displayName": "Daniel Anton",
      "photoUrl": "",
      "userId": "07817160354765211624"
     },
     "user_tz": -60
    },
    "id": "N_dOYCOiwXxU",
    "outputId": "63c38668-d554-47f5-bbe6-bf2fb91f0ece"
   },
   "outputs": [
    {
     "data": {
      "text/plain": [
       "rank                                                                2\n",
       "genre                                        Adventure,Mystery,Sci-Fi\n",
       "description         Following clues to the origin of mankind, a te...\n",
       "director                                                 Ridley Scott\n",
       "actors              Noomi Rapace, Logan Marshall-Green, Michael Fa...\n",
       "year                                                             2012\n",
       "runtime                                                           124\n",
       "rating                                                              7\n",
       "votes                                                          485820\n",
       "revenue_millions                                               126.46\n",
       "metascore                                                          65\n",
       "Name: Prometheus, dtype: object"
      ]
     },
     "execution_count": 31,
     "metadata": {
      "tags": []
     },
     "output_type": "execute_result"
    }
   ],
   "source": [
    "prom = df_movies.iloc[1]\n",
    "prom"
   ]
  },
  {
   "cell_type": "markdown",
   "metadata": {
    "id": "d1ej45oqGozZ"
   },
   "source": [
    "In practice, `df.loc[]` will not be used much, you will be utilising indexing, `df.iloc[]` much more. \n",
    "\n",
    "The following are the same:"
   ]
  },
  {
   "cell_type": "code",
   "execution_count": null,
   "metadata": {
    "colab": {
     "base_uri": "https://localhost:8080/",
     "height": 272
    },
    "executionInfo": {
     "elapsed": 494,
     "status": "ok",
     "timestamp": 1601001127189,
     "user": {
      "displayName": "Daniel Anton",
      "photoUrl": "",
      "userId": "07817160354765211624"
     },
     "user_tz": -60
    },
    "id": "CxHc1KIRwZnd",
    "outputId": "fb2272c2-726b-4f64-ac86-1be09f025c5b"
   },
   "outputs": [
    {
     "data": {
      "text/html": [
       "<div>\n",
       "<style scoped>\n",
       "    .dataframe tbody tr th:only-of-type {\n",
       "        vertical-align: middle;\n",
       "    }\n",
       "\n",
       "    .dataframe tbody tr th {\n",
       "        vertical-align: top;\n",
       "    }\n",
       "\n",
       "    .dataframe thead th {\n",
       "        text-align: right;\n",
       "    }\n",
       "</style>\n",
       "<table border=\"1\" class=\"dataframe\">\n",
       "  <thead>\n",
       "    <tr style=\"text-align: right;\">\n",
       "      <th></th>\n",
       "      <th>rank</th>\n",
       "      <th>genre</th>\n",
       "      <th>description</th>\n",
       "      <th>director</th>\n",
       "      <th>actors</th>\n",
       "      <th>year</th>\n",
       "      <th>runtime</th>\n",
       "      <th>rating</th>\n",
       "      <th>votes</th>\n",
       "      <th>revenue_millions</th>\n",
       "      <th>metascore</th>\n",
       "    </tr>\n",
       "    <tr>\n",
       "      <th>Title</th>\n",
       "      <th></th>\n",
       "      <th></th>\n",
       "      <th></th>\n",
       "      <th></th>\n",
       "      <th></th>\n",
       "      <th></th>\n",
       "      <th></th>\n",
       "      <th></th>\n",
       "      <th></th>\n",
       "      <th></th>\n",
       "      <th></th>\n",
       "    </tr>\n",
       "  </thead>\n",
       "  <tbody>\n",
       "    <tr>\n",
       "      <th>Guardians of the Galaxy</th>\n",
       "      <td>1</td>\n",
       "      <td>Action,Adventure,Sci-Fi</td>\n",
       "      <td>A group of intergalactic criminals are forced ...</td>\n",
       "      <td>James Gunn</td>\n",
       "      <td>Chris Pratt, Vin Diesel, Bradley Cooper, Zoe S...</td>\n",
       "      <td>2014</td>\n",
       "      <td>121</td>\n",
       "      <td>8.1</td>\n",
       "      <td>757074</td>\n",
       "      <td>333.13</td>\n",
       "      <td>76.0</td>\n",
       "    </tr>\n",
       "    <tr>\n",
       "      <th>Prometheus</th>\n",
       "      <td>2</td>\n",
       "      <td>Adventure,Mystery,Sci-Fi</td>\n",
       "      <td>Following clues to the origin of mankind, a te...</td>\n",
       "      <td>Ridley Scott</td>\n",
       "      <td>Noomi Rapace, Logan Marshall-Green, Michael Fa...</td>\n",
       "      <td>2012</td>\n",
       "      <td>124</td>\n",
       "      <td>7.0</td>\n",
       "      <td>485820</td>\n",
       "      <td>126.46</td>\n",
       "      <td>65.0</td>\n",
       "    </tr>\n",
       "    <tr>\n",
       "      <th>Split</th>\n",
       "      <td>3</td>\n",
       "      <td>Horror,Thriller</td>\n",
       "      <td>Three girls are kidnapped by a man with a diag...</td>\n",
       "      <td>M. Night Shyamalan</td>\n",
       "      <td>James McAvoy, Anya Taylor-Joy, Haley Lu Richar...</td>\n",
       "      <td>2016</td>\n",
       "      <td>117</td>\n",
       "      <td>7.3</td>\n",
       "      <td>157606</td>\n",
       "      <td>138.12</td>\n",
       "      <td>62.0</td>\n",
       "    </tr>\n",
       "    <tr>\n",
       "      <th>Sing</th>\n",
       "      <td>4</td>\n",
       "      <td>Animation,Comedy,Family</td>\n",
       "      <td>In a city of humanoid animals, a hustling thea...</td>\n",
       "      <td>Christophe Lourdelet</td>\n",
       "      <td>Matthew McConaughey,Reese Witherspoon, Seth Ma...</td>\n",
       "      <td>2016</td>\n",
       "      <td>108</td>\n",
       "      <td>7.2</td>\n",
       "      <td>60545</td>\n",
       "      <td>270.32</td>\n",
       "      <td>59.0</td>\n",
       "    </tr>\n",
       "  </tbody>\n",
       "</table>\n",
       "</div>"
      ],
      "text/plain": [
       "                         rank  ... metascore\n",
       "Title                          ...          \n",
       "Guardians of the Galaxy     1  ...      76.0\n",
       "Prometheus                  2  ...      65.0\n",
       "Split                       3  ...      62.0\n",
       "Sing                        4  ...      59.0\n",
       "\n",
       "[4 rows x 11 columns]"
      ]
     },
     "execution_count": 56,
     "metadata": {
      "tags": []
     },
     "output_type": "execute_result"
    }
   ],
   "source": [
    "movie_subset = df_movies.loc['Guardians of the Galaxy':'Sing']\n",
    "\n",
    "movie_subset = df_movies.iloc[0:4]\n",
    "\n",
    "movie_subset"
   ]
  },
  {
   "cell_type": "markdown",
   "metadata": {
    "id": "3AcXwpcgw0LY"
   },
   "source": [
    "### Conditional selection"
   ]
  },
  {
   "cell_type": "code",
   "execution_count": 11,
   "metadata": {
    "colab": {
     "base_uri": "https://localhost:8080/",
     "height": 146
    },
    "executionInfo": {
     "elapsed": 613,
     "status": "ok",
     "timestamp": 1601849813216,
     "user": {
      "displayName": "Sharmin Rouf",
      "photoUrl": "",
      "userId": "07014860915014612811"
     },
     "user_tz": -60
    },
    "id": "jHBuOASIw167",
    "outputId": "09e538d5-5b41-46a9-9d06-ca527a133e7c"
   },
   "outputs": [
    {
     "data": {
      "text/plain": [
       "Title\n",
       "Guardians of the Galaxy    False\n",
       "Prometheus                  True\n",
       "Split                      False\n",
       "Sing                       False\n",
       "Suicide Squad              False\n",
       "Name: director, dtype: bool"
      ]
     },
     "execution_count": 11,
     "metadata": {
      "tags": []
     },
     "output_type": "execute_result"
    }
   ],
   "source": [
    "(df_movies['director'] == \"Ridley Scott\").head()"
   ]
  },
  {
   "cell_type": "code",
   "execution_count": null,
   "metadata": {
    "colab": {
     "base_uri": "https://localhost:8080/",
     "height": 464
    },
    "executionInfo": {
     "elapsed": 451,
     "status": "ok",
     "timestamp": 1600743781856,
     "user": {
      "displayName": "Daniel Anton",
      "photoUrl": "",
      "userId": "07817160354765211624"
     },
     "user_tz": -60
    },
    "id": "Rss7Y3rvw59r",
    "outputId": "477829d2-71fe-42a6-e952-bb971b7d0e6b"
   },
   "outputs": [
    {
     "data": {
      "text/html": [
       "<div>\n",
       "<style scoped>\n",
       "    .dataframe tbody tr th:only-of-type {\n",
       "        vertical-align: middle;\n",
       "    }\n",
       "\n",
       "    .dataframe tbody tr th {\n",
       "        vertical-align: top;\n",
       "    }\n",
       "\n",
       "    .dataframe thead th {\n",
       "        text-align: right;\n",
       "    }\n",
       "</style>\n",
       "<table border=\"1\" class=\"dataframe\">\n",
       "  <thead>\n",
       "    <tr style=\"text-align: right;\">\n",
       "      <th></th>\n",
       "      <th>rank</th>\n",
       "      <th>genre</th>\n",
       "      <th>description</th>\n",
       "      <th>director</th>\n",
       "      <th>actors</th>\n",
       "      <th>year</th>\n",
       "      <th>runtime</th>\n",
       "      <th>rating</th>\n",
       "      <th>votes</th>\n",
       "      <th>revenue_millions</th>\n",
       "      <th>metascore</th>\n",
       "    </tr>\n",
       "    <tr>\n",
       "      <th>Title</th>\n",
       "      <th></th>\n",
       "      <th></th>\n",
       "      <th></th>\n",
       "      <th></th>\n",
       "      <th></th>\n",
       "      <th></th>\n",
       "      <th></th>\n",
       "      <th></th>\n",
       "      <th></th>\n",
       "      <th></th>\n",
       "      <th></th>\n",
       "    </tr>\n",
       "  </thead>\n",
       "  <tbody>\n",
       "    <tr>\n",
       "      <th>Prometheus</th>\n",
       "      <td>2</td>\n",
       "      <td>Adventure,Mystery,Sci-Fi</td>\n",
       "      <td>Following clues to the origin of mankind, a te...</td>\n",
       "      <td>Ridley Scott</td>\n",
       "      <td>Noomi Rapace, Logan Marshall-Green, Michael Fa...</td>\n",
       "      <td>2012</td>\n",
       "      <td>124</td>\n",
       "      <td>7.0</td>\n",
       "      <td>485820</td>\n",
       "      <td>126.46</td>\n",
       "      <td>65.0</td>\n",
       "    </tr>\n",
       "    <tr>\n",
       "      <th>The Martian</th>\n",
       "      <td>103</td>\n",
       "      <td>Adventure,Drama,Sci-Fi</td>\n",
       "      <td>An astronaut becomes stranded on Mars after hi...</td>\n",
       "      <td>Ridley Scott</td>\n",
       "      <td>Matt Damon, Jessica Chastain, Kristen Wiig, Ka...</td>\n",
       "      <td>2015</td>\n",
       "      <td>144</td>\n",
       "      <td>8.0</td>\n",
       "      <td>556097</td>\n",
       "      <td>228.43</td>\n",
       "      <td>80.0</td>\n",
       "    </tr>\n",
       "    <tr>\n",
       "      <th>Robin Hood</th>\n",
       "      <td>388</td>\n",
       "      <td>Action,Adventure,Drama</td>\n",
       "      <td>In 12th century England, Robin and his band of...</td>\n",
       "      <td>Ridley Scott</td>\n",
       "      <td>Russell Crowe, Cate Blanchett, Matthew Macfady...</td>\n",
       "      <td>2010</td>\n",
       "      <td>140</td>\n",
       "      <td>6.7</td>\n",
       "      <td>221117</td>\n",
       "      <td>105.22</td>\n",
       "      <td>53.0</td>\n",
       "    </tr>\n",
       "    <tr>\n",
       "      <th>American Gangster</th>\n",
       "      <td>471</td>\n",
       "      <td>Biography,Crime,Drama</td>\n",
       "      <td>In 1970s America, a detective works to bring d...</td>\n",
       "      <td>Ridley Scott</td>\n",
       "      <td>Denzel Washington, Russell Crowe, Chiwetel Eji...</td>\n",
       "      <td>2007</td>\n",
       "      <td>157</td>\n",
       "      <td>7.8</td>\n",
       "      <td>337835</td>\n",
       "      <td>130.13</td>\n",
       "      <td>76.0</td>\n",
       "    </tr>\n",
       "    <tr>\n",
       "      <th>Exodus: Gods and Kings</th>\n",
       "      <td>517</td>\n",
       "      <td>Action,Adventure,Drama</td>\n",
       "      <td>The defiant leader Moses rises up against the ...</td>\n",
       "      <td>Ridley Scott</td>\n",
       "      <td>Christian Bale, Joel Edgerton, Ben Kingsley, S...</td>\n",
       "      <td>2014</td>\n",
       "      <td>150</td>\n",
       "      <td>6.0</td>\n",
       "      <td>137299</td>\n",
       "      <td>65.01</td>\n",
       "      <td>52.0</td>\n",
       "    </tr>\n",
       "    <tr>\n",
       "      <th>The Counselor</th>\n",
       "      <td>522</td>\n",
       "      <td>Crime,Drama,Thriller</td>\n",
       "      <td>A lawyer finds himself in over his head when h...</td>\n",
       "      <td>Ridley Scott</td>\n",
       "      <td>Michael Fassbender, Penélope Cruz, Cameron Dia...</td>\n",
       "      <td>2013</td>\n",
       "      <td>117</td>\n",
       "      <td>5.3</td>\n",
       "      <td>84927</td>\n",
       "      <td>16.97</td>\n",
       "      <td>48.0</td>\n",
       "    </tr>\n",
       "    <tr>\n",
       "      <th>A Good Year</th>\n",
       "      <td>531</td>\n",
       "      <td>Comedy,Drama,Romance</td>\n",
       "      <td>A British investment broker inherits his uncle...</td>\n",
       "      <td>Ridley Scott</td>\n",
       "      <td>Russell Crowe, Abbie Cornish, Albert Finney, M...</td>\n",
       "      <td>2006</td>\n",
       "      <td>117</td>\n",
       "      <td>6.9</td>\n",
       "      <td>74674</td>\n",
       "      <td>7.46</td>\n",
       "      <td>47.0</td>\n",
       "    </tr>\n",
       "    <tr>\n",
       "      <th>Body of Lies</th>\n",
       "      <td>738</td>\n",
       "      <td>Action,Drama,Romance</td>\n",
       "      <td>A CIA agent on the ground in Jordan hunts down...</td>\n",
       "      <td>Ridley Scott</td>\n",
       "      <td>Leonardo DiCaprio, Russell Crowe, Mark Strong,...</td>\n",
       "      <td>2008</td>\n",
       "      <td>128</td>\n",
       "      <td>7.1</td>\n",
       "      <td>182305</td>\n",
       "      <td>39.38</td>\n",
       "      <td>57.0</td>\n",
       "    </tr>\n",
       "  </tbody>\n",
       "</table>\n",
       "</div>"
      ],
      "text/plain": [
       "                        rank  ... metascore\n",
       "Title                         ...          \n",
       "Prometheus                 2  ...      65.0\n",
       "The Martian              103  ...      80.0\n",
       "Robin Hood               388  ...      53.0\n",
       "American Gangster        471  ...      76.0\n",
       "Exodus: Gods and Kings   517  ...      52.0\n",
       "The Counselor            522  ...      48.0\n",
       "A Good Year              531  ...      47.0\n",
       "Body of Lies             738  ...      57.0\n",
       "\n",
       "[8 rows x 11 columns]"
      ]
     },
     "execution_count": 34,
     "metadata": {
      "tags": []
     },
     "output_type": "execute_result"
    }
   ],
   "source": [
    "df_movies[df_movies['director'] == \"Ridley Scott\"]"
   ]
  },
  {
   "cell_type": "code",
   "execution_count": null,
   "metadata": {
    "colab": {
     "base_uri": "https://localhost:8080/",
     "height": 224
    },
    "executionInfo": {
     "elapsed": 436,
     "status": "ok",
     "timestamp": 1600743816707,
     "user": {
      "displayName": "Daniel Anton",
      "photoUrl": "",
      "userId": "07817160354765211624"
     },
     "user_tz": -60
    },
    "id": "tzFuT-UMxCjn",
    "outputId": "54a4eaab-e5fd-422e-d632-5d95ab5562f1"
   },
   "outputs": [
    {
     "data": {
      "text/html": [
       "<div>\n",
       "<style scoped>\n",
       "    .dataframe tbody tr th:only-of-type {\n",
       "        vertical-align: middle;\n",
       "    }\n",
       "\n",
       "    .dataframe tbody tr th {\n",
       "        vertical-align: top;\n",
       "    }\n",
       "\n",
       "    .dataframe thead th {\n",
       "        text-align: right;\n",
       "    }\n",
       "</style>\n",
       "<table border=\"1\" class=\"dataframe\">\n",
       "  <thead>\n",
       "    <tr style=\"text-align: right;\">\n",
       "      <th></th>\n",
       "      <th>rank</th>\n",
       "      <th>genre</th>\n",
       "      <th>description</th>\n",
       "      <th>director</th>\n",
       "      <th>actors</th>\n",
       "      <th>year</th>\n",
       "      <th>runtime</th>\n",
       "      <th>rating</th>\n",
       "      <th>votes</th>\n",
       "      <th>revenue_millions</th>\n",
       "      <th>metascore</th>\n",
       "    </tr>\n",
       "    <tr>\n",
       "      <th>Title</th>\n",
       "      <th></th>\n",
       "      <th></th>\n",
       "      <th></th>\n",
       "      <th></th>\n",
       "      <th></th>\n",
       "      <th></th>\n",
       "      <th></th>\n",
       "      <th></th>\n",
       "      <th></th>\n",
       "      <th></th>\n",
       "      <th></th>\n",
       "    </tr>\n",
       "  </thead>\n",
       "  <tbody>\n",
       "    <tr>\n",
       "      <th>Interstellar</th>\n",
       "      <td>37</td>\n",
       "      <td>Adventure,Drama,Sci-Fi</td>\n",
       "      <td>A team of explorers travel through a wormhole ...</td>\n",
       "      <td>Christopher Nolan</td>\n",
       "      <td>Matthew McConaughey, Anne Hathaway, Jessica Ch...</td>\n",
       "      <td>2014</td>\n",
       "      <td>169</td>\n",
       "      <td>8.6</td>\n",
       "      <td>1047747</td>\n",
       "      <td>187.99</td>\n",
       "      <td>74.0</td>\n",
       "    </tr>\n",
       "    <tr>\n",
       "      <th>The Dark Knight</th>\n",
       "      <td>55</td>\n",
       "      <td>Action,Crime,Drama</td>\n",
       "      <td>When the menace known as the Joker wreaks havo...</td>\n",
       "      <td>Christopher Nolan</td>\n",
       "      <td>Christian Bale, Heath Ledger, Aaron Eckhart,Mi...</td>\n",
       "      <td>2008</td>\n",
       "      <td>152</td>\n",
       "      <td>9.0</td>\n",
       "      <td>1791916</td>\n",
       "      <td>533.32</td>\n",
       "      <td>82.0</td>\n",
       "    </tr>\n",
       "    <tr>\n",
       "      <th>Inception</th>\n",
       "      <td>81</td>\n",
       "      <td>Action,Adventure,Sci-Fi</td>\n",
       "      <td>A thief, who steals corporate secrets through ...</td>\n",
       "      <td>Christopher Nolan</td>\n",
       "      <td>Leonardo DiCaprio, Joseph Gordon-Levitt, Ellen...</td>\n",
       "      <td>2010</td>\n",
       "      <td>148</td>\n",
       "      <td>8.8</td>\n",
       "      <td>1583625</td>\n",
       "      <td>292.57</td>\n",
       "      <td>74.0</td>\n",
       "    </tr>\n",
       "  </tbody>\n",
       "</table>\n",
       "</div>"
      ],
      "text/plain": [
       "                 rank                    genre  ... revenue_millions metascore\n",
       "Title                                           ...                           \n",
       "Interstellar       37   Adventure,Drama,Sci-Fi  ...           187.99      74.0\n",
       "The Dark Knight    55       Action,Crime,Drama  ...           533.32      82.0\n",
       "Inception          81  Action,Adventure,Sci-Fi  ...           292.57      74.0\n",
       "\n",
       "[3 rows x 11 columns]"
      ]
     },
     "execution_count": 35,
     "metadata": {
      "tags": []
     },
     "output_type": "execute_result"
    }
   ],
   "source": [
    "df_movies[df_movies['rating'] >= 8.6].head(3)"
   ]
  },
  {
   "cell_type": "markdown",
   "metadata": {
    "id": "U0PE2ntMxRIt"
   },
   "source": [
    "Conditional operators in pands use `|` for \"or\" and `&` for \"and\"."
   ]
  },
  {
   "cell_type": "code",
   "execution_count": null,
   "metadata": {
    "colab": {
     "base_uri": "https://localhost:8080/",
     "height": 320
    },
    "executionInfo": {
     "elapsed": 464,
     "status": "ok",
     "timestamp": 1600743850294,
     "user": {
      "displayName": "Daniel Anton",
      "photoUrl": "",
      "userId": "07817160354765211624"
     },
     "user_tz": -60
    },
    "id": "he_Sh2iaxIEO",
    "outputId": "41f9687a-4c99-4d60-dbe2-71ed1c812a58"
   },
   "outputs": [
    {
     "data": {
      "text/html": [
       "<div>\n",
       "<style scoped>\n",
       "    .dataframe tbody tr th:only-of-type {\n",
       "        vertical-align: middle;\n",
       "    }\n",
       "\n",
       "    .dataframe tbody tr th {\n",
       "        vertical-align: top;\n",
       "    }\n",
       "\n",
       "    .dataframe thead th {\n",
       "        text-align: right;\n",
       "    }\n",
       "</style>\n",
       "<table border=\"1\" class=\"dataframe\">\n",
       "  <thead>\n",
       "    <tr style=\"text-align: right;\">\n",
       "      <th></th>\n",
       "      <th>rank</th>\n",
       "      <th>genre</th>\n",
       "      <th>description</th>\n",
       "      <th>director</th>\n",
       "      <th>actors</th>\n",
       "      <th>year</th>\n",
       "      <th>runtime</th>\n",
       "      <th>rating</th>\n",
       "      <th>votes</th>\n",
       "      <th>revenue_millions</th>\n",
       "      <th>metascore</th>\n",
       "    </tr>\n",
       "    <tr>\n",
       "      <th>Title</th>\n",
       "      <th></th>\n",
       "      <th></th>\n",
       "      <th></th>\n",
       "      <th></th>\n",
       "      <th></th>\n",
       "      <th></th>\n",
       "      <th></th>\n",
       "      <th></th>\n",
       "      <th></th>\n",
       "      <th></th>\n",
       "      <th></th>\n",
       "    </tr>\n",
       "  </thead>\n",
       "  <tbody>\n",
       "    <tr>\n",
       "      <th>Prometheus</th>\n",
       "      <td>2</td>\n",
       "      <td>Adventure,Mystery,Sci-Fi</td>\n",
       "      <td>Following clues to the origin of mankind, a te...</td>\n",
       "      <td>Ridley Scott</td>\n",
       "      <td>Noomi Rapace, Logan Marshall-Green, Michael Fa...</td>\n",
       "      <td>2012</td>\n",
       "      <td>124</td>\n",
       "      <td>7.0</td>\n",
       "      <td>485820</td>\n",
       "      <td>126.46</td>\n",
       "      <td>65.0</td>\n",
       "    </tr>\n",
       "    <tr>\n",
       "      <th>Interstellar</th>\n",
       "      <td>37</td>\n",
       "      <td>Adventure,Drama,Sci-Fi</td>\n",
       "      <td>A team of explorers travel through a wormhole ...</td>\n",
       "      <td>Christopher Nolan</td>\n",
       "      <td>Matthew McConaughey, Anne Hathaway, Jessica Ch...</td>\n",
       "      <td>2014</td>\n",
       "      <td>169</td>\n",
       "      <td>8.6</td>\n",
       "      <td>1047747</td>\n",
       "      <td>187.99</td>\n",
       "      <td>74.0</td>\n",
       "    </tr>\n",
       "    <tr>\n",
       "      <th>The Dark Knight</th>\n",
       "      <td>55</td>\n",
       "      <td>Action,Crime,Drama</td>\n",
       "      <td>When the menace known as the Joker wreaks havo...</td>\n",
       "      <td>Christopher Nolan</td>\n",
       "      <td>Christian Bale, Heath Ledger, Aaron Eckhart,Mi...</td>\n",
       "      <td>2008</td>\n",
       "      <td>152</td>\n",
       "      <td>9.0</td>\n",
       "      <td>1791916</td>\n",
       "      <td>533.32</td>\n",
       "      <td>82.0</td>\n",
       "    </tr>\n",
       "    <tr>\n",
       "      <th>The Prestige</th>\n",
       "      <td>65</td>\n",
       "      <td>Drama,Mystery,Sci-Fi</td>\n",
       "      <td>Two stage magicians engage in competitive one-...</td>\n",
       "      <td>Christopher Nolan</td>\n",
       "      <td>Christian Bale, Hugh Jackman, Scarlett Johanss...</td>\n",
       "      <td>2006</td>\n",
       "      <td>130</td>\n",
       "      <td>8.5</td>\n",
       "      <td>913152</td>\n",
       "      <td>53.08</td>\n",
       "      <td>66.0</td>\n",
       "    </tr>\n",
       "    <tr>\n",
       "      <th>Inception</th>\n",
       "      <td>81</td>\n",
       "      <td>Action,Adventure,Sci-Fi</td>\n",
       "      <td>A thief, who steals corporate secrets through ...</td>\n",
       "      <td>Christopher Nolan</td>\n",
       "      <td>Leonardo DiCaprio, Joseph Gordon-Levitt, Ellen...</td>\n",
       "      <td>2010</td>\n",
       "      <td>148</td>\n",
       "      <td>8.8</td>\n",
       "      <td>1583625</td>\n",
       "      <td>292.57</td>\n",
       "      <td>74.0</td>\n",
       "    </tr>\n",
       "  </tbody>\n",
       "</table>\n",
       "</div>"
      ],
      "text/plain": [
       "                 rank                     genre  ... revenue_millions metascore\n",
       "Title                                            ...                           \n",
       "Prometheus          2  Adventure,Mystery,Sci-Fi  ...           126.46      65.0\n",
       "Interstellar       37    Adventure,Drama,Sci-Fi  ...           187.99      74.0\n",
       "The Dark Knight    55        Action,Crime,Drama  ...           533.32      82.0\n",
       "The Prestige       65      Drama,Mystery,Sci-Fi  ...            53.08      66.0\n",
       "Inception          81   Action,Adventure,Sci-Fi  ...           292.57      74.0\n",
       "\n",
       "[5 rows x 11 columns]"
      ]
     },
     "execution_count": 38,
     "metadata": {
      "tags": []
     },
     "output_type": "execute_result"
    }
   ],
   "source": [
    "df_movies[(df_movies['director'] == 'Christopher Nolan') | (df_movies['director'] == 'Ridley Scott')].head()\n"
   ]
  },
  {
   "cell_type": "code",
   "execution_count": null,
   "metadata": {
    "colab": {
     "base_uri": "https://localhost:8080/",
     "height": 320
    },
    "executionInfo": {
     "elapsed": 452,
     "status": "ok",
     "timestamp": 1600743910908,
     "user": {
      "displayName": "Daniel Anton",
      "photoUrl": "",
      "userId": "07817160354765211624"
     },
     "user_tz": -60
    },
    "id": "rV-J17SLxZYI",
    "outputId": "11537930-8ae2-43ea-ff89-15a76e70da8a"
   },
   "outputs": [
    {
     "data": {
      "text/html": [
       "<div>\n",
       "<style scoped>\n",
       "    .dataframe tbody tr th:only-of-type {\n",
       "        vertical-align: middle;\n",
       "    }\n",
       "\n",
       "    .dataframe tbody tr th {\n",
       "        vertical-align: top;\n",
       "    }\n",
       "\n",
       "    .dataframe thead th {\n",
       "        text-align: right;\n",
       "    }\n",
       "</style>\n",
       "<table border=\"1\" class=\"dataframe\">\n",
       "  <thead>\n",
       "    <tr style=\"text-align: right;\">\n",
       "      <th></th>\n",
       "      <th>rank</th>\n",
       "      <th>genre</th>\n",
       "      <th>description</th>\n",
       "      <th>director</th>\n",
       "      <th>actors</th>\n",
       "      <th>year</th>\n",
       "      <th>runtime</th>\n",
       "      <th>rating</th>\n",
       "      <th>votes</th>\n",
       "      <th>revenue_millions</th>\n",
       "      <th>metascore</th>\n",
       "    </tr>\n",
       "    <tr>\n",
       "      <th>Title</th>\n",
       "      <th></th>\n",
       "      <th></th>\n",
       "      <th></th>\n",
       "      <th></th>\n",
       "      <th></th>\n",
       "      <th></th>\n",
       "      <th></th>\n",
       "      <th></th>\n",
       "      <th></th>\n",
       "      <th></th>\n",
       "      <th></th>\n",
       "    </tr>\n",
       "  </thead>\n",
       "  <tbody>\n",
       "    <tr>\n",
       "      <th>Prometheus</th>\n",
       "      <td>2</td>\n",
       "      <td>Adventure,Mystery,Sci-Fi</td>\n",
       "      <td>Following clues to the origin of mankind, a te...</td>\n",
       "      <td>Ridley Scott</td>\n",
       "      <td>Noomi Rapace, Logan Marshall-Green, Michael Fa...</td>\n",
       "      <td>2012</td>\n",
       "      <td>124</td>\n",
       "      <td>7.0</td>\n",
       "      <td>485820</td>\n",
       "      <td>126.46</td>\n",
       "      <td>65.0</td>\n",
       "    </tr>\n",
       "    <tr>\n",
       "      <th>Interstellar</th>\n",
       "      <td>37</td>\n",
       "      <td>Adventure,Drama,Sci-Fi</td>\n",
       "      <td>A team of explorers travel through a wormhole ...</td>\n",
       "      <td>Christopher Nolan</td>\n",
       "      <td>Matthew McConaughey, Anne Hathaway, Jessica Ch...</td>\n",
       "      <td>2014</td>\n",
       "      <td>169</td>\n",
       "      <td>8.6</td>\n",
       "      <td>1047747</td>\n",
       "      <td>187.99</td>\n",
       "      <td>74.0</td>\n",
       "    </tr>\n",
       "    <tr>\n",
       "      <th>The Dark Knight</th>\n",
       "      <td>55</td>\n",
       "      <td>Action,Crime,Drama</td>\n",
       "      <td>When the menace known as the Joker wreaks havo...</td>\n",
       "      <td>Christopher Nolan</td>\n",
       "      <td>Christian Bale, Heath Ledger, Aaron Eckhart,Mi...</td>\n",
       "      <td>2008</td>\n",
       "      <td>152</td>\n",
       "      <td>9.0</td>\n",
       "      <td>1791916</td>\n",
       "      <td>533.32</td>\n",
       "      <td>82.0</td>\n",
       "    </tr>\n",
       "    <tr>\n",
       "      <th>The Prestige</th>\n",
       "      <td>65</td>\n",
       "      <td>Drama,Mystery,Sci-Fi</td>\n",
       "      <td>Two stage magicians engage in competitive one-...</td>\n",
       "      <td>Christopher Nolan</td>\n",
       "      <td>Christian Bale, Hugh Jackman, Scarlett Johanss...</td>\n",
       "      <td>2006</td>\n",
       "      <td>130</td>\n",
       "      <td>8.5</td>\n",
       "      <td>913152</td>\n",
       "      <td>53.08</td>\n",
       "      <td>66.0</td>\n",
       "    </tr>\n",
       "    <tr>\n",
       "      <th>Inception</th>\n",
       "      <td>81</td>\n",
       "      <td>Action,Adventure,Sci-Fi</td>\n",
       "      <td>A thief, who steals corporate secrets through ...</td>\n",
       "      <td>Christopher Nolan</td>\n",
       "      <td>Leonardo DiCaprio, Joseph Gordon-Levitt, Ellen...</td>\n",
       "      <td>2010</td>\n",
       "      <td>148</td>\n",
       "      <td>8.8</td>\n",
       "      <td>1583625</td>\n",
       "      <td>292.57</td>\n",
       "      <td>74.0</td>\n",
       "    </tr>\n",
       "  </tbody>\n",
       "</table>\n",
       "</div>"
      ],
      "text/plain": [
       "                 rank                     genre  ... revenue_millions metascore\n",
       "Title                                            ...                           \n",
       "Prometheus          2  Adventure,Mystery,Sci-Fi  ...           126.46      65.0\n",
       "Interstellar       37    Adventure,Drama,Sci-Fi  ...           187.99      74.0\n",
       "The Dark Knight    55        Action,Crime,Drama  ...           533.32      82.0\n",
       "The Prestige       65      Drama,Mystery,Sci-Fi  ...            53.08      66.0\n",
       "Inception          81   Action,Adventure,Sci-Fi  ...           292.57      74.0\n",
       "\n",
       "[5 rows x 11 columns]"
      ]
     },
     "execution_count": 39,
     "metadata": {
      "tags": []
     },
     "output_type": "execute_result"
    }
   ],
   "source": [
    "df_movies[df_movies['director'].isin(['Christopher Nolan', 'Ridley Scott'])].head()"
   ]
  },
  {
   "cell_type": "code",
   "execution_count": null,
   "metadata": {
    "colab": {
     "base_uri": "https://localhost:8080/",
     "height": 272
    },
    "executionInfo": {
     "elapsed": 533,
     "status": "ok",
     "timestamp": 1600743931055,
     "user": {
      "displayName": "Daniel Anton",
      "photoUrl": "",
      "userId": "07817160354765211624"
     },
     "user_tz": -60
    },
    "id": "vevyDE3axdqz",
    "outputId": "7ce551eb-4a73-4b3a-f361-0b1e2fece5a0"
   },
   "outputs": [
    {
     "data": {
      "text/html": [
       "<div>\n",
       "<style scoped>\n",
       "    .dataframe tbody tr th:only-of-type {\n",
       "        vertical-align: middle;\n",
       "    }\n",
       "\n",
       "    .dataframe tbody tr th {\n",
       "        vertical-align: top;\n",
       "    }\n",
       "\n",
       "    .dataframe thead th {\n",
       "        text-align: right;\n",
       "    }\n",
       "</style>\n",
       "<table border=\"1\" class=\"dataframe\">\n",
       "  <thead>\n",
       "    <tr style=\"text-align: right;\">\n",
       "      <th></th>\n",
       "      <th>rank</th>\n",
       "      <th>genre</th>\n",
       "      <th>description</th>\n",
       "      <th>director</th>\n",
       "      <th>actors</th>\n",
       "      <th>year</th>\n",
       "      <th>runtime</th>\n",
       "      <th>rating</th>\n",
       "      <th>votes</th>\n",
       "      <th>revenue_millions</th>\n",
       "      <th>metascore</th>\n",
       "    </tr>\n",
       "    <tr>\n",
       "      <th>Title</th>\n",
       "      <th></th>\n",
       "      <th></th>\n",
       "      <th></th>\n",
       "      <th></th>\n",
       "      <th></th>\n",
       "      <th></th>\n",
       "      <th></th>\n",
       "      <th></th>\n",
       "      <th></th>\n",
       "      <th></th>\n",
       "      <th></th>\n",
       "    </tr>\n",
       "  </thead>\n",
       "  <tbody>\n",
       "    <tr>\n",
       "      <th>3 Idiots</th>\n",
       "      <td>431</td>\n",
       "      <td>Comedy,Drama</td>\n",
       "      <td>Two friends are searching for their long lost ...</td>\n",
       "      <td>Rajkumar Hirani</td>\n",
       "      <td>Aamir Khan, Madhavan, Mona Singh, Sharman Joshi</td>\n",
       "      <td>2009</td>\n",
       "      <td>170</td>\n",
       "      <td>8.4</td>\n",
       "      <td>238789</td>\n",
       "      <td>6.52</td>\n",
       "      <td>67.0</td>\n",
       "    </tr>\n",
       "    <tr>\n",
       "      <th>The Lives of Others</th>\n",
       "      <td>477</td>\n",
       "      <td>Drama,Thriller</td>\n",
       "      <td>In 1984 East Berlin, an agent of the secret po...</td>\n",
       "      <td>Florian Henckel von Donnersmarck</td>\n",
       "      <td>Ulrich Mühe, Martina Gedeck,Sebastian Koch, Ul...</td>\n",
       "      <td>2006</td>\n",
       "      <td>137</td>\n",
       "      <td>8.5</td>\n",
       "      <td>278103</td>\n",
       "      <td>11.28</td>\n",
       "      <td>89.0</td>\n",
       "    </tr>\n",
       "    <tr>\n",
       "      <th>Incendies</th>\n",
       "      <td>714</td>\n",
       "      <td>Drama,Mystery,War</td>\n",
       "      <td>Twins journey to the Middle East to discover t...</td>\n",
       "      <td>Denis Villeneuve</td>\n",
       "      <td>Lubna Azabal, Mélissa Désormeaux-Poulin, Maxim...</td>\n",
       "      <td>2010</td>\n",
       "      <td>131</td>\n",
       "      <td>8.2</td>\n",
       "      <td>92863</td>\n",
       "      <td>6.86</td>\n",
       "      <td>80.0</td>\n",
       "    </tr>\n",
       "    <tr>\n",
       "      <th>Taare Zameen Par</th>\n",
       "      <td>992</td>\n",
       "      <td>Drama,Family,Music</td>\n",
       "      <td>An eight-year-old boy is thought to be a lazy ...</td>\n",
       "      <td>Aamir Khan</td>\n",
       "      <td>Darsheel Safary, Aamir Khan, Tanay Chheda, Sac...</td>\n",
       "      <td>2007</td>\n",
       "      <td>165</td>\n",
       "      <td>8.5</td>\n",
       "      <td>102697</td>\n",
       "      <td>1.20</td>\n",
       "      <td>42.0</td>\n",
       "    </tr>\n",
       "  </tbody>\n",
       "</table>\n",
       "</div>"
      ],
      "text/plain": [
       "                     rank               genre  ... revenue_millions metascore\n",
       "Title                                          ...                           \n",
       "3 Idiots              431        Comedy,Drama  ...             6.52      67.0\n",
       "The Lives of Others   477      Drama,Thriller  ...            11.28      89.0\n",
       "Incendies             714   Drama,Mystery,War  ...             6.86      80.0\n",
       "Taare Zameen Par      992  Drama,Family,Music  ...             1.20      42.0\n",
       "\n",
       "[4 rows x 11 columns]"
      ]
     },
     "execution_count": 40,
     "metadata": {
      "tags": []
     },
     "output_type": "execute_result"
    }
   ],
   "source": [
    "df_movies[\n",
    "    ((df_movies['year'] >= 2005) & (df_movies['year'] <= 2010))\n",
    "    & (df_movies['rating'] > 8.0)\n",
    "    & (df_movies['revenue_millions'] < df_movies['revenue_millions'].quantile(0.25))\n",
    "]"
   ]
  },
  {
   "cell_type": "markdown",
   "metadata": {
    "id": "p3jGqcSFxjIh"
   },
   "source": [
    "## Applying functions"
   ]
  },
  {
   "cell_type": "code",
   "execution_count": null,
   "metadata": {
    "id": "txnlHuIhxlAH"
   },
   "outputs": [],
   "source": [
    "def rating_function(x):\n",
    "    if x >= 8.0:\n",
    "        return \"good\"\n",
    "    else:\n",
    "        return \"bad\""
   ]
  },
  {
   "cell_type": "code",
   "execution_count": null,
   "metadata": {
    "colab": {
     "base_uri": "https://localhost:8080/",
     "height": 176
    },
    "executionInfo": {
     "elapsed": 603,
     "status": "ok",
     "timestamp": 1600743982345,
     "user": {
      "displayName": "Daniel Anton",
      "photoUrl": "",
      "userId": "07817160354765211624"
     },
     "user_tz": -60
    },
    "id": "kyxtDjtoxqyZ",
    "outputId": "29bbb3bd-b7e6-466f-9421-774d00b7ffe8"
   },
   "outputs": [
    {
     "data": {
      "text/html": [
       "<div>\n",
       "<style scoped>\n",
       "    .dataframe tbody tr th:only-of-type {\n",
       "        vertical-align: middle;\n",
       "    }\n",
       "\n",
       "    .dataframe tbody tr th {\n",
       "        vertical-align: top;\n",
       "    }\n",
       "\n",
       "    .dataframe thead th {\n",
       "        text-align: right;\n",
       "    }\n",
       "</style>\n",
       "<table border=\"1\" class=\"dataframe\">\n",
       "  <thead>\n",
       "    <tr style=\"text-align: right;\">\n",
       "      <th></th>\n",
       "      <th>rank</th>\n",
       "      <th>genre</th>\n",
       "      <th>description</th>\n",
       "      <th>director</th>\n",
       "      <th>actors</th>\n",
       "      <th>year</th>\n",
       "      <th>runtime</th>\n",
       "      <th>rating</th>\n",
       "      <th>votes</th>\n",
       "      <th>revenue_millions</th>\n",
       "      <th>metascore</th>\n",
       "      <th>rating_category</th>\n",
       "    </tr>\n",
       "    <tr>\n",
       "      <th>Title</th>\n",
       "      <th></th>\n",
       "      <th></th>\n",
       "      <th></th>\n",
       "      <th></th>\n",
       "      <th></th>\n",
       "      <th></th>\n",
       "      <th></th>\n",
       "      <th></th>\n",
       "      <th></th>\n",
       "      <th></th>\n",
       "      <th></th>\n",
       "      <th></th>\n",
       "    </tr>\n",
       "  </thead>\n",
       "  <tbody>\n",
       "    <tr>\n",
       "      <th>Guardians of the Galaxy</th>\n",
       "      <td>1</td>\n",
       "      <td>Action,Adventure,Sci-Fi</td>\n",
       "      <td>A group of intergalactic criminals are forced ...</td>\n",
       "      <td>James Gunn</td>\n",
       "      <td>Chris Pratt, Vin Diesel, Bradley Cooper, Zoe S...</td>\n",
       "      <td>2014</td>\n",
       "      <td>121</td>\n",
       "      <td>8.1</td>\n",
       "      <td>757074</td>\n",
       "      <td>333.13</td>\n",
       "      <td>76.0</td>\n",
       "      <td>good</td>\n",
       "    </tr>\n",
       "    <tr>\n",
       "      <th>Prometheus</th>\n",
       "      <td>2</td>\n",
       "      <td>Adventure,Mystery,Sci-Fi</td>\n",
       "      <td>Following clues to the origin of mankind, a te...</td>\n",
       "      <td>Ridley Scott</td>\n",
       "      <td>Noomi Rapace, Logan Marshall-Green, Michael Fa...</td>\n",
       "      <td>2012</td>\n",
       "      <td>124</td>\n",
       "      <td>7.0</td>\n",
       "      <td>485820</td>\n",
       "      <td>126.46</td>\n",
       "      <td>65.0</td>\n",
       "      <td>bad</td>\n",
       "    </tr>\n",
       "  </tbody>\n",
       "</table>\n",
       "</div>"
      ],
      "text/plain": [
       "                         rank  ... rating_category\n",
       "Title                          ...                \n",
       "Guardians of the Galaxy     1  ...            good\n",
       "Prometheus                  2  ...             bad\n",
       "\n",
       "[2 rows x 12 columns]"
      ]
     },
     "execution_count": 42,
     "metadata": {
      "tags": []
     },
     "output_type": "execute_result"
    }
   ],
   "source": [
    "df_movies[\"rating_category\"] = df_movies[\"rating\"].apply(rating_function)\n",
    "\n",
    "# movies_df[\"rating_category\"] = movies_df[\"rating\"].apply(lambda x: 'good' if x >= 8.0 else 'bad')\n",
    "\n",
    "df_movies.head(2)"
   ]
  }
 ],
 "metadata": {
  "colab": {
   "collapsed_sections": [],
   "name": "lesson 2 - pandas.ipynb",
   "provenance": [],
   "toc_visible": true
  },
  "kernelspec": {
   "display_name": "Python 3",
   "language": "python",
   "name": "python3"
  },
  "language_info": {
   "codemirror_mode": {
    "name": "ipython",
    "version": 3
   },
   "file_extension": ".py",
   "mimetype": "text/x-python",
   "name": "python",
   "nbconvert_exporter": "python",
   "pygments_lexer": "ipython3",
   "version": "3.8.5"
  }
 },
 "nbformat": 4,
 "nbformat_minor": 4
}
