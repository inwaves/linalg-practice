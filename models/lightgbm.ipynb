{
 "cells": [
  {
   "cell_type": "markdown",
   "metadata": {
    "cell_id": "00000-167ed907-43c2-4703-ac1e-f972fb749a57",
    "tags": []
   },
   "source": [
    "## Gradient boosting with LightGBM\n",
    "\n",
    "Scope:\n",
    "- I'm going to train a gradient boosting model on the same diabetes dataset I used in the linear regression example. I'm going to compare the performance with the baseline model."
   ]
  },
  {
   "cell_type": "code",
   "execution_count": 7,
   "metadata": {
    "cell_id": "00001-752a4889-b6b3-4d25-b4d8-413fd2e57a76",
    "execution_millis": 1,
    "execution_start": 1604179960955,
    "output_cleared": false,
    "source_hash": "b6715547",
    "tags": []
   },
   "outputs": [],
   "source": [
    "from lightgbm import LGBMRegressor, plot_tree, plot_metric\n",
    "from sklearn.model_selection import train_test_split\n",
    "from sklearn.metrics import mean_squared_error, mean_absolute_error, r2_score\n",
    "import pandas as pd\n",
    "import altair as alt\n",
    "import matplotlib.pyplot as plt\n",
    "import seaborn as sns\n",
    "import numpy as np\n",
    "import graphviz"
   ]
  },
  {
   "cell_type": "code",
   "execution_count": 32,
   "metadata": {
    "cell_id": "00002-28ff42f3-3ead-43b5-94af-6fc1e2e2a173",
    "execution_millis": 0,
    "execution_start": 1604178778547,
    "output_cleared": false,
    "source_hash": "5e3b34ed",
    "tags": []
   },
   "outputs": [],
   "source": [
    "diabetes_df = pd.read_csv('../data/diabetes.csv')\n",
    "\n",
    "# I want the column names to be a bit more descriptive\n",
    "diabetes_df.rename(columns={'S1':'t_cells', 'S2':'ld_lipo', 'S3':'hd_lipo',\n",
    "                            'S4':'thyroid_sh', 'S5':'lamotrigine', 'S6':'blood_sugar'}, inplace=True)\n",
    "\n",
    "diabetes_df.columns = [col.lower() for col in diabetes_df]"
   ]
  },
  {
   "cell_type": "markdown",
   "metadata": {
    "cell_id": "00004-bdef3569-3ab9-465d-aa12-3d7d59f7cb22",
    "tags": []
   },
   "source": [
    "Let's see what this dataset looks like."
   ]
  },
  {
   "cell_type": "code",
   "execution_count": 20,
   "metadata": {
    "cell_id": "00005-bb51d215-6864-46a1-9ad0-d52a15fdff60",
    "execution_millis": 3,
    "execution_start": 1604178830245,
    "output_cleared": false,
    "source_hash": "f618742",
    "tags": []
   },
   "outputs": [
    {
     "name": "stdout",
     "output_type": "stream",
     "text": [
      "<class 'pandas.core.frame.DataFrame'>\n",
      "RangeIndex: 442 entries, 0 to 441\n",
      "Data columns (total 11 columns):\n",
      " #   Column       Non-Null Count  Dtype  \n",
      "---  ------       --------------  -----  \n",
      " 0   age          442 non-null    int64  \n",
      " 1   sex          442 non-null    int64  \n",
      " 2   bmi          442 non-null    float64\n",
      " 3   bp           442 non-null    float64\n",
      " 4   t_cells      442 non-null    int64  \n",
      " 5   ld_lipo      442 non-null    float64\n",
      " 6   hd_lipo      442 non-null    float64\n",
      " 7   thyroid-sh   442 non-null    float64\n",
      " 8   lamotrigine  442 non-null    float64\n",
      " 9   blood_sugar  442 non-null    int64  \n",
      " 10  y            442 non-null    int64  \n",
      "dtypes: float64(6), int64(5)\n",
      "memory usage: 38.1 KB\n"
     ]
    }
   ],
   "source": [
    "diabetes_df.info()"
   ]
  },
  {
   "cell_type": "markdown",
   "metadata": {
    "cell_id": "00006-77daec2b-cc51-46d4-b0f4-8716c65adc7f",
    "tags": []
   },
   "source": [
    "We have no null values, which is great. We have 10 features or predictive variables and one target variable, Y. Y is a quantitative measure of disease progression one year after baseline.\n",
    "\n",
    "---\n",
    "\n",
    "Let's look at whether any of our features are well-correlated.  \n",
    "Below, I can see that ld_lipo and t_cells are really highly-correlated: 0.896. So are lamotrigine and thyroid_sh at 0.617. ld_lipo and thyroid_sh are 0.659. This dataset is messy."
   ]
  },
  {
   "cell_type": "code",
   "execution_count": 27,
   "metadata": {
    "cell_id": "00007-31ede022-3c97-4b8d-a7d1-62b39e4e119c",
    "execution_millis": 23,
    "execution_start": 1604178896073,
    "output_cleared": false,
    "source_hash": "eecfbfe9",
    "tags": []
   },
   "outputs": [
    {
     "data": {
      "text/html": [
       "<div>\n",
       "<style scoped>\n",
       "    .dataframe tbody tr th:only-of-type {\n",
       "        vertical-align: middle;\n",
       "    }\n",
       "\n",
       "    .dataframe tbody tr th {\n",
       "        vertical-align: top;\n",
       "    }\n",
       "\n",
       "    .dataframe thead th {\n",
       "        text-align: right;\n",
       "    }\n",
       "</style>\n",
       "<table border=\"1\" class=\"dataframe\">\n",
       "  <thead>\n",
       "    <tr style=\"text-align: right;\">\n",
       "      <th></th>\n",
       "      <th>age</th>\n",
       "      <th>sex</th>\n",
       "      <th>bmi</th>\n",
       "      <th>bp</th>\n",
       "      <th>hd_lipo</th>\n",
       "      <th>thyroid_sh</th>\n",
       "      <th>lamotrigine</th>\n",
       "      <th>blood_sugar</th>\n",
       "      <th>y</th>\n",
       "    </tr>\n",
       "  </thead>\n",
       "  <tbody>\n",
       "    <tr>\n",
       "      <th>age</th>\n",
       "      <td>1.000000</td>\n",
       "      <td>0.173737</td>\n",
       "      <td>0.185085</td>\n",
       "      <td>0.335428</td>\n",
       "      <td>-0.075181</td>\n",
       "      <td>0.203841</td>\n",
       "      <td>0.270774</td>\n",
       "      <td>0.301731</td>\n",
       "      <td>0.187889</td>\n",
       "    </tr>\n",
       "    <tr>\n",
       "      <th>sex</th>\n",
       "      <td>0.173737</td>\n",
       "      <td>1.000000</td>\n",
       "      <td>0.088161</td>\n",
       "      <td>0.241010</td>\n",
       "      <td>-0.379090</td>\n",
       "      <td>0.332115</td>\n",
       "      <td>0.149916</td>\n",
       "      <td>0.208133</td>\n",
       "      <td>0.043062</td>\n",
       "    </tr>\n",
       "    <tr>\n",
       "      <th>bmi</th>\n",
       "      <td>0.185085</td>\n",
       "      <td>0.088161</td>\n",
       "      <td>1.000000</td>\n",
       "      <td>0.395411</td>\n",
       "      <td>-0.366811</td>\n",
       "      <td>0.413807</td>\n",
       "      <td>0.446157</td>\n",
       "      <td>0.388680</td>\n",
       "      <td>0.586450</td>\n",
       "    </tr>\n",
       "    <tr>\n",
       "      <th>bp</th>\n",
       "      <td>0.335428</td>\n",
       "      <td>0.241010</td>\n",
       "      <td>0.395411</td>\n",
       "      <td>1.000000</td>\n",
       "      <td>-0.178762</td>\n",
       "      <td>0.257650</td>\n",
       "      <td>0.393480</td>\n",
       "      <td>0.390430</td>\n",
       "      <td>0.441482</td>\n",
       "    </tr>\n",
       "    <tr>\n",
       "      <th>hd_lipo</th>\n",
       "      <td>-0.075181</td>\n",
       "      <td>-0.379090</td>\n",
       "      <td>-0.366811</td>\n",
       "      <td>-0.178762</td>\n",
       "      <td>1.000000</td>\n",
       "      <td>-0.738493</td>\n",
       "      <td>-0.398577</td>\n",
       "      <td>-0.273697</td>\n",
       "      <td>-0.394789</td>\n",
       "    </tr>\n",
       "    <tr>\n",
       "      <th>thyroid_sh</th>\n",
       "      <td>0.203841</td>\n",
       "      <td>0.332115</td>\n",
       "      <td>0.413807</td>\n",
       "      <td>0.257650</td>\n",
       "      <td>-0.738493</td>\n",
       "      <td>1.000000</td>\n",
       "      <td>0.617859</td>\n",
       "      <td>0.417212</td>\n",
       "      <td>0.430453</td>\n",
       "    </tr>\n",
       "    <tr>\n",
       "      <th>lamotrigine</th>\n",
       "      <td>0.270774</td>\n",
       "      <td>0.149916</td>\n",
       "      <td>0.446157</td>\n",
       "      <td>0.393480</td>\n",
       "      <td>-0.398577</td>\n",
       "      <td>0.617859</td>\n",
       "      <td>1.000000</td>\n",
       "      <td>0.464669</td>\n",
       "      <td>0.565883</td>\n",
       "    </tr>\n",
       "    <tr>\n",
       "      <th>blood_sugar</th>\n",
       "      <td>0.301731</td>\n",
       "      <td>0.208133</td>\n",
       "      <td>0.388680</td>\n",
       "      <td>0.390430</td>\n",
       "      <td>-0.273697</td>\n",
       "      <td>0.417212</td>\n",
       "      <td>0.464669</td>\n",
       "      <td>1.000000</td>\n",
       "      <td>0.382483</td>\n",
       "    </tr>\n",
       "    <tr>\n",
       "      <th>y</th>\n",
       "      <td>0.187889</td>\n",
       "      <td>0.043062</td>\n",
       "      <td>0.586450</td>\n",
       "      <td>0.441482</td>\n",
       "      <td>-0.394789</td>\n",
       "      <td>0.430453</td>\n",
       "      <td>0.565883</td>\n",
       "      <td>0.382483</td>\n",
       "      <td>1.000000</td>\n",
       "    </tr>\n",
       "  </tbody>\n",
       "</table>\n",
       "</div>"
      ],
      "text/plain": [
       "                  age       sex       bmi        bp   hd_lipo  thyroid_sh  \\\n",
       "age          1.000000  0.173737  0.185085  0.335428 -0.075181    0.203841   \n",
       "sex          0.173737  1.000000  0.088161  0.241010 -0.379090    0.332115   \n",
       "bmi          0.185085  0.088161  1.000000  0.395411 -0.366811    0.413807   \n",
       "bp           0.335428  0.241010  0.395411  1.000000 -0.178762    0.257650   \n",
       "hd_lipo     -0.075181 -0.379090 -0.366811 -0.178762  1.000000   -0.738493   \n",
       "thyroid_sh   0.203841  0.332115  0.413807  0.257650 -0.738493    1.000000   \n",
       "lamotrigine  0.270774  0.149916  0.446157  0.393480 -0.398577    0.617859   \n",
       "blood_sugar  0.301731  0.208133  0.388680  0.390430 -0.273697    0.417212   \n",
       "y            0.187889  0.043062  0.586450  0.441482 -0.394789    0.430453   \n",
       "\n",
       "             lamotrigine  blood_sugar         y  \n",
       "age             0.270774     0.301731  0.187889  \n",
       "sex             0.149916     0.208133  0.043062  \n",
       "bmi             0.446157     0.388680  0.586450  \n",
       "bp              0.393480     0.390430  0.441482  \n",
       "hd_lipo        -0.398577    -0.273697 -0.394789  \n",
       "thyroid_sh      0.617859     0.417212  0.430453  \n",
       "lamotrigine     1.000000     0.464669  0.565883  \n",
       "blood_sugar     0.464669     1.000000  0.382483  \n",
       "y               0.565883     0.382483  1.000000  "
      ]
     },
     "execution_count": 27,
     "metadata": {},
     "output_type": "execute_result"
    }
   ],
   "source": [
    "diabetes_df.corr()"
   ]
  },
  {
   "cell_type": "markdown",
   "metadata": {},
   "source": [
    "Testing a hypothesis: our models do poorly because of correlated features."
   ]
  },
  {
   "cell_type": "code",
   "execution_count": 33,
   "metadata": {},
   "outputs": [],
   "source": [
    "# diabetes_df = diabetes_df.drop('ld_lipo', axis=1)\n",
    "diabetes_df = diabetes_df.drop('thyroid_sh', axis=1)\n",
    "# diabetes_df = diabetes_df.drop('t_cells', axis=1)\n",
    "# diabetes_df = diabetes_df.drop('sex', axis=1)"
   ]
  },
  {
   "cell_type": "code",
   "execution_count": 34,
   "metadata": {
    "cell_id": "00004-673fd3a6-54d9-4f1b-a0ff-894eded6e8f0",
    "execution_millis": 3,
    "execution_start": 1604180008595,
    "output_cleared": false,
    "source_hash": "91156ab0",
    "tags": []
   },
   "outputs": [],
   "source": [
    "# let's eliminate the predicted column, then split the data\n",
    "X = diabetes_df.drop('y', axis=1)\n",
    "y = diabetes_df['y']\n",
    "\n",
    "X_train, X_test, y_train, y_test = train_test_split(X, y, test_size=0.2, random_state=123, shuffle=True)"
   ]
  },
  {
   "cell_type": "code",
   "execution_count": 35,
   "metadata": {},
   "outputs": [],
   "source": [
    "def run_booster(learning_rate):\n",
    "    bst = LGBMRegressor(n_estimators=100, learning_rate=learning_rate, n_jobs=8, num_leaves=50) # initialising using scikit API\n",
    "    bst.fit(X_train, y_train,\n",
    "            eval_set=[(X_test, y_test)],\n",
    "            early_stopping_rounds=10,\n",
    "            verbose=False)\n",
    "#     plot_metric(bst)\n",
    "    # predicting the test data\n",
    "    return bst.predict(X_test)"
   ]
  },
  {
   "cell_type": "code",
   "execution_count": 36,
   "metadata": {
    "cell_id": "00009-181c0a06-ff9e-4909-8285-cd87c8009ed4",
    "execution_millis": 3,
    "execution_start": 1604180133395,
    "output_cleared": false,
    "source_hash": "e33ec73",
    "tags": []
   },
   "outputs": [
    {
     "data": {
      "text/html": [
       "<div>\n",
       "<style scoped>\n",
       "    .dataframe tbody tr th:only-of-type {\n",
       "        vertical-align: middle;\n",
       "    }\n",
       "\n",
       "    .dataframe tbody tr th {\n",
       "        vertical-align: top;\n",
       "    }\n",
       "\n",
       "    .dataframe thead th {\n",
       "        text-align: right;\n",
       "    }\n",
       "</style>\n",
       "<table border=\"1\" class=\"dataframe\">\n",
       "  <thead>\n",
       "    <tr style=\"text-align: right;\">\n",
       "      <th></th>\n",
       "      <th>mean_absolute_error</th>\n",
       "      <th>r2_score</th>\n",
       "    </tr>\n",
       "    <tr>\n",
       "      <th>learning_rate</th>\n",
       "      <th></th>\n",
       "      <th></th>\n",
       "    </tr>\n",
       "  </thead>\n",
       "  <tbody>\n",
       "    <tr>\n",
       "      <th>0.225253</th>\n",
       "      <td>41.542909</td>\n",
       "      <td>0.61</td>\n",
       "    </tr>\n",
       "    <tr>\n",
       "      <th>0.281818</th>\n",
       "      <td>41.265250</td>\n",
       "      <td>0.61</td>\n",
       "    </tr>\n",
       "    <tr>\n",
       "      <th>0.241414</th>\n",
       "      <td>39.380997</td>\n",
       "      <td>0.61</td>\n",
       "    </tr>\n",
       "    <tr>\n",
       "      <th>0.310101</th>\n",
       "      <td>41.730590</td>\n",
       "      <td>0.61</td>\n",
       "    </tr>\n",
       "    <tr>\n",
       "      <th>0.253535</th>\n",
       "      <td>41.063444</td>\n",
       "      <td>0.61</td>\n",
       "    </tr>\n",
       "    <tr>\n",
       "      <th>...</th>\n",
       "      <td>...</td>\n",
       "      <td>...</td>\n",
       "    </tr>\n",
       "    <tr>\n",
       "      <th>0.378788</th>\n",
       "      <td>44.590133</td>\n",
       "      <td>0.53</td>\n",
       "    </tr>\n",
       "    <tr>\n",
       "      <th>0.483838</th>\n",
       "      <td>45.239292</td>\n",
       "      <td>0.53</td>\n",
       "    </tr>\n",
       "    <tr>\n",
       "      <th>0.487879</th>\n",
       "      <td>45.196149</td>\n",
       "      <td>0.53</td>\n",
       "    </tr>\n",
       "    <tr>\n",
       "      <th>0.415152</th>\n",
       "      <td>44.684178</td>\n",
       "      <td>0.53</td>\n",
       "    </tr>\n",
       "    <tr>\n",
       "      <th>0.362626</th>\n",
       "      <td>44.918141</td>\n",
       "      <td>0.53</td>\n",
       "    </tr>\n",
       "  </tbody>\n",
       "</table>\n",
       "<p>100 rows × 2 columns</p>\n",
       "</div>"
      ],
      "text/plain": [
       "               mean_absolute_error  r2_score\n",
       "learning_rate                               \n",
       "0.225253                 41.542909      0.61\n",
       "0.281818                 41.265250      0.61\n",
       "0.241414                 39.380997      0.61\n",
       "0.310101                 41.730590      0.61\n",
       "0.253535                 41.063444      0.61\n",
       "...                            ...       ...\n",
       "0.378788                 44.590133      0.53\n",
       "0.483838                 45.239292      0.53\n",
       "0.487879                 45.196149      0.53\n",
       "0.415152                 44.684178      0.53\n",
       "0.362626                 44.918141      0.53\n",
       "\n",
       "[100 rows x 2 columns]"
      ]
     },
     "execution_count": 36,
     "metadata": {},
     "output_type": "execute_result"
    }
   ],
   "source": [
    "# testing 7 values for the learning rate, equally spaced between 0.001 and 1\n",
    "\n",
    "results = []\n",
    "alpha_range = np.linspace(0.1, 0.5, num=100)\n",
    "for alpha in alpha_range:\n",
    "    predictions_bst = run_booster(alpha)\n",
    "    results.append([alpha, \n",
    "                    mean_absolute_error(y_test, predictions_bst), \n",
    "                    round(r2_score(y_test, predictions_bst),2)])\n",
    "    \n",
    "column_names = ['learning_rate', 'mean_absolute_error', 'r2_score']\n",
    "res_df = pd.DataFrame(results, columns=column_names).set_index('learning_rate')\n",
    "res_df.sort_values(by='r2_score', ascending=False)"
   ]
  },
  {
   "cell_type": "markdown",
   "metadata": {},
   "source": [
    "LightGBM is better than XGBoost in this case, with 0.6 > 0.53, but still only slightly over a regular linear regressor."
   ]
  },
  {
   "cell_type": "code",
   "execution_count": null,
   "metadata": {
    "allow_embed": true,
    "cell_id": "00009-2728c762-6c8f-4669-9f91-f4bff9aae6e7",
    "execution_millis": 59,
    "execution_start": 1604182060731,
    "output_cleared": false,
    "source_hash": "7dcdfe7f",
    "tags": []
   },
   "outputs": [],
   "source": [
    "# just playing around with different visualisations\n",
    "# what would be useful to visualise?\n",
    "def plot_altair(column):\n",
    "    return alt.Chart(diabetes_df).mark_point(filled=True).encode(\n",
    "        x = alt.X(column, scale=alt.Scale(zero=False)),\n",
    "        y = alt.Y('y:Q', scale=alt.Scale(zero=False)))\n",
    "        # color = alt.Color('SEX:N'),\n",
    "        # size = alt.Size('blood_sugar:Q', title='Blood sugar'),\n",
    "        # opacity = alt.OpacityValue(0.5))\n",
    "\n",
    "# a regression line for each variable against the target variable\n",
    "# but this is the /actual/ target variable, not the model's prediction of it\n",
    "charts = []\n",
    "for col in list(X.columns):\n",
    "    chart = plot_altair(col + ':Q')\n",
    "    charts.append(chart + chart.transform_regression(str(col), 'Y').mark_line())\n",
    "\n",
    "alt.vconcat(*charts[2:])"
   ]
  },
  {
   "cell_type": "code",
   "execution_count": null,
   "metadata": {
    "cell_id": "00010-f28cc475-f59c-441e-bc53-0818529e27b6",
    "tags": []
   },
   "outputs": [],
   "source": []
  }
 ],
 "metadata": {
  "deepnote_execution_queue": [],
  "deepnote_notebook_id": "5431c781-5daa-4854-9ffe-cbada65a7811",
  "kernelspec": {
   "display_name": "Python 3",
   "language": "python",
   "name": "python3"
  },
  "language_info": {
   "codemirror_mode": {
    "name": "ipython",
    "version": 3
   },
   "file_extension": ".py",
   "mimetype": "text/x-python",
   "name": "python",
   "nbconvert_exporter": "python",
   "pygments_lexer": "ipython3",
   "version": "3.8.5"
  }
 },
 "nbformat": 4,
 "nbformat_minor": 4
}
