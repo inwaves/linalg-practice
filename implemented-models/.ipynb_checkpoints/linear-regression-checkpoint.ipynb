{
 "cells": [
  {
   "cell_type": "markdown",
   "metadata": {
    "cell_id": "00000-167ed907-43c2-4703-ac1e-f972fb749a57",
    "tags": []
   },
   "source": [
    "## Linear regression\n",
    "\n",
    "Scope:\n",
    "- I'm going to train a simple linear regressor as a baseline model on the scikit-learn diabetes dataset. The data was weirdly normalised, so I just loaded in the raw .csv from the source.\n",
    "- I'm also going to do some visualisation of the dataset with Altair and Seaborn, side-by-side;"
   ]
  },
  {
   "cell_type": "code",
   "execution_count": 2,
   "metadata": {
    "cell_id": "00001-752a4889-b6b3-4d25-b4d8-413fd2e57a76",
    "execution_millis": 1,
    "execution_start": 1604179960955,
    "output_cleared": false,
    "source_hash": "b6715547",
    "tags": []
   },
   "outputs": [],
   "source": [
    "from sklearn import linear_model\n",
    "from sklearn.model_selection import train_test_split\n",
    "from sklearn.metrics import mean_squared_error, mean_absolute_error, r2_score\n",
    "import pandas as pd\n",
    "import altair as alt\n",
    "import matplotlib.pyplot as plt\n",
    "import seaborn as sns"
   ]
  },
  {
   "cell_type": "code",
   "execution_count": 3,
   "metadata": {
    "cell_id": "00002-28ff42f3-3ead-43b5-94af-6fc1e2e2a173",
    "execution_millis": 0,
    "execution_start": 1604178778547,
    "output_cleared": false,
    "source_hash": "5e3b34ed",
    "tags": []
   },
   "outputs": [],
   "source": [
    "diabetes_df = pd.read_csv('../data/diabetes.csv')\n",
    "\n",
    "# I want the column names to be a bit more descriptive\n",
    "diabetes_df.rename(columns={'S1':'t_cells', 'S2':'ld_lipo', 'S3':'hd_lipo',\n",
    "                            'S4':'thyroid_sh', 'S5':'lamotrigine', 'S6':'blood_sugar'}, inplace=True)\n",
    "\n",
    "diabetes_df.columns = [col.lower() for col in diabetes_df]"
   ]
  },
  {
   "cell_type": "markdown",
   "metadata": {
    "cell_id": "00004-bdef3569-3ab9-465d-aa12-3d7d59f7cb22",
    "tags": []
   },
   "source": [
    "Let's see what this dataset looks like."
   ]
  },
  {
   "cell_type": "code",
   "execution_count": 5,
   "metadata": {
    "cell_id": "00005-bb51d215-6864-46a1-9ad0-d52a15fdff60",
    "execution_millis": 3,
    "execution_start": 1604178830245,
    "output_cleared": false,
    "source_hash": "f618742",
    "tags": []
   },
   "outputs": [
    {
     "name": "stdout",
     "output_type": "stream",
     "text": [
      "<class 'pandas.core.frame.DataFrame'>\n",
      "RangeIndex: 442 entries, 0 to 441\n",
      "Data columns (total 11 columns):\n",
      " #   Column       Non-Null Count  Dtype  \n",
      "---  ------       --------------  -----  \n",
      " 0   age          442 non-null    int64  \n",
      " 1   sex          442 non-null    int64  \n",
      " 2   bmi          442 non-null    float64\n",
      " 3   bp           442 non-null    float64\n",
      " 4   t_cells      442 non-null    int64  \n",
      " 5   ld_lipo      442 non-null    float64\n",
      " 6   hd_lipo      442 non-null    float64\n",
      " 7   thyroid-sh   442 non-null    float64\n",
      " 8   lamotrigine  442 non-null    float64\n",
      " 9   blood_sugar  442 non-null    int64  \n",
      " 10  y            442 non-null    int64  \n",
      "dtypes: float64(6), int64(5)\n",
      "memory usage: 38.1 KB\n"
     ]
    }
   ],
   "source": [
    "diabetes_df.info()"
   ]
  },
  {
   "cell_type": "markdown",
   "metadata": {
    "cell_id": "00006-77daec2b-cc51-46d4-b0f4-8716c65adc7f",
    "tags": []
   },
   "source": [
    "We have no null values, which is great. We have 10 features or predictive variables and one target variable, Y. Y is a quantitative measure of disease progression one year after baseline. But what does Y actually look like?"
   ]
  },
  {
   "cell_type": "code",
   "execution_count": 6,
   "metadata": {
    "cell_id": "00007-31ede022-3c97-4b8d-a7d1-62b39e4e119c",
    "execution_millis": 23,
    "execution_start": 1604178896073,
    "output_cleared": false,
    "source_hash": "eecfbfe9",
    "tags": []
   },
   "outputs": [
    {
     "data": {
      "text/plain": [
       "count    442.000000\n",
       "mean     152.133484\n",
       "std       77.093005\n",
       "min       25.000000\n",
       "25%       87.000000\n",
       "50%      140.500000\n",
       "75%      211.500000\n",
       "max      346.000000\n",
       "Name: y, dtype: float64"
      ]
     },
     "execution_count": 6,
     "metadata": {},
     "output_type": "execute_result"
    }
   ],
   "source": [
    "diabetes_df.describe()['y']"
   ]
  },
  {
   "cell_type": "code",
   "execution_count": 4,
   "metadata": {},
   "outputs": [],
   "source": [
    "diabetes_df = diabetes_df.drop('ld_lipo', axis=1)\n",
    "diabetes_df = diabetes_df.drop('thyroid_sh', axis=1)"
   ]
  },
  {
   "cell_type": "code",
   "execution_count": 16,
   "metadata": {
    "cell_id": "00004-673fd3a6-54d9-4f1b-a0ff-894eded6e8f0",
    "execution_millis": 3,
    "execution_start": 1604180008595,
    "output_cleared": false,
    "source_hash": "91156ab0",
    "tags": []
   },
   "outputs": [],
   "source": [
    "# let's eliminate the predicted column, then split the data\n",
    "X = diabetes_df.drop('y', axis=1)\n",
    "y = diabetes_df['y']\n",
    "\n",
    "X_train, X_test, y_train, y_test = train_test_split(X, y, test_size=0.2, random_state=123, shuffle=True)\n",
    "\n",
    "# training the linear regressor on the training data\n",
    "models = {}\n",
    "predictions = {}\n",
    "models['linear'] = linear_model.LinearRegression()\n",
    "models['ridge'] = linear_model.Ridge(random_state=0)\n",
    "models['lasso'] = linear_model.Lasso(random_state=0)\n",
    "models['elasticnet'] = linear_model.ElasticNet(random_state=0)\n",
    "\n",
    "# print([k, v for (k,v) in models.items()])\n",
    "for (model_name, model) in models.items():\n",
    "    model.fit(X_train, y_train)\n",
    "    predictions[model_name] = model.predict(X_test)"
   ]
  },
  {
   "cell_type": "code",
   "execution_count": 18,
   "metadata": {
    "cell_id": "00009-181c0a06-ff9e-4909-8285-cd87c8009ed4",
    "execution_millis": 3,
    "execution_start": 1604180133395,
    "output_cleared": false,
    "source_hash": "e33ec73",
    "tags": []
   },
   "outputs": [
    {
     "data": {
      "text/html": [
       "<div>\n",
       "<style scoped>\n",
       "    .dataframe tbody tr th:only-of-type {\n",
       "        vertical-align: middle;\n",
       "    }\n",
       "\n",
       "    .dataframe tbody tr th {\n",
       "        vertical-align: top;\n",
       "    }\n",
       "\n",
       "    .dataframe thead th {\n",
       "        text-align: right;\n",
       "    }\n",
       "</style>\n",
       "<table border=\"1\" class=\"dataframe\">\n",
       "  <thead>\n",
       "    <tr style=\"text-align: right;\">\n",
       "      <th></th>\n",
       "      <th>mean_absolute_error</th>\n",
       "      <th>r2_score</th>\n",
       "    </tr>\n",
       "    <tr>\n",
       "      <th>model_type</th>\n",
       "      <th></th>\n",
       "      <th></th>\n",
       "    </tr>\n",
       "  </thead>\n",
       "  <tbody>\n",
       "    <tr>\n",
       "      <th>linear</th>\n",
       "      <td>42.849647</td>\n",
       "      <td>0.571991</td>\n",
       "    </tr>\n",
       "    <tr>\n",
       "      <th>ridge</th>\n",
       "      <td>42.912183</td>\n",
       "      <td>0.570969</td>\n",
       "    </tr>\n",
       "    <tr>\n",
       "      <th>lasso</th>\n",
       "      <td>43.510871</td>\n",
       "      <td>0.560735</td>\n",
       "    </tr>\n",
       "    <tr>\n",
       "      <th>elasticnet</th>\n",
       "      <td>46.852633</td>\n",
       "      <td>0.491271</td>\n",
       "    </tr>\n",
       "  </tbody>\n",
       "</table>\n",
       "</div>"
      ],
      "text/plain": [
       "            mean_absolute_error  r2_score\n",
       "model_type                               \n",
       "linear                42.849647  0.571991\n",
       "ridge                 42.912183  0.570969\n",
       "lasso                 43.510871  0.560735\n",
       "elasticnet            46.852633  0.491271"
      ]
     },
     "execution_count": 18,
     "metadata": {},
     "output_type": "execute_result"
    }
   ],
   "source": [
    "# evaluating model\n",
    "scores = []\n",
    "for (model, prediction) in predictions.items():\n",
    "    scores.append([model, \n",
    "                   mean_absolute_error(y_test, prediction),\n",
    "                   r2_score(y_test, prediction)])\n",
    "\n",
    "column_names = ['model_type', 'mean_absolute_error', 'r2_score']\n",
    "res_df = pd.DataFrame(scores, columns=column_names).set_index('model_type')\n",
    "res_df.sort_values(by='r2_score', ascending=False)"
   ]
  },
  {
   "cell_type": "code",
   "execution_count": null,
   "metadata": {
    "allow_embed": true,
    "cell_id": "00009-2728c762-6c8f-4669-9f91-f4bff9aae6e7",
    "execution_millis": 59,
    "execution_start": 1604182060731,
    "output_cleared": false,
    "source_hash": "7dcdfe7f",
    "tags": []
   },
   "outputs": [],
   "source": [
    "# just playing around with different visualisations\n",
    "# what would be useful to visualise?\n",
    "def plot_altair(column):\n",
    "    return alt.Chart(diabetes_df).mark_point(filled=True).encode(\n",
    "        x = alt.X(column, scale=alt.Scale(zero=False)),\n",
    "        y = alt.Y('y:Q', scale=alt.Scale(zero=False)))\n",
    "        # color = alt.Color('SEX:N'),\n",
    "        # size = alt.Size('blood_sugar:Q', title='Blood sugar'),\n",
    "        # opacity = alt.OpacityValue(0.5))\n",
    "\n",
    "# a regression line for each variable against the target variable\n",
    "# but this is the /actual/ target variable, not the model's prediction of it\n",
    "charts = []\n",
    "for col in list(X.columns):\n",
    "    chart = plot_altair(col + ':Q')\n",
    "    charts.append(chart + chart.transform_regression(str(col), 'Y').mark_line())\n",
    "\n",
    "alt.vconcat(*charts[2:])"
   ]
  },
  {
   "cell_type": "code",
   "execution_count": null,
   "metadata": {
    "cell_id": "00010-f28cc475-f59c-441e-bc53-0818529e27b6",
    "tags": []
   },
   "outputs": [],
   "source": []
  }
 ],
 "metadata": {
  "deepnote_execution_queue": [],
  "deepnote_notebook_id": "5431c781-5daa-4854-9ffe-cbada65a7811",
  "kernelspec": {
   "display_name": "Python 3",
   "language": "python",
   "name": "python3"
  },
  "language_info": {
   "codemirror_mode": {
    "name": "ipython",
    "version": 3
   },
   "file_extension": ".py",
   "mimetype": "text/x-python",
   "name": "python",
   "nbconvert_exporter": "python",
   "pygments_lexer": "ipython3",
   "version": "3.8.5"
  }
 },
 "nbformat": 4,
 "nbformat_minor": 4
}
