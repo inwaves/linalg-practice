{
 "metadata": {
  "language_info": {
   "codemirror_mode": {
    "name": "ipython",
    "version": 3
   },
   "file_extension": ".py",
   "mimetype": "text/x-python",
   "name": "python",
   "nbconvert_exporter": "python",
   "pygments_lexer": "ipython3",
   "version": "3.8.5-final"
  },
  "orig_nbformat": 2,
  "kernelspec": {
   "name": "python3",
   "display_name": "Python 3"
  }
 },
 "nbformat": 4,
 "nbformat_minor": 2,
 "cells": [
  {
   "source": [
    "## Logistic regression\n",
    "---\n",
    "I'm using [this](https://www.kaggle.com/uciml/pima-indians-diabetes-database) dataset from UCI to try and predict whether a patient will develop diabetes. This is a binary classification tasks, with the target being either 0 (no diabetes) or 1 (onset of diabetes)."
   ],
   "cell_type": "markdown",
   "metadata": {}
  },
  {
   "cell_type": "code",
   "execution_count": 8,
   "metadata": {},
   "outputs": [],
   "source": [
    "import numpy as np # linear algebra\n",
    "import pandas as pd # data manipulation\n",
    "import altair as alt # visualisations\n",
    "from sklearn.linear_model import LogisticRegression\n",
    "from sklearn.model_selection import train_test_split\n",
    "from sklearn.metrics import precision_score, recall_score, accuracy_score, roc_auc_score"
   ]
  },
  {
   "cell_type": "code",
   "execution_count": 3,
   "metadata": {},
   "outputs": [],
   "source": [
    "diabetes_df = pd.read_csv('../data/diabetes-classification.csv')\n",
    "\n",
    "diabetes_df.columns = [col.lower() for col in diabetes_df.columns]"
   ]
  },
  {
   "source": [
    "First let's investigate our data. We have 7 predictive features and one target variable:\n",
    "- pregnancies: number of pregnancies of the patient (they are all female)\n",
    "- glucose: Plasma glucose concentration a 2 hours in an oral glucose tolerance test\n",
    "- bloodpressure: Diastolic blood pressure (mm Hg)\n",
    "- skinthickness: the skin thickness in mm at the tricep fold, a proxy indicator for BMI/obesity\n",
    "- insulin: 2-Hour serum insulin (mu U/ml)\n",
    "- bmi: body mass index (weight in kg)/((height in metres)^2)\n",
    "- age: age in years\n",
    "- outcome: 0 or 1"
   ],
   "cell_type": "markdown",
   "metadata": {}
  },
  {
   "cell_type": "code",
   "execution_count": 11,
   "metadata": {},
   "outputs": [
    {
     "output_type": "stream",
     "name": "stdout",
     "text": [
      "<class 'pandas.core.frame.DataFrame'>\nRangeIndex: 768 entries, 0 to 767\nData columns (total 9 columns):\n #   Column                    Non-Null Count  Dtype  \n---  ------                    --------------  -----  \n 0   pregnancies               768 non-null    int64  \n 1   glucose                   768 non-null    int64  \n 2   bloodpressure             768 non-null    int64  \n 3   skinthickness             768 non-null    int64  \n 4   insulin                   768 non-null    int64  \n 5   bmi                       768 non-null    float64\n 6   diabetespedigreefunction  768 non-null    float64\n 7   age                       768 non-null    int64  \n 8   outcome                   768 non-null    int64  \ndtypes: float64(2), int64(7)\nmemory usage: 54.1 KB\n"
     ]
    }
   ],
   "source": [
    "diabetes_df.info()"
   ]
  },
  {
   "cell_type": "code",
   "execution_count": 9,
   "metadata": {},
   "outputs": [
    {
     "output_type": "execute_result",
     "data": {
      "text/plain": [
       "                          pregnancies   glucose  bloodpressure  skinthickness  \\\n",
       "pregnancies                  1.000000  0.129459       0.141282      -0.081672   \n",
       "glucose                      0.129459  1.000000       0.152590       0.057328   \n",
       "bloodpressure                0.141282  0.152590       1.000000       0.207371   \n",
       "skinthickness               -0.081672  0.057328       0.207371       1.000000   \n",
       "insulin                     -0.073535  0.331357       0.088933       0.436783   \n",
       "bmi                          0.017683  0.221071       0.281805       0.392573   \n",
       "diabetespedigreefunction    -0.033523  0.137337       0.041265       0.183928   \n",
       "age                          0.544341  0.263514       0.239528      -0.113970   \n",
       "outcome                      0.221898  0.466581       0.065068       0.074752   \n",
       "\n",
       "                           insulin       bmi  diabetespedigreefunction  \\\n",
       "pregnancies              -0.073535  0.017683                 -0.033523   \n",
       "glucose                   0.331357  0.221071                  0.137337   \n",
       "bloodpressure             0.088933  0.281805                  0.041265   \n",
       "skinthickness             0.436783  0.392573                  0.183928   \n",
       "insulin                   1.000000  0.197859                  0.185071   \n",
       "bmi                       0.197859  1.000000                  0.140647   \n",
       "diabetespedigreefunction  0.185071  0.140647                  1.000000   \n",
       "age                      -0.042163  0.036242                  0.033561   \n",
       "outcome                   0.130548  0.292695                  0.173844   \n",
       "\n",
       "                               age   outcome  \n",
       "pregnancies               0.544341  0.221898  \n",
       "glucose                   0.263514  0.466581  \n",
       "bloodpressure             0.239528  0.065068  \n",
       "skinthickness            -0.113970  0.074752  \n",
       "insulin                  -0.042163  0.130548  \n",
       "bmi                       0.036242  0.292695  \n",
       "diabetespedigreefunction  0.033561  0.173844  \n",
       "age                       1.000000  0.238356  \n",
       "outcome                   0.238356  1.000000  "
      ],
      "text/html": "<div>\n<style scoped>\n    .dataframe tbody tr th:only-of-type {\n        vertical-align: middle;\n    }\n\n    .dataframe tbody tr th {\n        vertical-align: top;\n    }\n\n    .dataframe thead th {\n        text-align: right;\n    }\n</style>\n<table border=\"1\" class=\"dataframe\">\n  <thead>\n    <tr style=\"text-align: right;\">\n      <th></th>\n      <th>pregnancies</th>\n      <th>glucose</th>\n      <th>bloodpressure</th>\n      <th>skinthickness</th>\n      <th>insulin</th>\n      <th>bmi</th>\n      <th>diabetespedigreefunction</th>\n      <th>age</th>\n      <th>outcome</th>\n    </tr>\n  </thead>\n  <tbody>\n    <tr>\n      <th>pregnancies</th>\n      <td>1.000000</td>\n      <td>0.129459</td>\n      <td>0.141282</td>\n      <td>-0.081672</td>\n      <td>-0.073535</td>\n      <td>0.017683</td>\n      <td>-0.033523</td>\n      <td>0.544341</td>\n      <td>0.221898</td>\n    </tr>\n    <tr>\n      <th>glucose</th>\n      <td>0.129459</td>\n      <td>1.000000</td>\n      <td>0.152590</td>\n      <td>0.057328</td>\n      <td>0.331357</td>\n      <td>0.221071</td>\n      <td>0.137337</td>\n      <td>0.263514</td>\n      <td>0.466581</td>\n    </tr>\n    <tr>\n      <th>bloodpressure</th>\n      <td>0.141282</td>\n      <td>0.152590</td>\n      <td>1.000000</td>\n      <td>0.207371</td>\n      <td>0.088933</td>\n      <td>0.281805</td>\n      <td>0.041265</td>\n      <td>0.239528</td>\n      <td>0.065068</td>\n    </tr>\n    <tr>\n      <th>skinthickness</th>\n      <td>-0.081672</td>\n      <td>0.057328</td>\n      <td>0.207371</td>\n      <td>1.000000</td>\n      <td>0.436783</td>\n      <td>0.392573</td>\n      <td>0.183928</td>\n      <td>-0.113970</td>\n      <td>0.074752</td>\n    </tr>\n    <tr>\n      <th>insulin</th>\n      <td>-0.073535</td>\n      <td>0.331357</td>\n      <td>0.088933</td>\n      <td>0.436783</td>\n      <td>1.000000</td>\n      <td>0.197859</td>\n      <td>0.185071</td>\n      <td>-0.042163</td>\n      <td>0.130548</td>\n    </tr>\n    <tr>\n      <th>bmi</th>\n      <td>0.017683</td>\n      <td>0.221071</td>\n      <td>0.281805</td>\n      <td>0.392573</td>\n      <td>0.197859</td>\n      <td>1.000000</td>\n      <td>0.140647</td>\n      <td>0.036242</td>\n      <td>0.292695</td>\n    </tr>\n    <tr>\n      <th>diabetespedigreefunction</th>\n      <td>-0.033523</td>\n      <td>0.137337</td>\n      <td>0.041265</td>\n      <td>0.183928</td>\n      <td>0.185071</td>\n      <td>0.140647</td>\n      <td>1.000000</td>\n      <td>0.033561</td>\n      <td>0.173844</td>\n    </tr>\n    <tr>\n      <th>age</th>\n      <td>0.544341</td>\n      <td>0.263514</td>\n      <td>0.239528</td>\n      <td>-0.113970</td>\n      <td>-0.042163</td>\n      <td>0.036242</td>\n      <td>0.033561</td>\n      <td>1.000000</td>\n      <td>0.238356</td>\n    </tr>\n    <tr>\n      <th>outcome</th>\n      <td>0.221898</td>\n      <td>0.466581</td>\n      <td>0.065068</td>\n      <td>0.074752</td>\n      <td>0.130548</td>\n      <td>0.292695</td>\n      <td>0.173844</td>\n      <td>0.238356</td>\n      <td>1.000000</td>\n    </tr>\n  </tbody>\n</table>\n</div>"
     },
     "metadata": {},
     "execution_count": 9
    }
   ],
   "source": [
    "diabetes_df.corr()"
   ]
  },
  {
   "source": [
    "OK, much less correlated than in the other dataset, which means we have a shot at a good prediction here."
   ],
   "cell_type": "markdown",
   "metadata": {}
  },
  {
   "cell_type": "code",
   "execution_count": 4,
   "metadata": {},
   "outputs": [],
   "source": [
    "X = diabetes_df.drop('outcome', axis=1)\n",
    "y = diabetes_df['outcome']\n",
    "\n",
    "X_train, X_test, y_train, y_test = train_test_split(X, y, test_size=0.2, random_state=0, shuffle=True)"
   ]
  },
  {
   "source": [
    "Now let's train the model, then generate some predictions and evaluate."
   ],
   "cell_type": "markdown",
   "metadata": {}
  },
  {
   "cell_type": "code",
   "execution_count": 5,
   "metadata": {},
   "outputs": [],
   "source": [
    "lreg = LogisticRegression(solver='liblinear', random_state=0)\n",
    "\n",
    "lreg.fit(X_train, y_train)\n",
    "\n",
    "predictions_lreg = lreg.predict(X_test)"
   ]
  },
  {
   "cell_type": "code",
   "execution_count": 9,
   "metadata": {},
   "outputs": [
    {
     "output_type": "stream",
     "name": "stdout",
     "text": [
      "Accuracy: 0.8181818181818182\nPrecision: 0.7567567567567568\nRecall: 0.5957446808510638\nROC AUC: 0.7558162656591767\n"
     ]
    }
   ],
   "source": [
    "print(\"Accuracy: {}\".format(accuracy_score(y_test, predictions_lreg)))\n",
    "\n",
    "print(\"Precision: {}\".format(precision_score(y_test, predictions_lreg)))\n",
    "\n",
    "print(\"Recall: {}\".format(recall_score(y_test, predictions_lreg)))\n",
    "\n",
    "print(\"ROC AUC: {}\".format(roc_auc_score(y_test, predictions_lreg)))\n",
    "\n"
   ]
  },
  {
   "cell_type": "code",
   "execution_count": null,
   "metadata": {},
   "outputs": [],
   "source": []
  }
 ]
}