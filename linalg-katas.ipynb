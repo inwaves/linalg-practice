{
 "cells": [
  {
   "cell_type": "markdown",
   "metadata": {},
   "source": [
    "## These are katas on linear algebra from [Codewars](https://codewars.com)\n",
    "\n",
    "### 1. Given two vectors, find the permutations of these vectors such that their dot product is minimal."
   ]
  },
  {
   "cell_type": "markdown",
   "metadata": {},
   "source": [
    "Reasoning: it's minimal only if the largest elements in one vector are multiplied by the smallest elements in the other. We achieve this by sorting one of the vectors in reverse order."
   ]
  },
  {
   "cell_type": "code",
   "execution_count": 1,
   "metadata": {},
   "outputs": [],
   "source": [
    "def dot(a, b):\n",
    "    \"\"\"Calculates the dot product of two vectors stored as Python lists\"\"\"\n",
    "    \n",
    "    if not (len(a) and len(b)):\n",
    "        raise Exception(\"One of the vectors is empty.\")\n",
    "        \n",
    "    res = 0\n",
    "    for i in range(0, len(a)):\n",
    "        res += a[i]*b[i]\n",
    "    return res\n",
    "\n",
    "def min_dot(a, b):\n",
    "    a.sort()\n",
    "    b.sort(reverse=True)\n",
    "    return dot(a, b)\n",
    "\n",
    "min_dot()"
   ]
  },
  {
   "cell_type": "markdown",
   "metadata": {},
   "source": [
    "### 2. Transmission in a matrix of given dimensions. See full kata [here](https://www.codewars.com/kata/59568be9cc15b57637000054)."
   ]
  },
  {
   "cell_type": "markdown",
   "metadata": {},
   "source": [
    "Naive solution below fails this test:\n",
    "`test.assert_equals(elder_age(28827050410, 35165045587, 7109602, 13719506), 5456283);`\n",
    "\n",
    "`ValueError: array is too big; arr.size * arr.dtype.itemsize is larger than the maximum possible size.`\n",
    "\n",
    "One hint is that the kata is tagged as dynamic programming, so we should probably split it into smaller sub-problems and use recursion somehow."
   ]
  },
  {
   "cell_type": "code",
   "execution_count": 17,
   "metadata": {},
   "outputs": [],
   "source": [
    "import numpy as np\n",
    "\n",
    "def elder_age(m, n, l, t):\n",
    "    \"\"\"parameters:\n",
    "        mxn matrix of \"worshippers\"\n",
    "        l : transmission loss (integer)\n",
    "        t : time steps (integer)\n",
    "    \"\"\"\n",
    "    A = np.zeros((m, n)) # starting with a zero matrix\n",
    "    for i in range(0, m):\n",
    "        for j in range(0, n):\n",
    "            A[i][j] = i ^ j # setting each element to XOR of coordinates\n",
    "            if A[i][j] >= l:\n",
    "                A[i][j] = (A[i][j]-l) # weakening signal and applying time \"format\"\n",
    "            else:\n",
    "                A[i][j] = 0 # transmission loss causes our signal to drop out\n",
    "    print(A)\n",
    "    return np.sum(A)%t"
   ]
  },
  {
   "cell_type": "code",
   "execution_count": 18,
   "metadata": {},
   "outputs": [
    {
     "ename": "ValueError",
     "evalue": "array is too big; `arr.size * arr.dtype.itemsize` is larger than the maximum possible size.",
     "output_type": "error",
     "traceback": [
      "\u001b[0;31m---------------------------------------------------------------------------\u001b[0m",
      "\u001b[0;31mValueError\u001b[0m                                Traceback (most recent call last)",
      "\u001b[0;32m<ipython-input-18-b9d4803fa0f6>\u001b[0m in \u001b[0;36m<module>\u001b[0;34m\u001b[0m\n\u001b[0;32m----> 1\u001b[0;31m \u001b[0mnp\u001b[0m\u001b[0;34m.\u001b[0m\u001b[0mzeros\u001b[0m\u001b[0;34m(\u001b[0m\u001b[0;34m(\u001b[0m\u001b[0;36m28827050410\u001b[0m\u001b[0;34m,\u001b[0m\u001b[0;36m35165045587\u001b[0m\u001b[0;34m)\u001b[0m\u001b[0;34m)\u001b[0m\u001b[0;34m\u001b[0m\u001b[0;34m\u001b[0m\u001b[0m\n\u001b[0m",
      "\u001b[0;31mValueError\u001b[0m: array is too big; `arr.size * arr.dtype.itemsize` is larger than the maximum possible size."
     ]
    }
   ],
   "source": [
    "np.zeros((28827050410,35165045587))"
   ]
  },
  {
   "cell_type": "code",
   "execution_count": null,
   "metadata": {},
   "outputs": [],
   "source": []
  }
 ],
 "metadata": {
  "kernelspec": {
   "display_name": "Python 3",
   "language": "python",
   "name": "python3"
  },
  "language_info": {
   "codemirror_mode": {
    "name": "ipython",
    "version": 3
   },
   "file_extension": ".py",
   "mimetype": "text/x-python",
   "name": "python",
   "nbconvert_exporter": "python",
   "pygments_lexer": "ipython3",
   "version": "3.8.5"
  }
 },
 "nbformat": 4,
 "nbformat_minor": 4
}
