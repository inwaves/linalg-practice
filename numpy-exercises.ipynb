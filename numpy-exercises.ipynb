{
 "cells": [
  {
   "cell_type": "markdown",
   "metadata": {},
   "source": [
    "# NumPy Linear Algebra exercises\n",
    "These are 19 pretty basic exercises found [here](https://www.w3resource.com/python-exercises/numpy/linear-algebra/index.php).  \n",
    "Before we start, let's include our packages."
   ]
  },
  {
   "cell_type": "code",
   "execution_count": 2,
   "metadata": {},
   "outputs": [],
   "source": [
    "import numpy as np"
   ]
  },
  {
   "cell_type": "markdown",
   "metadata": {},
   "source": [
    "### 1. Compute the multiplication of two given matrices.\n",
    "\n",
    "Things to think about:\n",
    "- how will the user input the matrices?\n",
    "- are we doing any validation of the input?\n",
    "- are there faster/cheaper ways to compute the product?\n",
    "- how do we output the result?\n",
    "- it doesn't mention that the matrix is two-dimensional; what if it's higher dimensional than that?"
   ]
  },
  {
   "cell_type": "code",
   "execution_count": 95,
   "metadata": {},
   "outputs": [],
   "source": [
    "def read_vector_matrix():\n",
    "    \"\"\"This function multiplies two matrices that are read from a file.\n",
    "    \"\"\"\n",
    "    filepath = input(\"Specify your filepath now:\")\n",
    "    with open(filepath) as f:\n",
    "        lines = f.read().splitlines()\n",
    "\n",
    "    mat1, mat2 = [], []\n",
    "\n",
    "    for line in lines[:lines.index(\"\")]:\n",
    "        mat1.append(line.split())\n",
    "\n",
    "    for line in lines[lines.index(\"\")+1:]:\n",
    "        mat2.append(line.split())\n",
    "        \n",
    "    if len(mat1) == 1:\n",
    "        mat1 = mat1[0]\n",
    "    if len(mat2) == 1:\n",
    "        mat2 = mat2[0]\n",
    "        \n",
    "    A = np.array(mat1, dtype=float)\n",
    "    B = np.array(mat2, dtype=float)\n",
    "    return (A, B)\n",
    "    \n",
    "def matmult():\n",
    "    if(A.shape[1] != B.shape[0]):\n",
    "        raise Exception(\"The dimensions for the matrices are mismatched: {}x{} and {}x{}\".format(A.shape[0], A.shape[1], B.shape[0], B.shape[1]))\n",
    "    return A@B"
   ]
  },
  {
   "cell_type": "markdown",
   "metadata": {},
   "source": [
    "### 2. Compute the outer product, the cross product and the inner product of two given vectors"
   ]
  },
  {
   "cell_type": "markdown",
   "metadata": {},
   "source": [
    "Issues:\n",
    "- in the `outer_product()` function below, how do we validate that the input consists of two vectors, i.e. not a vector and a matrix or two matrices? (probably something to do with ndim, size and shape, but how?)"
   ]
  },
  {
   "cell_type": "code",
   "execution_count": 103,
   "metadata": {},
   "outputs": [],
   "source": [
    "def outer_product():\n",
    "    \"\"\" Calculate the outer product of two vectors.\n",
    "        Vector dimensions must be mx1 and 1xn, respectively.\n",
    "    \"\"\"\n",
    "    x, y = read_vector_matrix()\n",
    "    \n",
    "    A = np.zeros((x.shape[0], y.shape[0]))\n",
    "    for i in range(0, x.shape[0]):\n",
    "        for j in range(0, x.shape[0]):\n",
    "#             print(\"A[{}][{}] = {} * {}\".format(i, j, x[i][0], y[j]))\n",
    "            A[i][j] = x[i] * y[j]\n",
    "    return A"
   ]
  },
  {
   "cell_type": "code",
   "execution_count": 108,
   "metadata": {},
   "outputs": [],
   "source": [
    "def cross_product():\n",
    "    x, y = read_vector_matrix()\n",
    "    # cross product is only defined in R3 so we should validate vector dimensions\n",
    "    if x.size != 3 or y.size != 3:\n",
    "        raise Exception(\"One of the vectors is not in R3\")\n",
    "    return np.array([x[1]*y[2]-x[2]*y[1], y[0]*x[2]-x[0]*y[2], x[0]*y[1]-y[0]*x[1]])"
   ]
  },
  {
   "cell_type": "code",
   "execution_count": 120,
   "metadata": {},
   "outputs": [],
   "source": [
    "def dot_product():\n",
    "    x, y = read_vector_matrix()\n",
    "    \n",
    "    print(len(y.shape))\n",
    "    if (len(x.shape) < 2 or len(y.shape) < 2):\n",
    "        raise Exception(\"Dimension mismatch between vectors: {}, {}\".format(x.shape, y.shape))\n",
    "        \n",
    "    product = 0\n",
    "    for i in range(0, x.shape[0]):\n",
    "        product += x[i]*y[i]\n",
    "        \n",
    "    print(product)"
   ]
  },
  {
   "cell_type": "markdown",
   "metadata": {},
   "source": [
    "### 3. Compute the determinant of a "
   ]
  },
  {
   "cell_type": "code",
   "execution_count": 111,
   "metadata": {},
   "outputs": [
    {
     "data": {
      "text/plain": [
       "2"
      ]
     },
     "execution_count": 111,
     "metadata": {},
     "output_type": "execute_result"
    }
   ],
   "source": [
    "np.array([[1], [2], [3]]).ndim"
   ]
  },
  {
   "cell_type": "markdown",
   "metadata": {},
   "source": [
    "### 4. Compute the eigenvalues and right eigenvectors of a square matrix"
   ]
  },
  {
   "cell_type": "code",
   "execution_count": null,
   "metadata": {},
   "outputs": [],
   "source": []
  },
  {
   "cell_type": "markdown",
   "metadata": {},
   "source": [
    "### 5. Reimplement the vector norms L1 and L2. Reimplement the Frobenius norm for matrices."
   ]
  },
  {
   "cell_type": "code",
   "execution_count": null,
   "metadata": {},
   "outputs": [],
   "source": []
  },
  {
   "cell_type": "markdown",
   "metadata": {},
   "source": [
    "### 6. Compute the inverse of a square matrix"
   ]
  },
  {
   "cell_type": "code",
   "execution_count": null,
   "metadata": {},
   "outputs": [],
   "source": []
  },
  {
   "cell_type": "markdown",
   "metadata": {},
   "source": [
    "### 7. Compute the trace of a matrix"
   ]
  },
  {
   "cell_type": "code",
   "execution_count": null,
   "metadata": {},
   "outputs": [],
   "source": []
  },
  {
   "cell_type": "markdown",
   "metadata": {},
   "source": [
    "### 8. Compute the QR decomposition of a matrix"
   ]
  },
  {
   "cell_type": "code",
   "execution_count": null,
   "metadata": {},
   "outputs": [],
   "source": []
  },
  {
   "cell_type": "markdown",
   "metadata": {},
   "source": [
    "### 9. Compute the condition number of a matrix"
   ]
  },
  {
   "cell_type": "code",
   "execution_count": null,
   "metadata": {},
   "outputs": [],
   "source": []
  },
  {
   "cell_type": "markdown",
   "metadata": {},
   "source": [
    "### 10. Compute the factor of a matrix via singular value decomposition"
   ]
  },
  {
   "cell_type": "code",
   "execution_count": null,
   "metadata": {},
   "outputs": [],
   "source": []
  }
 ],
 "metadata": {
  "kernelspec": {
   "display_name": "Python 3",
   "language": "python",
   "name": "python3"
  },
  "language_info": {
   "codemirror_mode": {
    "name": "ipython",
    "version": 3
   },
   "file_extension": ".py",
   "mimetype": "text/x-python",
   "name": "python",
   "nbconvert_exporter": "python",
   "pygments_lexer": "ipython3",
   "version": "3.8.5"
  }
 },
 "nbformat": 4,
 "nbformat_minor": 4
}
