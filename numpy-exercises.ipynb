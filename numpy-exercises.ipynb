{
 "cells": [
  {
   "cell_type": "markdown",
   "metadata": {},
   "source": [
    "# NumPy Linear Algebra exercises\n",
    "These are 19 pretty basic exercises found [here](https://www.w3resource.com/python-exercises/numpy/linear-algebra/index.php).  \n",
    "Before we start, let's include our packages."
   ]
  },
  {
   "cell_type": "code",
   "execution_count": 1,
   "metadata": {},
   "outputs": [],
   "source": [
    "import numpy as np\n",
    "import numpy.linalg as la\n",
    "import math\n",
    "\n",
    "def transpose(A):\n",
    "    \"\"\"Computes the transpose of a matrix A:mxn\"\"\"\n",
    "    transp = np.zeros((A.shape[1], A.shape[0]))\n",
    "    for i in range(0, A.shape[0]):\n",
    "        for j in range(0, A.shape[1]):\n",
    "            transp[j][i] = A[i][j]\n",
    "    return transp"
   ]
  },
  {
   "cell_type": "markdown",
   "metadata": {},
   "source": [
    "### 1. Compute the multiplication of two given matrices.\n",
    "\n",
    "Things to think about:\n",
    "- how will the user input the matrices?\n",
    "- are we doing any validation of the input?\n",
    "- are there faster/cheaper ways to compute the product?\n",
    "- how do we output the result?\n",
    "- it doesn't mention that the matrix is two-dimensional; what if it's higher dimensional than that?"
   ]
  },
  {
   "cell_type": "code",
   "execution_count": 4,
   "metadata": {},
   "outputs": [
    {
     "name": "stdin",
     "output_type": "stream",
     "text": [
      "Specify your filepath now: matrix.txt\n"
     ]
    },
    {
     "data": {
      "text/plain": [
       "array([[12., 15., 18.],\n",
       "       [30., 36., 42.],\n",
       "       [52., 62., 72.]])"
      ]
     },
     "execution_count": 4,
     "metadata": {},
     "output_type": "execute_result"
    }
   ],
   "source": [
    "def read_vector_matrix(switch):\n",
    "    \"\"\"\n",
    "    This function reads two matrices/vectors from a file. \n",
    "    There should be no more, no less than two matrices/vectors, separated by a newline.\n",
    "    \"\"\"\n",
    "    filepath = input(\"Specify your filepath now:\")\n",
    "    with open(filepath) as f:\n",
    "        lines = f.read().lstrip().rstrip().splitlines() # getting rid of leading/trailing spaces and newlines\n",
    "        \n",
    "    mat1, mat2 = [], []\n",
    "    \n",
    "    for line in lines[:lines.index(\"\") if \"\" in lines else len(lines)]:\n",
    "            mat1.append(line.split())\n",
    "    A = np.array(mat1, dtype=float)\n",
    "    \n",
    "    if switch==1:\n",
    "        return A\n",
    "        \n",
    "    if switch==2:\n",
    "        if(lines.count(\"\")>1):\n",
    "            raise Exception(\"There are more than two matrices/vectors in the file!\")\n",
    "\n",
    "        for line in lines[lines.index(\"\")+1:]:\n",
    "            mat2.append(line.split())\n",
    "        B = np.array(mat2, dtype=float)\n",
    "        \n",
    "        return (A, B)\n",
    "    \n",
    "def matmult(t):\n",
    "    A, B = t[0], t[1]\n",
    "    if(A.shape[1] != B.shape[0]):\n",
    "        raise Exception(\"The dimensions for the matrices are mismatched: {}x{} and {}x{}\".format(A.shape[0], A.shape[1], B.shape[0], B.shape[1]))\n",
    "    return A@B\n",
    "\n",
    "matmult(read_vector_matrix(2))"
   ]
  },
  {
   "cell_type": "markdown",
   "metadata": {},
   "source": [
    "### 2. Compute the outer product, the cross product and the inner product of two given vectors"
   ]
  },
  {
   "cell_type": "markdown",
   "metadata": {},
   "source": [
    "Issues:\n",
    "- in the `outer_product()` function below, how do we validate that the input consists of two vectors, i.e. not a vector and a matrix or two matrices? (probably something to do with ndim, size and shape, but how?)"
   ]
  },
  {
   "cell_type": "code",
   "execution_count": 204,
   "metadata": {},
   "outputs": [],
   "source": [
    "def pad(a):\n",
    "    \"\"\" Prints data for a matrix/vector.\n",
    "    \"\"\"\n",
    "    print(a)\n",
    "    print(\"{:>12} {:>6}\".format(\"Dimensions: \", a.ndim))\n",
    "    print(\"{:>12} {:>6}\".format(\"Size: \", a.size))\n",
    "    print(\"{:>12} {:>6} \\n\".format(\"Shape: \", str(a.shape)))\n",
    "\n",
    "def valid_vector(x):\n",
    "    \"\"\" This function validates that the argument provided to it is a vector.\n",
    "    \"\"\"\n",
    "    return x.ndim == 2 and (x.shape[0]==1 or x.shape[1]==1)\n",
    "    \n",
    "def outer_product():\n",
    "    \"\"\" Calculate the outer product of two vectors.\n",
    "        Vector dimensions must be mx1 and 1xn, respectively.\n",
    "    \"\"\"\n",
    "    x, y = read_vector_matrix(2)\n",
    "    if not (valid_vector(x) and valid_vector(y)):\n",
    "        raise Exception(\"Please ensure that the input to this function is two vectors.\")\n",
    "    \n",
    "    A = np.zeros((x.shape[0], x.shape[0]))\n",
    "    for i in range(0, x.shape[0]):\n",
    "        for j in range(0, x.shape[0]):\n",
    "#             print(\"A[{}][{}] = {} * {}\".format(i, j, x[i][0], y[0][j]))\n",
    "            A[i][j] = x[i][0] * y[0][j]\n",
    "    return A"
   ]
  },
  {
   "cell_type": "code",
   "execution_count": 163,
   "metadata": {},
   "outputs": [],
   "source": [
    "def cross_product():\n",
    "    x, y = read_vector_matrix(2)\n",
    "    # cross product is only defined in R3 so we should validate vector dimensions\n",
    "    if x.size != 3 or y.size != 3:\n",
    "        raise Exception(\"One of the vectors is not in R3\")\n",
    "    return np.array([x[1]*y[2]-x[2]*y[1], y[0]*x[2]-x[0]*y[2], x[0]*y[1]-y[0]*x[1]])"
   ]
  },
  {
   "cell_type": "code",
   "execution_count": 164,
   "metadata": {},
   "outputs": [],
   "source": [
    "def dot_product():\n",
    "    x, y = read_vector_matrix(2)\n",
    "    \n",
    "    print(len(y.shape))\n",
    "    if (len(x.shape) < 2 or len(y.shape) < 2):\n",
    "        raise Exception(\"Dimension mismatch between vectors: {}, {}\".format(x.shape, y.shape))\n",
    "        \n",
    "    product = 0\n",
    "    for i in range(0, x.shape[0]):\n",
    "        product += x[i]*y[i]\n",
    "        \n",
    "    print(product)"
   ]
  },
  {
   "cell_type": "markdown",
   "metadata": {},
   "source": [
    "### 3. Compute the determinant of a square matrix"
   ]
  },
  {
   "cell_type": "markdown",
   "metadata": {},
   "source": [
    "Things that we will need:\n",
    "- a function which takes a matrix and a tuple `(r, c)` and removes the column `c` and row `r`. We will use `np.delete(array, object_to_delete, axis)` to do so.\n",
    "\n",
    "Let A = [[1, 1, 1], [1, 2, 3], [1, 4, 5]]\n",
    "j = 1\n",
    "for i from 1 to 3:\n",
    "- (-1)^1+1 * a_11 |A11|\n",
    "- (-1)^2+1 * a_21 |A21|\n",
    "- (-1)^3+1 * a_31 |A31|"
   ]
  },
  {
   "cell_type": "code",
   "execution_count": 181,
   "metadata": {},
   "outputs": [],
   "source": [
    "def remove_col_row(A, t):\n",
    "    \"\"\" This function takes as arguments a square matrix and a tuple (r, c).\n",
    "        It returns another square matrix, B, which is the result of removing row r and column c from A.\n",
    "    \"\"\"\n",
    "    A = np.delete(A, t[0], 0) # remove the row \n",
    "    return np.delete(A, t[1], 1) # remove the column\n",
    "\n",
    "def det(A):\n",
    "    \"\"\"This function computes the determinant of a matrix received as a parameter\n",
    "        input A : array_like\n",
    "            a square matrix\n",
    "    \"\"\"\n",
    "    if A.ndim < 2 and not A.shape[0]==A.shape[1]:\n",
    "        raise Exception(\"Input must be a square matrix.\")\n",
    "        \n",
    "    if A.size == 1: # reached the end of the recursion—the det of a single element is itself\n",
    "        return A[0][0] \n",
    "    \n",
    "    res = 0\n",
    "    for i in range(0, A.shape[0]):\n",
    "        res = res + math.pow(-1, i+2)*A[i][0]*det(remove_col_row(A, (i, 0)))\n",
    "    \n",
    "    return res"
   ]
  },
  {
   "cell_type": "markdown",
   "metadata": {},
   "source": [
    "### 4. Compute the eigenvalues and right eigenvectors of a square matrix"
   ]
  },
  {
   "cell_type": "markdown",
   "metadata": {},
   "source": [
    "Formula is: Av = λv (v is a right eigenvector, lambda is an eigenvalue)"
   ]
  },
  {
   "cell_type": "code",
   "execution_count": null,
   "metadata": {},
   "outputs": [],
   "source": []
  },
  {
   "cell_type": "markdown",
   "metadata": {},
   "source": [
    "### 5. Reimplement the vector norms L1 and L2. Reimplement the Frobenius norm for matrices."
   ]
  },
  {
   "cell_type": "markdown",
   "metadata": {},
   "source": [
    "$$ \\displaystyle \\|A\\|_{\\text{F}}={\\sqrt {\\sum _{i=1}^{m}\\sum _{j=1}^{n}|a_{ij}|^{2}}}={\\sqrt {\\operatorname {trace} \\left(A^{*}A\\right)}}={\\sqrt {\\sum _{i=1}^{\\min\\{m,n\\}}\\sigma _{i}^{2}(A)}} $$"
   ]
  },
  {
   "cell_type": "code",
   "execution_count": 210,
   "metadata": {},
   "outputs": [],
   "source": [
    "def p_norm(v, p):\n",
    "    \"\"\"Calculates the p-norm of the vector v. p = 1 is the l1 norm, p = 2 is the Euclidean norm\"\"\"\n",
    "    s = 0\n",
    "    \n",
    "    if v.shape[0]==1:\n",
    "        v = v[0]\n",
    "        \n",
    "    for item in v:\n",
    "        print(item)\n",
    "        s = s + math.pow(item, p)\n",
    "        \n",
    "    return math.pow(s, 1/p)\n",
    "\n",
    "def frobenius(A):\n",
    "    \"\"\"Calculates the Frobenius norm of a matrix A: mxn\"\"\"\n",
    "    return math.sqrt(trace(matmult(transpose(A), A)))"
   ]
  },
  {
   "cell_type": "markdown",
   "metadata": {},
   "source": [
    "### 6. Compute the inverse of a square matrix"
   ]
  },
  {
   "cell_type": "markdown",
   "metadata": {},
   "source": [
    "We'll use:\n",
    "$A^{-1} = \\frac{1}{detA}\\cdot A_{adj}$ (where A_adj is the classical adjoint of A)"
   ]
  },
  {
   "cell_type": "code",
   "execution_count": 185,
   "metadata": {},
   "outputs": [],
   "source": [
    "def inverse(A):\n",
    "    \"\"\"This function computes the inverse of a matrix received as a parameter.\n",
    "        input A : array_like\n",
    "            a square matrix\n",
    "    \"\"\"\n",
    "    \n",
    "    if A.ndim < 2 and not A.shape[0]==A.shape[1]:\n",
    "        raise Exception(\"Input must be a square matrix.\")\n",
    "    \n",
    "    d = det(A)\n",
    "    if (d==0):\n",
    "        raise Exception(\"Cannot calculate the inverse of a singular matrix.\")\n",
    "        \n",
    "    A_adj = np.zeros(A.shape)\n",
    "    for j in range(0, A.shape[0]):\n",
    "        for i in range(0, A.shape[0]):\n",
    "            A_adj[j][i] = math.pow(-1, i+j)*det(remove_col_row(A, (i, j)))\n",
    "    return A_adj/d"
   ]
  },
  {
   "cell_type": "markdown",
   "metadata": {},
   "source": [
    "### 7. Compute the trace of a matrix"
   ]
  },
  {
   "cell_type": "code",
   "execution_count": 2,
   "metadata": {},
   "outputs": [],
   "source": [
    "def trace(A):\n",
    "    \"\"\"Calculates the trace of a matrix A:nxn\"\"\"\n",
    "    tr = 0\n",
    "    for i in range(0, A.shape[0]):\n",
    "        tr += A[i][i]\n",
    "    return tr"
   ]
  },
  {
   "cell_type": "markdown",
   "metadata": {},
   "source": [
    "### 8. Compute the QR decomposition of a matrix"
   ]
  },
  {
   "cell_type": "code",
   "execution_count": null,
   "metadata": {},
   "outputs": [],
   "source": []
  },
  {
   "cell_type": "markdown",
   "metadata": {},
   "source": [
    "### 9. Compute the condition number of a matrix"
   ]
  },
  {
   "cell_type": "code",
   "execution_count": null,
   "metadata": {},
   "outputs": [],
   "source": []
  },
  {
   "cell_type": "markdown",
   "metadata": {},
   "source": [
    "### 10. Compute the factor of a matrix via singular value decomposition"
   ]
  },
  {
   "cell_type": "code",
   "execution_count": 2,
   "metadata": {},
   "outputs": [
    {
     "data": {
      "text/plain": [
       "0.8660254037844387"
      ]
     },
     "execution_count": 2,
     "metadata": {},
     "output_type": "execute_result"
    }
   ],
   "source": [
    "math.cos(math.pi/6)"
   ]
  },
  {
   "cell_type": "code",
   "execution_count": 3,
   "metadata": {},
   "outputs": [
    {
     "data": {
      "text/plain": [
       "1.7320508075688774"
      ]
     },
     "execution_count": 3,
     "metadata": {},
     "output_type": "execute_result"
    }
   ],
   "source": [
    "math.cos(math.pi/6)*2"
   ]
  },
  {
   "cell_type": "code",
   "execution_count": 4,
   "metadata": {},
   "outputs": [
    {
     "data": {
      "text/plain": [
       "1.7320508075688772"
      ]
     },
     "execution_count": 4,
     "metadata": {},
     "output_type": "execute_result"
    }
   ],
   "source": [
    "math.sqrt(3)"
   ]
  },
  {
   "cell_type": "code",
   "execution_count": 7,
   "metadata": {},
   "outputs": [
    {
     "data": {
      "text/plain": [
       "0.1339745962155613"
      ]
     },
     "execution_count": 7,
     "metadata": {},
     "output_type": "execute_result"
    }
   ],
   "source": [
    "1-math.sqrt(math.pow(math.cos(math.pi/6), 2))"
   ]
  },
  {
   "cell_type": "code",
   "execution_count": null,
   "metadata": {},
   "outputs": [],
   "source": []
  }
 ],
 "metadata": {
  "kernelspec": {
   "display_name": "Python 3",
   "language": "python",
   "name": "python3"
  },
  "language_info": {
   "codemirror_mode": {
    "name": "ipython",
    "version": 3
   },
   "file_extension": ".py",
   "mimetype": "text/x-python",
   "name": "python",
   "nbconvert_exporter": "python",
   "pygments_lexer": "ipython3",
   "version": "3.8.5"
  }
 },
 "nbformat": 4,
 "nbformat_minor": 4
}
